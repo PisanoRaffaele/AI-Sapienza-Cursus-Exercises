{
  "cells": [
    {
      "cell_type": "markdown",
      "metadata": {
        "id": "2Sx2ipk9hZay"
      },
      "source": [
        "<a href=\"https://colab.research.google.com/github/Sapienza-AI-Lab/esercitazione6-22-23/blob/main/Exercise3.ipynb\"><img align=\"left\" src=\"https://colab.research.google.com/assets/colab-badge.svg\" alt=\"Open in Colab\" title=\"Open and Execute in Google Colaboratory\"></a>"
      ]
    },
    {
      "cell_type": "markdown",
      "metadata": {
        "id": "sJTvSdgvhZa5"
      },
      "source": [
        "# Esercizio 3\n",
        "Task 1: Ripetete l'esercizio 2, questa volta applicato al dataset MNIST.\n",
        "\n",
        "Task 2: Visualizzate i coefficienti del modello ottenuto per ogni classe."
      ]
    },
    {
      "cell_type": "code",
      "execution_count": 26,
      "metadata": {
        "id": "-z4V9e_ShZa8"
      },
      "outputs": [],
      "source": [
        "from pathlib import Path\n",
        "from sklearn.datasets import fetch_openml\n",
        "from sklearn.linear_model import LogisticRegression\n",
        "from sklearn.metrics import accuracy_score, confusion_matrix\n",
        "import time\n",
        "import matplotlib.pyplot as plt\n",
        "import seaborn as sns\n",
        "import pandas as pd\n",
        "import numpy as np"
      ]
    },
    {
      "cell_type": "markdown",
      "metadata": {
        "id": "xfcyqPmJhZbA"
      },
      "source": [
        "### Caricamento del dataset"
      ]
    },
    {
      "cell_type": "code",
      "execution_count": 27,
      "metadata": {
        "id": "9ODu78QVhZbB",
        "outputId": "20990e2a-9ff5-4227-cb52-c74d18352240",
        "colab": {
          "base_uri": "https://localhost:8080/"
        }
      },
      "outputs": [
        {
          "output_type": "stream",
          "name": "stderr",
          "text": [
            "/usr/local/lib/python3.10/dist-packages/sklearn/datasets/_openml.py:968: FutureWarning: The default value of `parser` will change from `'liac-arff'` to `'auto'` in 1.4. You can set `parser='auto'` to silence this warning. Therefore, an `ImportError` will be raised from 1.4 if the dataset is dense and pandas is not installed. Note that the pandas parser may return different data types. See the Notes Section in fetch_openml's API doc for details.\n",
            "  warn(\n"
          ]
        }
      ],
      "source": [
        "class MNISTDataset:\n",
        "    def __init__(self, train_size=60000, test_size=10000):\n",
        "        # load data\n",
        "        mnist = fetch_openml('mnist_784', version=1, cache=True, data_home=Path('data/openml'))\n",
        "        mnist.target = mnist.target.astype(int)\n",
        "        # mnist test data is in the last 10k samples\n",
        "        self.train_x = mnist.data[:train_size]\n",
        "        self.train_y = mnist.target[:train_size]\n",
        "        self.test_x = mnist.data[-test_size:]\n",
        "        self.test_y = mnist.target[-test_size:]\n",
        "        # normalize data\n",
        "        self.train_x = self.train_x / 255.0\n",
        "        self.test_x = self.test_x / 255.0\n",
        "\n",
        "    def get_train_data(self):\n",
        "        return self.train_x, self.train_y\n",
        "\n",
        "    def get_test_data(self):\n",
        "        return self.test_x, self.test_y\n",
        "\n",
        "\n",
        "# Load MNIST data\n",
        "mnist = MNISTDataset()\n",
        "test_x, test_y = mnist.get_test_data()\n",
        "train_x, train_y = mnist.get_train_data()"
      ]
    },
    {
      "cell_type": "markdown",
      "metadata": {
        "id": "DvpmrpfZhZbD"
      },
      "source": [
        "### Task 1"
      ]
    },
    {
      "cell_type": "code",
      "execution_count": 29,
      "metadata": {
        "id": "qOswhDWfhZbE"
      },
      "outputs": [],
      "source": [
        "# Train logistic regression model\n",
        "# Tip: use multi_class='multinomial'\n",
        "model = LogisticRegression(multi_class='multinomial')"
      ]
    },
    {
      "cell_type": "code",
      "source": [
        "model.fit(train_x, train_y)"
      ],
      "metadata": {
        "id": "0R8FoyGQzRCz"
      },
      "execution_count": null,
      "outputs": []
    },
    {
      "cell_type": "code",
      "execution_count": null,
      "metadata": {
        "id": "2P6CA2ZwhZbF"
      },
      "outputs": [],
      "source": [
        "# Predict on test set\n",
        "pred_y = model.predict(test_x)"
      ]
    },
    {
      "cell_type": "code",
      "execution_count": null,
      "metadata": {
        "id": "rFa6w8nahZbH"
      },
      "outputs": [],
      "source": [
        "# Evaluate accuracy\n",
        "accuracy = accuracy_score(test_y, pred_y)\n",
        "print(\"acc: \" + str(accuracy))"
      ]
    },
    {
      "cell_type": "code",
      "execution_count": null,
      "metadata": {
        "id": "VaYtfSW5hZbH"
      },
      "outputs": [],
      "source": [
        "# Plot some predictions\n",
        "fig, axes = plt.subplots(2, 5)\n",
        "for i in range(2):\n",
        "    for j in range(5):\n",
        "        axes[i, j].imshow(test_x.iloc[i * 5 + j, :].values.reshape(28, 28), cmap='gray')\n",
        "        axes[i, j].set_title('pred = ' + str(pred_y[i * 5 + j]))\n",
        "        axes[i, j].axis('off')\n",
        "plt.show()"
      ]
    },
    {
      "cell_type": "code",
      "execution_count": null,
      "metadata": {
        "id": "Yv5U9evIhZbI"
      },
      "outputs": [],
      "source": [
        "# Plot confusion matrix\n",
        "cm = confusion_matrix(test_y, pred_y)\n",
        "df_cm = pd.DataFrame(cm, index=range(10), columns=range(10))\n",
        "plt.figure(figsize=(10, 7))\n",
        "sns.heatmap(df_cm, annot=True)\n",
        "plt.show()"
      ]
    },
    {
      "cell_type": "code",
      "execution_count": null,
      "metadata": {
        "id": "oFfyC1ZOhZbJ"
      },
      "outputs": [],
      "source": [
        "# Plot some misclassified samples and their true labels\n",
        "misclassified = np.where(pred_y != test_y)[0]\n",
        "fig, axes = plt.subplots(2, 5)\n",
        "for i in range(2):\n",
        "    for j in range(5):\n",
        "        axes[i, j].imshow(test_x.iloc[misclassified[i * 5 + j], :].values.reshape(28, 28), cmap='gray')\n",
        "        axes[i, j].set_title('pred = ' + str(pred_y[misclassified[i * 5 + j]]) + '\\n true = ' + str(test_y.iloc[misclassified[i * 5 + j]]))\n",
        "        axes[i, j].axis('off')\n",
        "plt.tight_layout()\n",
        "plt.show()"
      ]
    },
    {
      "cell_type": "markdown",
      "metadata": {
        "id": "4GTP3521hZbK"
      },
      "source": [
        "### Task 2"
      ]
    },
    {
      "cell_type": "code",
      "execution_count": null,
      "metadata": {
        "id": "tDdOuCJChZbK"
      },
      "outputs": [],
      "source": [
        "import matplotlib.pyplot as plt\n",
        "\n",
        "image_width = 28\n",
        "image_height = 28\n",
        "n_classes = 10\n",
        "\n",
        "# Reshape coefficients for each class into image shape\n",
        "coef_images = model.coef_.reshape(-1, image_width, image_height)\n",
        "\n",
        "# Plot coefficient images for each class\n",
        "fig, axes = plt.subplots(5, 2, figsize=(6, 12))\n",
        "for i, ax in enumerate(axes.flatten()):\n",
        "    ax.imshow(coef_images[i])\n",
        "    ax.set_title(f\"Coefficients for Class {i}\")\n",
        "    ax.axis('off')\n",
        "plt.tight_layout()\n",
        "plt.show()"
      ]
    }
  ],
  "metadata": {
    "kernelspec": {
      "display_name": "PyTorch",
      "language": "python",
      "name": "python3"
    },
    "language_info": {
      "codemirror_mode": {
        "name": "ipython",
        "version": 3
      },
      "file_extension": ".py",
      "mimetype": "text/x-python",
      "name": "python",
      "nbconvert_exporter": "python",
      "pygments_lexer": "ipython3",
      "version": "3.10.8"
    },
    "orig_nbformat": 4,
    "colab": {
      "provenance": []
    }
  },
  "nbformat": 4,
  "nbformat_minor": 0
}