{
  "cells": [
    {
      "cell_type": "markdown",
      "metadata": {
        "id": "view-in-github",
        "colab_type": "text"
      },
      "source": [
        "<a href=\"https://colab.research.google.com/github/PisanoRaffaele/Lab_AI/blob/main/QuickDrawCNN.ipynb\" target=\"_parent\"><img src=\"https://colab.research.google.com/assets/colab-badge.svg\" alt=\"Open In Colab\"/></a>"
      ]
    },
    {
      "cell_type": "markdown",
      "metadata": {
        "id": "QhztrNN1a6G9"
      },
      "source": [
        "# **Preambolo**\n"
      ]
    },
    {
      "cell_type": "markdown",
      "metadata": {
        "id": "w8jjDgZVcoyA"
      },
      "source": [
        "##Librerie"
      ]
    },
    {
      "cell_type": "code",
      "execution_count": 4,
      "metadata": {
        "colab": {
          "base_uri": "https://localhost:8080/"
        },
        "id": "B7k7_xUDegD-",
        "outputId": "a30c429b-53ad-4060-abc5-2c10ffbb6e59"
      },
      "outputs": [
        {
          "output_type": "stream",
          "name": "stdout",
          "text": [
            "Looking in indexes: https://pypi.org/simple, https://us-python.pkg.dev/colab-wheels/public/simple/\n",
            "Requirement already satisfied: wget in /usr/local/lib/python3.10/dist-packages (3.2)\n"
          ]
        }
      ],
      "source": [
        "!pip3 install wget\n",
        "#!pip install tensorrt\n",
        "\n",
        "#import tensorrt\n",
        "import wget\n",
        "import os\n",
        "import numpy\n",
        "import matplotlib.pyplot as pyplot # for visualization of dataset\n",
        "import random\n",
        "from types import SimpleNamespace\n",
        "from pathlib import Path\n",
        "\n",
        "\n",
        "# PyTorch Lightning\n",
        "import torch\n",
        "import torch.nn as nn\n",
        "\n",
        "try:\n",
        "    import pytorch_lightning as pl\n",
        "except ModuleNotFoundError: # Google Colab does not have PyTorch Lightning installed by default.\n",
        "    !pip install --quiet pytorch-lightning>=1.5\n",
        "    import pytorch_lightning as pl\n",
        "\n",
        "import torch.utils.data as data\n",
        "import torch.optim as optim\n",
        "\n",
        "# Torchvision\n",
        "import torchvision\n",
        "from torchvision import transforms\n",
        "from torchvision import datasets\n"
      ]
    },
    {
      "cell_type": "markdown",
      "metadata": {
        "id": "CQ-jxRKJ9lDv"
      },
      "source": [
        "## path modelli e seed"
      ]
    },
    {
      "cell_type": "code",
      "execution_count": 5,
      "metadata": {
        "id": "-0Yxs9JT9ksT"
      },
      "outputs": [],
      "source": [
        "# Path to the folder where the pretrained models are saved\n",
        "CHECKPOINT_PATH = \"../saved_models/\"\n",
        "\n",
        "# Create checkpoint path if it doesn't exist yet\n",
        "os.makedirs(CHECKPOINT_PATH, exist_ok=True)"
      ]
    },
    {
      "cell_type": "markdown",
      "metadata": {
        "id": "UkC4eWMsa4qa"
      },
      "source": [
        "Impostare il seed su PyTorch significa stabilire un valore iniziale per il generatore di numeri casuali. Questo consente di ottenere risultati riproducibili durante l'esecuzione di codice che coinvolge operazioni casuali, come l'inizializzazione dei pesi di un modello o la suddivisione di un dataset in training e test set."
      ]
    },
    {
      "cell_type": "code",
      "execution_count": 6,
      "metadata": {
        "id": "RIwknkQta346",
        "colab": {
          "base_uri": "https://localhost:8080/"
        },
        "outputId": "ff734b7e-d736-43dc-e984-02c26b6b6aff"
      },
      "outputs": [
        {
          "output_type": "stream",
          "name": "stderr",
          "text": [
            "INFO:lightning_fabric.utilities.seed:Global seed set to 42\n"
          ]
        }
      ],
      "source": [
        "def set_seed(seed):\n",
        "    random.seed(seed)\n",
        "    numpy.random.seed(seed)\n",
        "    torch.manual_seed(seed)\n",
        "    if torch.cuda.is_available():\n",
        "        torch.cuda.manual_seed(seed)\n",
        "        torch.cuda.manual_seed_all(seed)\n",
        "\n",
        "    pl.seed_everything(seed)\n",
        "\n",
        "set_seed(42)"
      ]
    },
    {
      "cell_type": "code",
      "execution_count": 7,
      "metadata": {
        "id": "9kuVYpyTiGcH"
      },
      "outputs": [],
      "source": [
        "# garantisce il determinismo delle operazioni eseguite sulla GPU (se disponibile) in modo da ottenere risultati riproducibili.\n",
        "torch.backends.cudnn.deterministic = True\n",
        "torch.backends.cudnn.benchmark = False\n",
        "\n",
        "device = torch.device(\"cuda:0\") if torch.cuda.is_available() else torch.device(\"cpu\")"
      ]
    },
    {
      "cell_type": "markdown",
      "metadata": {
        "id": "kzPIhqDZbRr-"
      },
      "source": [
        "## Dataset"
      ]
    },
    {
      "cell_type": "markdown",
      "metadata": {
        "id": "qOU8PU4D2XlB"
      },
      "source": [
        "###download"
      ]
    },
    {
      "cell_type": "code",
      "execution_count": 8,
      "metadata": {
        "id": "ixMlmzH7PgER"
      },
      "outputs": [],
      "source": [
        "dataset_url = \"https://storage.googleapis.com/quickdraw_dataset/full/numpy_bitmap/\"\n",
        "\n",
        "categories = [\"airplane\", \"car\", \"apple\"]\n",
        "\n",
        "for category in categories:\n",
        "  if not os.path.exists(str(category) + \".npy\"):\n",
        "    category_url = dataset_url + str(category) + \".npy\"\n",
        "\n",
        "    wget.download(url = category_url, out = \"\")\n",
        "  else:\n",
        "    print(category + \" dataset already downloaded\")"
      ]
    },
    {
      "cell_type": "markdown",
      "metadata": {
        "id": "eqZshirPM-2n"
      },
      "source": [
        "\"https://console.cloud.google.com/storage/browser/quickdraw_dataset/full/numpy_bitmap/\""
      ]
    },
    {
      "cell_type": "code",
      "execution_count": 9,
      "metadata": {
        "id": "bIJvVLnU4mu0"
      },
      "outputs": [],
      "source": [
        "classesDictonary = {}\n",
        "\n",
        "for category in categories:\n",
        "  classesDictonary[category] = numpy.load(str(category) + \".npy\", allow_pickle=True)"
      ]
    },
    {
      "cell_type": "markdown",
      "metadata": {
        "id": "kSQ1uQf6Gp4I"
      },
      "source": [
        "Il codice modifica i valori nel dizionario classesDictonary generando una matrice con due colonne per ogni valore nel dizionario. La prima colonna contiene i valori originali convertiti in float32, mentre la seconda colonna contiene zeri nella prima iterazione e il valore dell'indice i moltiplicato per numpy.ones(len(value)) nelle iterazioni successive."
      ]
    },
    {
      "cell_type": "markdown",
      "metadata": {
        "id": "dQtLk85w2e7z"
      },
      "source": [
        "###formattazzione"
      ]
    },
    {
      "cell_type": "code",
      "execution_count": 10,
      "metadata": {
        "id": "5p-kEzVB8-vE"
      },
      "outputs": [],
      "source": [
        "for i, (key, value) in enumerate(classesDictonary.items()):\n",
        "  value = value.astype(\"float32\")\n",
        "\n",
        "  if i == 0:\n",
        "    classesDictonary[key] = numpy.c_[value, numpy.zeros(len(value))]\n",
        "\n",
        "  else:\n",
        "    classesDictonary[key] = numpy.c_[value, i * numpy.ones(len(value))]\n"
      ]
    },
    {
      "cell_type": "markdown",
      "metadata": {
        "id": "YlXJiC1cDYDW"
      },
      "source": [
        "Creating the training dataset, reshape and normalize it. trainX are the input features for treaning"
      ]
    },
    {
      "cell_type": "markdown",
      "metadata": {
        "id": "CTJ1dRCv2mD1"
      },
      "source": [
        "###training set"
      ]
    },
    {
      "cell_type": "code",
      "execution_count": 11,
      "metadata": {
        "id": "6pUQZZYPKtKk"
      },
      "outputs": [],
      "source": [
        "dataDictonary = {}\n",
        "trainData = []\n",
        "data_i = []\n",
        "trainingSamples = 5000\n",
        "\n",
        "for key, value in classesDictonary.items():\n",
        "  numpy.random.shuffle(value)\n",
        "  trainData.append(value[:trainingSamples])\n",
        "  data_i = []\n",
        "  data_i.append(value[:trainingSamples])\n",
        "\n",
        "  numpyData_i = numpy.concatenate(data_i)\n",
        "\n",
        "  Xi = numpyData_i[:, :784]\n",
        "\n",
        "  Xi = Xi.reshape(Xi.shape[0], 28, 28, 1).astype(\"float32\")\n",
        "\n",
        "  Xi = (Xi - 127.5) / 127.5\n",
        "\n",
        "  dataDictonary[key] = Xi\n",
        "\n",
        "numpyData = numpy.concatenate(trainData) # Le  immagini vengono concatenate lungo l'asse 0 creando così un array bidimensionale\n",
        "\n",
        "trainX = numpyData[:, :784] # vengono estratte le prime 784 celle (28x28) (corrispondenti ai pixel delle immagini) e assegnate a trainX\n",
        "\n",
        "trainY = numpyData[:, -1].astype(\"int\") # viene estratta l'ultima colonna (corrispondente alle etichette delle immagini) e assegnata a trainY.\n",
        "\n",
        "trainX = trainX.reshape(trainX.shape[0], 1, 28, 28).astype(\"float32\")  #reshape in im 28x28\n",
        "\n",
        "trainX = (trainX - 127.5) / 127.5 #normalization it (to [0,1])"
      ]
    },
    {
      "cell_type": "markdown",
      "metadata": {
        "id": "s8bPYWRYcXls"
      },
      "source": [
        "Il codice visualizza alcune immagini per verificare se il dataset è stato caricato correttamente."
      ]
    },
    {
      "cell_type": "markdown",
      "metadata": {
        "id": "oLmdHTwD2x4y"
      },
      "source": [
        "###test set"
      ]
    },
    {
      "cell_type": "code",
      "execution_count": 12,
      "metadata": {
        "id": "03OPfTrP23II"
      },
      "outputs": [],
      "source": [
        "testSamples = 1000\n",
        "testData = []\n",
        "\n",
        "for key, value in classesDictonary.items():\n",
        "    testData.append(value[trainingSamples:trainingSamples+testSamples])\n",
        "\n",
        "for i in range(len(testData)):\n",
        "    numpy.random.shuffle(testData[i])\n",
        "\n",
        "numpyTestData = numpy.concatenate(testData)\n",
        "\n",
        "testX = numpyTestData[:, :784]\n",
        "testY = numpyTestData[:, -1].astype(\"int\")\n",
        "\n",
        "testX = testX.reshape(testX.shape[0], 1, 28, 28).astype(\"float32\")\n",
        "testX = (testX - 127.5) / 127.5"
      ]
    },
    {
      "cell_type": "markdown",
      "metadata": {
        "id": "nXEFbx074su-"
      },
      "source": [
        "###validation set"
      ]
    },
    {
      "cell_type": "code",
      "execution_count": 13,
      "metadata": {
        "id": "pMjd-dSR4uW0"
      },
      "outputs": [],
      "source": [
        "valSamples = 5000\n",
        "valData = []\n",
        "\n",
        "for key, value in classesDictonary.items():\n",
        "    valData.append(value[trainingSamples + testSamples : trainingSamples + testSamples + valSamples])\n",
        "\n",
        "for i in range(len(valData)):\n",
        "    numpy.random.shuffle(valData[i])\n",
        "\n",
        "numpyvalData = numpy.concatenate(valData)\n",
        "\n",
        "valX = numpyvalData[:, :784]\n",
        "valY = numpyvalData[:, -1].astype(\"int\")\n",
        "\n",
        "valX = valX.reshape(valX.shape[0],1, 28, 28).astype(\"float32\")\n",
        "valX = (valX - 127.5) / 127.5"
      ]
    },
    {
      "cell_type": "markdown",
      "metadata": {
        "id": "SfOvXbJS2r4A"
      },
      "source": [
        "###visualize"
      ]
    },
    {
      "cell_type": "code",
      "execution_count": 14,
      "metadata": {
        "id": "a1zGYj7BESpg",
        "colab": {
          "base_uri": "https://localhost:8080/",
          "height": 592
        },
        "outputId": "260a3da8-e2c1-4890-f743-205b34dcdc71"
      },
      "outputs": [
        {
          "output_type": "display_data",
          "data": {
            "text/plain": [
              "<Figure size 2000x1000 with 50 Axes>"
            ],
            "image/png": "[encoded data removed]"
          },
          "metadata": {}
        }
      ],
      "source": [
        "def visualTrainingSet(x, y):\n",
        "\tfigure, axes = pyplot.subplots(5, 10, figsize=(20, 10)) #numero di cose da visualizzare\n",
        "\n",
        "\tfor label in range(0, 50):\n",
        "\n",
        "\t\trandomLabel = numpy.random.randint(0, len(x) - 1)\n",
        "\n",
        "\t\timage = x[randomLabel].reshape((28, 28))\n",
        "\t\ttitle = categories[y[randomLabel]]\n",
        "\n",
        "\t\txCordinate = label // 10\n",
        "\n",
        "\t\tyCordinate = label % 10\n",
        "\n",
        "\t\taxes[xCordinate, yCordinate].set_title(title)\n",
        "\t\taxes[xCordinate, yCordinate].imshow(image)\n",
        "\t\taxes[xCordinate, yCordinate].axis('off')\n",
        "\n",
        "\tpyplot.show()\n",
        "\n",
        "visualTrainingSet(trainX, trainY)\n",
        "#visualTrainingSet(testX, testY)\n",
        "#visualTrainingSet(valX, valY)"
      ]
    },
    {
      "cell_type": "markdown",
      "metadata": {
        "id": "LYXlVi6t4Git"
      },
      "source": [
        "###SetsCreation"
      ]
    },
    {
      "cell_type": "code",
      "execution_count": 15,
      "metadata": {
        "id": "MjjoBFsQzhxF"
      },
      "outputs": [],
      "source": [
        "class CustomDataset(data.Dataset):\n",
        "    def __init__(self, input_tensors, output_tensors):\n",
        "        self.input_tensors = input_tensors\n",
        "        self.output_tensors = output_tensors\n",
        "\n",
        "    def __len__(self):\n",
        "        return len(self.input_tensors)\n",
        "\n",
        "    def __getitem__(self, index):\n",
        "        input_tensor = self.input_tensors[index]\n",
        "        output_tensor = self.output_tensors[index]\n",
        "        # Applica eventuali trasformazioni o manipolazioni all'input e all'output\n",
        "        modified_input = input_tensor\n",
        "        modified_output = output_tensor\n",
        "        return modified_input, modified_output"
      ]
    },
    {
      "cell_type": "code",
      "execution_count": 16,
      "metadata": {
        "id": "yp6RYKrl1iO0"
      },
      "outputs": [],
      "source": [
        "trainX_tensor = torch.from_numpy(trainX)\n",
        "trainY_tensor = torch.from_numpy(trainY)\n",
        "\n",
        "testX_tensor = torch.from_numpy(testX)\n",
        "testY_tensor = torch.from_numpy(testY)\n",
        "\n",
        "valX_tensor = torch.from_numpy(valX)\n",
        "valY_tensor = torch.from_numpy(valY)\n",
        "\n",
        "\n",
        "train_set = CustomDataset(trainX_tensor, trainY_tensor)\n",
        "test_set = CustomDataset(testX_tensor, testY_tensor)\n",
        "val_set = CustomDataset(valX_tensor, valY_tensor)"
      ]
    },
    {
      "cell_type": "markdown",
      "metadata": {
        "id": "3x8euFhiziIq"
      },
      "source": [
        "Creazione dei loader"
      ]
    },
    {
      "cell_type": "code",
      "execution_count": 17,
      "metadata": {
        "id": "Xm2_iNadzgDW"
      },
      "outputs": [],
      "source": [
        "train_loader = data.DataLoader(train_set, batch_size=128, shuffle=True, drop_last=True, pin_memory=True, num_workers=2)\n",
        "val_loader = data.DataLoader(val_set, batch_size=128, shuffle=False, drop_last=False, num_workers=2)\n",
        "test_loader = data.DataLoader(test_set, batch_size=128, shuffle=False, drop_last=False, num_workers=2)"
      ]
    },
    {
      "cell_type": "markdown",
      "metadata": {
        "id": "Xvxh9LRie3yZ"
      },
      "source": [
        "##heatmap"
      ]
    },
    {
      "cell_type": "code",
      "execution_count": 18,
      "metadata": {
        "id": "0tS6YfHJot5i"
      },
      "outputs": [],
      "source": [
        "def get_label_heatmap(key, value):\n",
        "\n",
        "    heatmap = numpy.mean(value, axis=0) # Calcola la media delle immagini filtrate per ottenere una heatmap\n",
        "\n",
        "    return heatmap"
      ]
    },
    {
      "cell_type": "code",
      "execution_count": 19,
      "metadata": {
        "id": "8oCwIddDnuM2",
        "colab": {
          "base_uri": "https://localhost:8080/",
          "height": 451
        },
        "outputId": "37674ab8-32bd-4dc4-9802-fdd55e2706a0"
      },
      "outputs": [
        {
          "output_type": "display_data",
          "data": {
            "text/plain": [
              "<Figure size 1000x500 with 10 Axes>"
            ],
            "image/png": "[encoded data removed]"
          },
          "metadata": {}
        }
      ],
      "source": [
        "figure, axes = pyplot.subplots(2,5, figsize=(10,5))\n",
        "\n",
        "x = 0\n",
        "for key, value in dataDictonary.items():\n",
        "    # get heatmap\n",
        "    heatmap = get_label_heatmap(key, value)\n",
        "\n",
        "    i = x // 5\n",
        "    j = x % 5\n",
        "    x+=1\n",
        "\n",
        "    # plot image\n",
        "    axes[i,j].set_title(key)\n",
        "    axes[i,j].imshow(heatmap.reshape(28, 28).squeeze())\n",
        "    axes[i,j].axis('off')\n",
        "\n",
        "\n",
        "pyplot.show()"
      ]
    },
    {
      "cell_type": "markdown",
      "metadata": {
        "id": "Yc8oTdOffd-h"
      },
      "source": [
        "#**Modello**"
      ]
    },
    {
      "cell_type": "markdown",
      "metadata": {
        "id": "r0vCcA5bfnN5"
      },
      "source": [
        "##Classe"
      ]
    },
    {
      "cell_type": "markdown",
      "metadata": {
        "id": "NR9R2igvSzmk"
      },
      "source": [
        "- *model_name:* usato per sfruttare eventualmente differenti modelli di CNN\n",
        "- *model_hparams:* Iperparametri per il modello\n",
        "- *optimizer_name:* Il nome dell'ottimizzatore da utilizzare. Attualmente supportati: Adam, SGD.\n",
        "- *optimizer_hparams:* Iperparametri per l'ottimizzatore (learning rate, weight deacy, ...)\n",
        "\n",
        "**Ottimizzatori**\n",
        "> Gli ottimizzatori sono algoritmi utilizzati nell'addestramento delle reti neurali per aggiornare i pesi dei modelli al fine di minimizzare la funzione di perdita durante la fase di apprendimento. L'obiettivo dell'ottimizzazione è trovare i valori ottimali dei pesi del modello. Gli ottimizzatori eseguono il compito di regolare i pesi dei nodi in base al gradiente della funzione di perdita rispetto ai pesi.\n",
        "\n",
        ">> **SGD**: L'idea di base dell'SGD è aggiornare iterativamente i pesi del modello utilizzando il gradiente calcolato su un batch casuale di dati di addestramento. L'algoritmo procede in cicli di selezione del batch, calcolo del gradiente e aggiornamento dei pesi. Questo processo continua fino a quando non viene raggiunta una condizione di convergenza.\n",
        "\n",
        ">> **ADAM**: Combina le caratteristiche dell'algoritmo SGD con momenti e un tasso di apprendimento adattivo. Calcola e aggiorna i momenti di primo e secondo ordine dei pesi del modello, utilizzando i gradienti calcolati durante l'addestramento. Questo permette di adattare il tasso di apprendimento per ogni parametro in modo automatico, accelerando la convergenza e gestendo diverse scale dei gradienti.\n",
        "\n"
      ]
    },
    {
      "cell_type": "code",
      "execution_count": 20,
      "metadata": {
        "id": "uNTqBhwLS3Zq"
      },
      "outputs": [],
      "source": [
        "class QuickDrawModule(pl.LightningModule):\n",
        "\n",
        "    def __init__(self, model_name, model_hparams, optimizer_name, optimizer_hparams):\n",
        "\n",
        "        super().__init__()\n",
        "        # Exports the hyperparameters to a YAML file, and create \"self.hparams\" namespace\n",
        "        self.save_hyperparameters()\n",
        "        # Create model\n",
        "        self.model = create_model(model_name, model_hparams)\n",
        "        # Create loss module\n",
        "        self.loss_module = nn.CrossEntropyLoss()\n",
        "        # Example input for visualizing the graph in Tensorboard\n",
        "        self.example_input_array = torch.zeros((1, 1, 28, 28), dtype=torch.float32)\n",
        "\n",
        "    def forward(self, imgs):\n",
        "        return self.model(imgs) # Forward function that is run when visualizing the graph\n",
        "\n",
        "    def configure_optimizers(self):\n",
        "        # We will support Adam or SGD as optimizers.\n",
        "        if self.hparams.optimizer_name == \"Adam\":\n",
        "            # AdamW is Adam with a correct implementation of weight decay (see here for details: https://arxiv.org/pdf/1711.05101.pdf)\n",
        "            optimizer = optim.AdamW(self.parameters(), **self.hparams.optimizer_hparams)\n",
        "        elif self.hparams.optimizer_name == \"SGD\":\n",
        "            optimizer = optim.SGD(self.parameters(), **self.hparams.optimizer_hparams)\n",
        "        else:\n",
        "            assert False, f\"Unknown optimizer: \\\"{self.hparams.optimizer_name}\\\"\"\n",
        "\n",
        "        # We will reduce the learning rate by 0.1 after 100 and 150 epochs\n",
        "        scheduler = optim.lr_scheduler.MultiStepLR(optimizer, milestones=[100, 150], gamma=0.1)\n",
        "        return [optimizer], [scheduler]\n",
        "\n",
        "    def training_step(self, batch, batch_idx):\n",
        "        # \"batch\" is the output of the training data loader.\n",
        "        imgs, labels = batch\n",
        "        preds = self.model(imgs) #predizioni\n",
        "        loss = self.loss_module(preds, labels) #loss\n",
        "        acc = (preds.argmax(dim=-1) == labels).float().mean() #accuracy\n",
        "\n",
        "        # Logs the accuracy per epoch to tensorboard (weighted average over batches)\n",
        "        self.log('train_acc', acc, on_step=False, on_epoch=True)\n",
        "        self.log('train_loss', loss)\n",
        "        return loss  # Return tensor to call \".backward\" on\n",
        "\n",
        "    def validation_step(self, batch, batch_idx):\n",
        "        imgs, labels = batch\n",
        "        preds = self.model(imgs).argmax(dim=-1)\n",
        "        acc = (labels == preds).float().mean()\n",
        "        # By default logs it per epoch (weighted average over batches)\n",
        "        self.log('val_acc', acc)\n",
        "\n",
        "    def test_step(self, batch, batch_idx):\n",
        "        imgs, labels = batch\n",
        "        preds = self.model(imgs).argmax(dim=-1)\n",
        "        acc = (labels == preds).float().mean()\n",
        "        # By default logs it per epoch (weighted average over batches), and returns it afterwards\n",
        "        self.log('test_acc', acc)"
      ]
    },
    {
      "cell_type": "markdown",
      "metadata": {
        "id": "NacFowngc_tz"
      },
      "source": [
        "##Metodi"
      ]
    },
    {
      "cell_type": "markdown",
      "metadata": {
        "id": "FY3-6j-bxOur"
      },
      "source": [
        "La callback LearningRateMonitor aggiunge il tasso di apprendimento corrente a TensorBoard, il che aiuta a verificare che il nostro scheduler del tasso di apprendimento funzioni correttamente. La callback ModelCheckpoint consente di personalizzare la procedura di salvataggio dei checkpoint. Ad esempio, è possibile specificare quanti checkpoint mantenere, quando salvare, quale metrica considerare, ecc."
      ]
    },
    {
      "cell_type": "code",
      "execution_count": 21,
      "metadata": {
        "id": "faM0ldGJachC"
      },
      "outputs": [],
      "source": [
        "from pytorch_lightning.callbacks import LearningRateMonitor, ModelCheckpoint\n",
        "from pytorch_lightning import Trainer"
      ]
    },
    {
      "cell_type": "markdown",
      "metadata": {
        "id": "Z9TO0g6q8bXJ"
      },
      "source": [
        "Per eventualmente runnare differenti modelli:"
      ]
    },
    {
      "cell_type": "code",
      "execution_count": 22,
      "metadata": {
        "id": "3gpQXBKPaW0a"
      },
      "outputs": [],
      "source": [
        "model_dict = {}\n",
        "\n",
        "def create_model(model_name, model_hparams):\n",
        "    if model_name in model_dict:\n",
        "        return model_dict[model_name](**model_hparams)\n",
        "    else:\n",
        "        assert False, f\"Unknown model name \\\"{model_name}\\\". Available models are: {str(model_dict.keys())}\""
      ]
    },
    {
      "cell_type": "markdown",
      "metadata": {
        "id": "toCnCQMA82-h"
      },
      "source": [
        "Dizionario di funzioni per il modello"
      ]
    },
    {
      "cell_type": "code",
      "execution_count": 23,
      "metadata": {
        "id": "VNfpW7e2aRRN"
      },
      "outputs": [],
      "source": [
        "fn_by_name = { \"tanh\": nn.Tanh, \"relu\": nn.ReLU, \"leakyrelu\": nn.LeakyReLU, \"gelu\": nn.GELU }"
      ]
    },
    {
      "cell_type": "markdown",
      "metadata": {
        "id": "F7Gtns-nxG7t"
      },
      "source": [
        "##Training"
      ]
    },
    {
      "cell_type": "code",
      "execution_count": 24,
      "metadata": {
        "id": "bf_cMM6RaAwc"
      },
      "outputs": [],
      "source": [
        "import shutil\n",
        "\n",
        "def train_model(model_name, save_name=None, **kwargs):\n",
        "\n",
        "    if save_name is None:\n",
        "        save_name = model_name\n",
        "\n",
        "    trainer = pl.Trainer(default_root_dir=os.path.join(CHECKPOINT_PATH, save_name),                          # Specifica la directory in cui salvare i modelli\n",
        "                         accelerator=\"gpu\" if str(device).startswith(\"cuda\") else \"cpu\",                     # Specifica se utilizzare una GPU o utilizzare solo la CPU\n",
        "                         devices=1,                                                                          # Specifica il numero di GPU o CPU da utilizzare per l'addestramento\n",
        "                         max_epochs=180,                                                                     # Specifica il numero massimo di epoche per l'addestramento\n",
        "                         callbacks=[ModelCheckpoint(save_weights_only=True, mode=\"max\", monitor=\"val_acc\"),  # Specifica le callback da utilizzare durante l'addestramento...\n",
        "                                    LearningRateMonitor(\"epoch\")],                                             # Viene usata ModelCheckpoint: salva il miglior checkpoint in base alla val_acc massima\n",
        "                         enable_progress_bar=True)                                                             # e LearningRateMonitor per registrare il tasso di apprendimento ad ogni epoca.\n",
        "    trainer.logger._log_graph = True                                                                         # viene generato il grafico di computazione nel tensorboard.\n",
        "    trainer.logger._default_hp_metric = None\n",
        "\n",
        "\n",
        "    # Check whether pretrained model exists. If yes, load it and skip training\n",
        "    versionfolderList = Path(os.path.join(CHECKPOINT_PATH, save_name, \"lightning_logs/\")).rglob(\"version_*\")\n",
        "\n",
        "    found = False;\n",
        "\n",
        "    for versionfolder in versionfolderList:\n",
        "        CHECKPOINT_PATH_FILE = os.path.join(f\"{versionfolder}/checkpoints/\")\n",
        "        checkpoint_files = list(Path(CHECKPOINT_PATH_FILE).rglob(\"finished.txt\"))\n",
        "        if (len(checkpoint_files) != 0):\n",
        "            found = True;\n",
        "            break;\n",
        "        else:\n",
        "            print(f\"\\nRemoving {versionfolder}... (old model not valid: incomplete training)\\n\")\n",
        "            shutil.rmtree(versionfolder)\n",
        "\n",
        "    if (found):\n",
        "        pretrained_filename = list(Path(CHECKPOINT_PATH_FILE).rglob(\"*.ckpt\"))[0]\n",
        "    else:\n",
        "        pretrained_filename = \"\"\n",
        "        print(\"There is pretrained model: \" + str(os.path.isfile(pretrained_filename)))\n",
        "\n",
        "    if os.path.isfile(pretrained_filename):\n",
        "        print(f\"Found pretrained model at {pretrained_filename}, loading...\")\n",
        "        model = QuickDrawModule.load_from_checkpoint(pretrained_filename) # Automatically loads the model with the saved hyperparameters\n",
        "    else:\n",
        "        model = QuickDrawModule(model_name=model_name, **kwargs)\n",
        "        trainer.fit(model, train_loader, val_loader)\n",
        "        model = QuickDrawModule.load_from_checkpoint(trainer.checkpoint_callback.best_model_path) # Load best checkpoint after training\n",
        "\n",
        "    # Test best model on validation and test set\n",
        "    val_result = trainer.test(model, val_loader, verbose=False)\n",
        "    test_result = trainer.test(model, test_loader, verbose=False)\n",
        "    result = {\"test\": test_result[0][\"test_acc\"], \"val\": val_result[0][\"test_acc\"]}\n",
        "\n",
        "    return model, result\n",
        "\n"
      ]
    },
    {
      "cell_type": "markdown",
      "metadata": {
        "id": "d9muP11HhffA"
      },
      "source": [
        "##Inception Module\n"
      ]
    },
    {
      "cell_type": "markdown",
      "metadata": {
        "id": "oRfJirAVvgFc"
      },
      "source": [
        "![inception_block.svg](data:image/svg+xml;base64,PD94bWwgdmVyc2lvbj0iMS4wIiBlbmNvZGluZz0iVVRGLTgiIHN0YW5kYWxvbmU9Im5vIj8+CjxzdmcKICAgeG1sbnM6ZGM9Imh0dHA6Ly9wdXJsLm9yZy9kYy9lbGVtZW50cy8xLjEvIgogICB4bWxuczpjYz0iaHR0cDovL2NyZWF0aXZlY29tbW9ucy5vcmcvbnMjIgogICB4bWxuczpyZGY9Imh0dHA6Ly93d3cudzMub3JnLzE5OTkvMDIvMjItcmRmLXN5bnRheC1ucyMiCiAgIHhtbG5zOnN2Zz0iaHR0cDovL3d3dy53My5vcmcvMjAwMC9zdmciCiAgIHhtbG5zPSJodHRwOi8vd3d3LnczLm9yZy8yMDAwL3N2ZyIKICAgeG1sbnM6eGxpbms9Imh0dHA6Ly93d3cudzMub3JnLzE5OTkveGxpbmsiCiAgIHdpZHRoPSIxODYuMDExNXB0IgogICBoZWlnaHQ9Ijk3LjQyNjZwdCIKICAgdmlld0JveD0iMCAwIDE4Ni4wMTE1IDk3LjQyNjYiCiAgIHZlcnNpb249IjEuMiIKICAgaWQ9InN2ZzU0NiI+CiAgPG1ldGFkYXRhCiAgICAgaWQ9Im1ldGFkYXRhNTUwIj4KICAgIDxyZGY6UkRGPgogICAgICA8Y2M6V29yawogICAgICAgICByZGY6YWJvdXQ9IiI+CiAgICAgICAgPGRjOmZvcm1hdD5pbWFnZS9zdmcreG1sPC9kYzpmb3JtYXQ+CiAgICAgICAgPGRjOnR5cGUKICAgICAgICAgICByZGY6cmVzb3VyY2U9Imh0dHA6Ly9wdXJsLm9yZy9kYy9kY21pdHlwZS9TdGlsbEltYWdlIiAvPgogICAgICAgIDxkYzp0aXRsZT48L2RjOnRpdGxlPgogICAgICA8L2NjOldvcms+CiAgICA8L3JkZjpSREY+CiAgPC9tZXRhZGF0YT4KICA8ZGVmcwogICAgIGlkPSJkZWZzNTM5Ij4KICAgIDxnCiAgICAgICBpZD0iZzEwMCI+CiAgICAgIDxzeW1ib2wKICAgICAgICAgb3ZlcmZsb3c9InZpc2libGUiCiAgICAgICAgIGlkPSJnbHlwaDAtMCI+CiAgICAgICAgPHBhdGgKICAgICAgICAgICBzdHlsZT0ic3Ryb2tlOm5vbmU7IgogICAgICAgICAgIGQ9Ik0gMC41IDAgTCAwLjUgLTIuNTE1NjI1IEwgMi41MTU2MjUgLTIuNTE1NjI1IEwgMi41MTU2MjUgMCBaIE0gMC41NjI1IC0wLjA2MjUgTCAyLjQ1MzEyNSAtMC4wNjI1IEwgMi40NTMxMjUgLTIuNDUzMTI1IEwgMC41NjI1IC0yLjQ1MzEyNSBaIE0gMC41NjI1IC0wLjA2MjUgIgogICAgICAgICAgIGlkPSJwYXRoMjgiIC8+CiAgICAgIDwvc3ltYm9sPgogICAgICA8c3ltYm9sCiAgICAgICAgIG92ZXJmbG93PSJ2aXNpYmxlIgogICAgICAgICBpZD0iZ2x5cGgwLTEiPgogICAgICAgIDxwYXRoCiAgICAgICAgICAgc3R5bGU9InN0cm9rZTpub25lOyIKICAgICAgICAgICBkPSJNIDEuNSAwIEwgMS4xNDA2MjUgMCBMIDEuMTQwNjI1IC0yLjI1IEMgMS4wNTQ2ODggLTIuMTc1NzgxIDAuOTQ1MzEyIC0yLjA5NzY1NiAwLjgxMjUgLTIuMDE1NjI1IEMgMC42NzU3ODEgLTEuOTI5Njg4IDAuNTUwNzgxIC0xLjg2NzE4OCAwLjQzNzUgLTEuODI4MTI1IEwgMC40Mzc1IC0yLjE3MTg3NSBDIDAuNjMyODEyIC0yLjI2NTYyNSAwLjgwNDY4OCAtMi4zNzUgMC45NTMxMjUgLTIuNSBDIDEuMTA5Mzc1IC0yLjYzMjgxMiAxLjIxODc1IC0yLjc2NTYyNSAxLjI4MTI1IC0yLjg5MDYyNSBMIDEuNSAtMi44OTA2MjUgWiBNIDEuNSAwICIKICAgICAgICAgICBpZD0icGF0aDMxIiAvPgogICAgICA8L3N5bWJvbD4KICAgICAgPHN5bWJvbAogICAgICAgICBvdmVyZmxvdz0idmlzaWJsZSIKICAgICAgICAgaWQ9ImdseXBoMC0yIj4KICAgICAgICA8cGF0aAogICAgICAgICAgIHN0eWxlPSJzdHJva2U6bm9uZTsiCiAgICAgICAgICAgZD0iTSAwLjAzMTI1IDAgTCAwLjc5Njg3NSAtMS4wOTM3NSBMIDAuMDkzNzUgLTIuMDkzNzUgTCAwLjUzMTI1IC0yLjA5Mzc1IEwgMC44NDM3NSAtMS41OTM3NSBDIDAuOTA2MjUgLTEuNSAwLjk1NzAzMSAtMS40MjE4NzUgMSAtMS4zNTkzNzUgQyAxLjA1MDc4MSAtMS40NTMxMjUgMS4xMDE1NjIgLTEuNTMxMjUgMS4xNTYyNSAtMS41OTM3NSBMIDEuNSAtMi4wOTM3NSBMIDEuOTM3NSAtMi4wOTM3NSBMIDEuMjAzMTI1IC0xLjEwOTM3NSBMIDEuOTg0Mzc1IDAgTCAxLjU0Njg3NSAwIEwgMS4xMjUgLTAuNjU2MjUgTCAxLjAxNTYyNSAtMC44MjgxMjUgTCAwLjQ1MzEyNSAwIFogTSAwLjAzMTI1IDAgIgogICAgICAgICAgIGlkPSJwYXRoMzQiIC8+CiAgICAgIDwvc3ltYm9sPgogICAgICA8c3ltYm9sCiAgICAgICAgIG92ZXJmbG93PSJ2aXNpYmxlIgogICAgICAgICBpZD0iZ2x5cGgwLTMiPgogICAgICAgIDxwYXRoCiAgICAgICAgICAgc3R5bGU9InN0cm9rZTpub25lOyIKICAgICAgICAgICBkPSIiCiAgICAgICAgICAgaWQ9InBhdGgzNyIgLz4KICAgICAgPC9zeW1ib2w+CiAgICAgIDxzeW1ib2wKICAgICAgICAgb3ZlcmZsb3c9InZpc2libGUiCiAgICAgICAgIGlkPSJnbHlwaDAtNCI+CiAgICAgICAgPHBhdGgKICAgICAgICAgICBzdHlsZT0ic3Ryb2tlOm5vbmU7IgogICAgICAgICAgIGQ9Ik0gMS42MjUgLTAuNzY1NjI1IEwgMS45ODQzNzUgLTAuNzE4NzUgQyAxLjk0MTQwNiAtMC40NzY1NjIgMS44NDM3NSAtMC4yODkwNjIgMS42ODc1IC0wLjE1NjI1IEMgMS41MzEyNSAtMC4wMTk1MzEyIDEuMzM1OTM4IDAuMDQ2ODc1IDEuMTA5Mzc1IDAuMDQ2ODc1IEMgMC44MTY0MDYgMC4wNDY4NzUgMC41ODIwMzEgLTAuMDQ2ODc1IDAuNDA2MjUgLTAuMjM0Mzc1IEMgMC4yMzgyODEgLTAuNDIxODc1IDAuMTU2MjUgLTAuNjg3NSAwLjE1NjI1IC0xLjAzMTI1IEMgMC4xNTYyNSAtMS4yNTc4MTIgMC4xOTE0MDYgLTEuNDU3MDMxIDAuMjY1NjI1IC0xLjYyNSBDIDAuMzM1OTM4IC0xLjgwMDc4MSAwLjQ1MzEyNSAtMS45Mjk2ODggMC42MDkzNzUgLTIuMDE1NjI1IEMgMC43NjU2MjUgLTIuMDk3NjU2IDAuOTI5Njg4IC0yLjE0MDYyNSAxLjEwOTM3NSAtMi4xNDA2MjUgQyAxLjMzNTkzOCAtMi4xNDA2MjUgMS41MjM0MzggLTIuMDgyMDMxIDEuNjcxODc1IC0xLjk2ODc1IEMgMS44MTY0MDYgLTEuODUxNTYyIDEuOTA2MjUgLTEuNjg3NSAxLjkzNzUgLTEuNDY4NzUgTCAxLjU5Mzc1IC0xLjQyMTg3NSBDIDEuNTYyNSAtMS41NjY0MDYgMS41MDM5MDYgLTEuNjcxODc1IDEuNDIxODc1IC0xLjczNDM3NSBDIDEuMzM1OTM4IC0xLjgwNDY4OCAxLjIzODI4MSAtMS44NDM3NSAxLjEyNSAtMS44NDM3NSBDIDAuOTQ1MzEyIC0xLjg0Mzc1IDAuODAwNzgxIC0xLjc4MTI1IDAuNjg3NSAtMS42NTYyNSBDIDAuNTcwMzEyIC0xLjUzMTI1IDAuNTE1NjI1IC0xLjMyODEyNSAwLjUxNTYyNSAtMS4wNDY4NzUgQyAwLjUxNTYyNSAtMC43NjU2MjUgMC41NjY0MDYgLTAuNTYyNSAwLjY3MTg3NSAtMC40Mzc1IEMgMC43ODUxNTYgLTAuMzEyNSAwLjkyOTY4OCAtMC4yNSAxLjEwOTM3NSAtMC4yNSBDIDEuMjQyMTg4IC0wLjI1IDEuMzU5Mzc1IC0wLjI4OTA2MiAxLjQ1MzEyNSAtMC4zNzUgQyAxLjU0Njg3NSAtMC40NTcwMzEgMS42MDE1NjIgLTAuNTg1OTM4IDEuNjI1IC0wLjc2NTYyNSBaIE0gMS42MjUgLTAuNzY1NjI1ICIKICAgICAgICAgICBpZD0icGF0aDQwIiAvPgogICAgICA8L3N5bWJvbD4KICAgICAgPHN5bWJvbAogICAgICAgICBvdmVyZmxvdz0idmlzaWJsZSIKICAgICAgICAgaWQ9ImdseXBoMC01Ij4KICAgICAgICA8cGF0aAogICAgICAgICAgIHN0eWxlPSJzdHJva2U6bm9uZTsiCiAgICAgICAgICAgZD0iTSAwLjE0MDYyNSAtMS4wNDY4NzUgQyAwLjE0MDYyNSAtMS40Mjk2ODggMC4yNDIxODggLTEuNzE4NzUgMC40NTMxMjUgLTEuOTA2MjUgQyAwLjYyODkwNiAtMi4wNjI1IDAuODQ3NjU2IC0yLjE0MDYyNSAxLjEwOTM3NSAtMi4xNDA2MjUgQyAxLjM5ODQzOCAtMi4xNDA2MjUgMS42MzI4MTIgLTIuMDQ2ODc1IDEuODEyNSAtMS44NTkzNzUgQyAyIC0xLjY3MTg3NSAyLjA5Mzc1IC0xLjQxMDE1NiAyLjA5Mzc1IC0xLjA3ODEyNSBDIDIuMDkzNzUgLTAuODA0Njg4IDIuMDUwNzgxIC0wLjU5Mzc1IDEuOTY4NzUgLTAuNDM3NSBDIDEuODgyODEyIC0wLjI4MTI1IDEuNzY1NjI1IC0wLjE2MDE1NiAxLjYwOTM3NSAtMC4wNzgxMjUgQyAxLjQ2MDkzOCAwLjAwMzkwNjI1IDEuMjk2ODc1IDAuMDQ2ODc1IDEuMTA5Mzc1IDAuMDQ2ODc1IEMgMC44MTY0MDYgMC4wNDY4NzUgMC41ODIwMzEgLTAuMDQ2ODc1IDAuNDA2MjUgLTAuMjM0Mzc1IEMgMC4yMjY1NjIgLTAuNDIxODc1IDAuMTQwNjI1IC0wLjY5MTQwNiAwLjE0MDYyNSAtMS4wNDY4NzUgWiBNIDAuNSAtMS4wNDY4NzUgQyAwLjUgLTAuNzczNDM4IDAuNTU0Njg4IC0wLjU3MDMxMiAwLjY3MTg3NSAtMC40Mzc1IEMgMC43ODUxNTYgLTAuMzEyNSAwLjkyOTY4OCAtMC4yNSAxLjEwOTM3NSAtMC4yNSBDIDEuMjg1MTU2IC0wLjI1IDEuNDI5Njg4IC0wLjMxMjUgMS41NDY4NzUgLTAuNDM3NSBDIDEuNjcxODc1IC0wLjU3MDMxMiAxLjczNDM3NSAtMC43ODEyNSAxLjczNDM3NSAtMS4wNjI1IEMgMS43MzQzNzUgLTEuMzEyNSAxLjY3MTg3NSAtMS41MDM5MDYgMS41NDY4NzUgLTEuNjQwNjI1IEMgMS40Mjk2ODggLTEuNzczNDM4IDEuMjg1MTU2IC0xLjg0Mzc1IDEuMTA5Mzc1IC0xLjg0Mzc1IEMgMC45Mjk2ODggLTEuODQzNzUgMC43ODUxNTYgLTEuNzczNDM4IDAuNjcxODc1IC0xLjY0MDYyNSBDIDAuNTU0Njg4IC0xLjUxNTYyNSAwLjUgLTEuMzE2NDA2IDAuNSAtMS4wNDY4NzUgWiBNIDAuNSAtMS4wNDY4NzUgIgogICAgICAgICAgIGlkPSJwYXRoNDMiIC8+CiAgICAgIDwvc3ltYm9sPgogICAgICA8c3ltYm9sCiAgICAgICAgIG92ZXJmbG93PSJ2aXNpYmxlIgogICAgICAgICBpZD0iZ2x5cGgwLTYiPgogICAgICAgIDxwYXRoCiAgICAgICAgICAgc3R5bGU9InN0cm9rZTpub25lOyIKICAgICAgICAgICBkPSJNIDAuMjY1NjI1IDAgTCAwLjI2NTYyNSAtMi4wOTM3NSBMIDAuNTc4MTI1IC0yLjA5Mzc1IEwgMC41NzgxMjUgLTEuNzk2ODc1IEMgMC43MzQzNzUgLTIuMDIzNDM4IDAuOTU3MDMxIC0yLjE0MDYyNSAxLjI1IC0yLjE0MDYyNSBDIDEuMzc1IC0yLjE0MDYyNSAxLjQ4ODI4MSAtMi4xMTMyODEgMS41OTM3NSAtMi4wNjI1IEMgMS42OTUzMTIgLTIuMDE5NTMxIDEuNzczNDM4IC0xLjk2MDkzOCAxLjgyODEyNSAtMS44OTA2MjUgQyAxLjg3ODkwNiAtMS44MTY0MDYgMS45MTQwNjIgLTEuNzI2NTYyIDEuOTM3NSAtMS42MjUgQyAxLjk1NzAzMSAtMS41NjI1IDEuOTY4NzUgLTEuNDQ1MzEyIDEuOTY4NzUgLTEuMjgxMjUgTCAxLjk2ODc1IDAgTCAxLjYwOTM3NSAwIEwgMS42MDkzNzUgLTEuMjY1NjI1IEMgMS42MDkzNzUgLTEuNDEwMTU2IDEuNTkzNzUgLTEuNTE5NTMxIDEuNTYyNSAtMS41OTM3NSBDIDEuNTM5MDYyIC0xLjY2NDA2MiAxLjQ5MjE4OCAtMS43MjI2NTYgMS40MjE4NzUgLTEuNzY1NjI1IEMgMS4zNDc2NTYgLTEuODA0Njg4IDEuMjY1NjI1IC0xLjgyODEyNSAxLjE3MTg3NSAtMS44MjgxMjUgQyAxLjAyMzQzOCAtMS44MjgxMjUgMC44OTQ1MzEgLTEuNzgxMjUgMC43ODEyNSAtMS42ODc1IEMgMC42NzU3ODEgLTEuNTkzNzUgMC42MjUgLTEuNDEwMTU2IDAuNjI1IC0xLjE0MDYyNSBMIDAuNjI1IDAgWiBNIDAuMjY1NjI1IDAgIgogICAgICAgICAgIGlkPSJwYXRoNDYiIC8+CiAgICAgIDwvc3ltYm9sPgogICAgICA8c3ltYm9sCiAgICAgICAgIG92ZXJmbG93PSJ2aXNpYmxlIgogICAgICAgICBpZD0iZ2x5cGgwLTciPgogICAgICAgIDxwYXRoCiAgICAgICAgICAgc3R5bGU9InN0cm9rZTpub25lOyIKICAgICAgICAgICBkPSJNIDAuODQzNzUgMCBMIDAuMDQ2ODc1IC0yLjA5Mzc1IEwgMC40MjE4NzUgLTIuMDkzNzUgTCAwLjg3NSAtMC44NDM3NSBDIDAuOTI1NzgxIC0wLjcwNzAzMSAwLjk3MjY1NiAtMC41NjY0MDYgMS4wMTU2MjUgLTAuNDIxODc1IEMgMS4wNDY4NzUgLTAuNTIzNDM4IDEuMDg1OTM4IC0wLjY1NjI1IDEuMTQwNjI1IC0wLjgxMjUgTCAxLjYwOTM3NSAtMi4wOTM3NSBMIDEuOTY4NzUgLTIuMDkzNzUgTCAxLjE3MTg3NSAwIFogTSAwLjg0Mzc1IDAgIgogICAgICAgICAgIGlkPSJwYXRoNDkiIC8+CiAgICAgIDwvc3ltYm9sPgogICAgICA8c3ltYm9sCiAgICAgICAgIG92ZXJmbG93PSJ2aXNpYmxlIgogICAgICAgICBpZD0iZ2x5cGgwLTgiPgogICAgICAgIDxwYXRoCiAgICAgICAgICAgc3R5bGU9InN0cm9rZTpub25lOyIKICAgICAgICAgICBkPSJNIDAuMjY1NjI1IDAgTCAwLjI2NTYyNSAtMi44OTA2MjUgTCAwLjYwOTM3NSAtMi44OTA2MjUgTCAwLjYwOTM3NSAwIFogTSAwLjI2NTYyNSAwICIKICAgICAgICAgICBpZD0icGF0aDUyIiAvPgogICAgICA8L3N5bWJvbD4KICAgICAgPHN5bWJvbAogICAgICAgICBvdmVyZmxvdz0idmlzaWJsZSIKICAgICAgICAgaWQ9ImdseXBoMC05Ij4KICAgICAgICA8cGF0aAogICAgICAgICAgIHN0eWxlPSJzdHJva2U6bm9uZTsiCiAgICAgICAgICAgZD0iTSAxLjY0MDYyNSAwIEwgMS42NDA2MjUgLTAuMzEyNSBDIDEuNDcyNjU2IC0wLjA3MDMxMjUgMS4yNSAwLjA0Njg3NSAwLjk2ODc1IDAuMDQ2ODc1IEMgMC44NDM3NSAwLjA0Njg3NSAwLjcyNjU2MiAwLjAyMzQzNzUgMC42MjUgLTAuMDE1NjI1IEMgMC41MTk1MzEgLTAuMDY2NDA2MiAwLjQ0MTQwNiAtMC4xMjg5MDYgMC4zOTA2MjUgLTAuMjAzMTI1IEMgMC4zMzU5MzggLTAuMjczNDM4IDAuMzAwNzgxIC0wLjM2MzI4MSAwLjI4MTI1IC0wLjQ2ODc1IEMgMC4yNjk1MzEgLTAuNTMxMjUgMC4yNjU2MjUgLTAuNjQwNjI1IDAuMjY1NjI1IC0wLjc5Njg3NSBMIDAuMjY1NjI1IC0yLjA5Mzc1IEwgMC42MDkzNzUgLTIuMDkzNzUgTCAwLjYwOTM3NSAtMC45Mzc1IEMgMC42MDkzNzUgLTAuNzUgMC42MTcxODggLTAuNjI1IDAuNjQwNjI1IC0wLjU2MjUgQyAwLjY2MDE1NiAtMC40Njg3NSAwLjcwNzAzMSAtMC4zOTQ1MzEgMC43ODEyNSAtMC4zNDM3NSBDIDAuODUxNTYyIC0wLjI4OTA2MiAwLjk0MTQwNiAtMC4yNjU2MjUgMS4wNDY4NzUgLTAuMjY1NjI1IEMgMS4xNDg0MzggLTAuMjY1NjI1IDEuMjUgLTAuMjg5MDYyIDEuMzQzNzUgLTAuMzQzNzUgQyAxLjQzNzUgLTAuMzk0NTMxIDEuNSAtMC40Njg3NSAxLjUzMTI1IC0wLjU2MjUgQyAxLjU3MDMxMiAtMC42NTYyNSAxLjU5Mzc1IC0wLjc4OTA2MiAxLjU5Mzc1IC0wLjk2ODc1IEwgMS41OTM3NSAtMi4wOTM3NSBMIDEuOTUzMTI1IC0yLjA5Mzc1IEwgMS45NTMxMjUgMCBaIE0gMS42NDA2MjUgMCAiCiAgICAgICAgICAgaWQ9InBhdGg1NSIgLz4KICAgICAgPC9zeW1ib2w+CiAgICAgIDxzeW1ib2wKICAgICAgICAgb3ZlcmZsb3c9InZpc2libGUiCiAgICAgICAgIGlkPSJnbHlwaDAtMTAiPgogICAgICAgIDxwYXRoCiAgICAgICAgICAgc3R5bGU9InN0cm9rZTpub25lOyIKICAgICAgICAgICBkPSJNIDEuMDQ2ODc1IC0wLjMxMjUgTCAxLjA5Mzc1IDAgQyAwLjk4ODI4MSAwLjAxOTUzMTIgMC44OTg0MzggMC4wMzEyNSAwLjgyODEyNSAwLjAzMTI1IEMgMC42OTE0MDYgMC4wMzEyNSAwLjU4NTkzOCAwLjAwNzgxMjUgMC41MTU2MjUgLTAuMDMxMjUgQyAwLjQ1MzEyNSAtMC4wNzAzMTI1IDAuNDA2MjUgLTAuMTI1IDAuMzc1IC0wLjE4NzUgQyAwLjM0Mzc1IC0wLjI1NzgxMiAwLjMyODEyNSAtMC4zOTg0MzggMC4zMjgxMjUgLTAuNjA5Mzc1IEwgMC4zMjgxMjUgLTEuODEyNSBMIDAuMDc4MTI1IC0xLjgxMjUgTCAwLjA3ODEyNSAtMi4wOTM3NSBMIDAuMzI4MTI1IC0yLjA5Mzc1IEwgMC4zMjgxMjUgLTIuNjA5Mzc1IEwgMC42ODc1IC0yLjgyODEyNSBMIDAuNjg3NSAtMi4wOTM3NSBMIDEuMDQ2ODc1IC0yLjA5Mzc1IEwgMS4wNDY4NzUgLTEuODEyNSBMIDAuNjg3NSAtMS44MTI1IEwgMC42ODc1IC0wLjU5Mzc1IEMgMC42ODc1IC0wLjQ4ODI4MSAwLjY5MTQwNiAtMC40MjE4NzUgMC43MDMxMjUgLTAuMzkwNjI1IEMgMC43MTA5MzggLTAuMzY3MTg4IDAuNzM0Mzc1IC0wLjM0NzY1NiAwLjc2NTYyNSAtMC4zMjgxMjUgQyAwLjc5Njg3NSAtMC4zMDQ2ODggMC44MzU5MzggLTAuMjk2ODc1IDAuODkwNjI1IC0wLjI5Njg3NSBDIDAuOTIxODc1IC0wLjI5Njg3NSAwLjk3MjY1NiAtMC4zMDA3ODEgMS4wNDY4NzUgLTAuMzEyNSBaIE0gMS4wNDY4NzUgLTAuMzEyNSAiCiAgICAgICAgICAgaWQ9InBhdGg1OCIgLz4KICAgICAgPC9zeW1ib2w+CiAgICAgIDxzeW1ib2wKICAgICAgICAgb3ZlcmZsb3c9InZpc2libGUiCiAgICAgICAgIGlkPSJnbHlwaDAtMTEiPgogICAgICAgIDxwYXRoCiAgICAgICAgICAgc3R5bGU9InN0cm9rZTpub25lOyIKICAgICAgICAgICBkPSJNIDAuMjY1NjI1IC0yLjQ4NDM3NSBMIDAuMjY1NjI1IC0yLjg5MDYyNSBMIDAuNjI1IC0yLjg5MDYyNSBMIDAuNjI1IC0yLjQ4NDM3NSBaIE0gMC4yNjU2MjUgMCBMIDAuMjY1NjI1IC0yLjA5Mzc1IEwgMC42MjUgLTIuMDkzNzUgTCAwLjYyNSAwIFogTSAwLjI2NTYyNSAwICIKICAgICAgICAgICBpZD0icGF0aDYxIiAvPgogICAgICA8L3N5bWJvbD4KICAgICAgPHN5bWJvbAogICAgICAgICBvdmVyZmxvdz0idmlzaWJsZSIKICAgICAgICAgaWQ9ImdseXBoMC0xMiI+CiAgICAgICAgPHBhdGgKICAgICAgICAgICBzdHlsZT0ic3Ryb2tlOm5vbmU7IgogICAgICAgICAgIGQ9Ik0gMC4xMjUgLTAuNjI1IEwgMC40Njg3NSAtMC42NzE4NzUgQyAwLjQ4ODI4MSAtMC41MzUxNTYgMC41NDY4NzUgLTAuNDI5Njg4IDAuNjQwNjI1IC0wLjM1OTM3NSBDIDAuNzM0Mzc1IC0wLjI4NTE1NiAwLjg1OTM3NSAtMC4yNSAxLjAxNTYyNSAtMC4yNSBDIDEuMTc5Njg4IC0wLjI1IDEuMzAwNzgxIC0wLjI4MTI1IDEuMzc1IC0wLjM0Mzc1IEMgMS40NTcwMzEgLTAuNDA2MjUgMS41IC0wLjQ4NDM3NSAxLjUgLTAuNTc4MTI1IEMgMS41IC0wLjY2MDE1NiAxLjQ2MDkzOCAtMC43MjI2NTYgMS4zOTA2MjUgLTAuNzY1NjI1IEMgMS4zMzU5MzggLTAuNzk2ODc1IDEuMjE4NzUgLTAuODM1OTM4IDEuMDMxMjUgLTAuODkwNjI1IEMgMC43Njk1MzEgLTAuOTUzMTI1IDAuNTg1OTM4IC0xLjAwMzkwNiAwLjQ4NDM3NSAtMS4wNDY4NzUgQyAwLjM5MDYyNSAtMS4wOTc2NTYgMC4zMTY0MDYgLTEuMTY0MDYyIDAuMjY1NjI1IC0xLjI1IEMgMC4yMTA5MzggLTEuMzMyMDMxIDAuMTg3NSAtMS40MjU3ODEgMC4xODc1IC0xLjUzMTI1IEMgMC4xODc1IC0xLjYyNSAwLjIwNzAzMSAtMS43MDcwMzEgMC4yNSAtMS43ODEyNSBDIDAuMjg5MDYyIC0xLjg2MzI4MSAwLjM0NzY1NiAtMS45Mjk2ODggMC40MjE4NzUgLTEuOTg0Mzc1IEMgMC40NzI2NTYgLTIuMDIzNDM4IDAuNTQ2ODc1IC0yLjA2MjUgMC42NDA2MjUgLTIuMDkzNzUgQyAwLjc0MjE4OCAtMi4xMjUgMC44NDc2NTYgLTIuMTQwNjI1IDAuOTUzMTI1IC0yLjE0MDYyNSBDIDEuMTE3MTg4IC0yLjE0MDYyNSAxLjI2NTYyNSAtMi4xMTMyODEgMS4zOTA2MjUgLTIuMDYyNSBDIDEuNTE1NjI1IC0yLjAxOTUzMSAxLjYwMTU2MiAtMS45NTcwMzEgMS42NTYyNSAtMS44NzUgQyAxLjcxODc1IC0xLjc4OTA2MiAxLjc1NzgxMiAtMS42Nzk2ODggMS43ODEyNSAtMS41NDY4NzUgTCAxLjQzNzUgLTEuNSBDIDEuNDE0MDYyIC0xLjYxMzI4MSAxLjM2NzE4OCAtMS42OTUzMTIgMS4yOTY4NzUgLTEuNzUgQyAxLjIyMjY1NiAtMS44MTI1IDEuMTE3MTg4IC0xLjg0Mzc1IDAuOTg0Mzc1IC0xLjg0Mzc1IEMgMC44MTY0MDYgLTEuODQzNzUgMC42OTUzMTIgLTEuODE2NDA2IDAuNjI1IC0xLjc2NTYyNSBDIDAuNTYyNSAtMS43MTA5MzggMC41MzEyNSAtMS42NDg0MzggMC41MzEyNSAtMS41NzgxMjUgQyAwLjUzMTI1IC0xLjUyMzQzOCAwLjUzOTA2MiAtMS40ODQzNzUgMC41NjI1IC0xLjQ1MzEyNSBDIDAuNTkzNzUgLTEuNDEwMTU2IDAuNjQwNjI1IC0xLjM3ODkwNiAwLjcwMzEyNSAtMS4zNTkzNzUgQyAwLjc0MjE4OCAtMS4zNDc2NTYgMC44NDc2NTYgLTEuMzE2NDA2IDEuMDE1NjI1IC0xLjI2NTYyNSBDIDEuMjY1NjI1IC0xLjIwMzEyNSAxLjQzNzUgLTEuMTQ4NDM4IDEuNTMxMjUgLTEuMTA5Mzc1IEMgMS42MzI4MTIgLTEuMDY2NDA2IDEuNzEwOTM4IC0xLjAwMzkwNiAxLjc2NTYyNSAtMC45MjE4NzUgQyAxLjgyODEyNSAtMC44MzU5MzggMS44NTkzNzUgLTAuNzM0Mzc1IDEuODU5Mzc1IC0wLjYwOTM3NSBDIDEuODU5Mzc1IC0wLjQ5MjE4OCAxLjgyMDMxMiAtMC4zODI4MTIgMS43NSAtMC4yODEyNSBDIDEuNjg3NSAtMC4xNzU3ODEgMS41ODU5MzggLTAuMDkzNzUgMS40NTMxMjUgLTAuMDMxMjUgQyAxLjMyODEyNSAwLjAxOTUzMTIgMS4xNzk2ODggMC4wNDY4NzUgMS4wMTU2MjUgMC4wNDY4NzUgQyAwLjc0MjE4OCAwLjA0Njg3NSAwLjUzNTE1NiAtMC4wMDc4MTI1IDAuMzkwNjI1IC0wLjEyNSBDIDAuMjUzOTA2IC0wLjIzODI4MSAwLjE2NDA2MiAtMC40MDYyNSAwLjEyNSAtMC42MjUgWiBNIDAuMTI1IC0wLjYyNSAiCiAgICAgICAgICAgaWQ9InBhdGg2NCIgLz4KICAgICAgPC9zeW1ib2w+CiAgICAgIDxzeW1ib2wKICAgICAgICAgb3ZlcmZsb3c9InZpc2libGUiCiAgICAgICAgIGlkPSJnbHlwaDAtMTMiPgogICAgICAgIDxwYXRoCiAgICAgICAgICAgc3R5bGU9InN0cm9rZTpub25lOyIKICAgICAgICAgICBkPSJNIDAuMTcxODc1IC0wLjc2NTYyNSBMIDAuNTMxMjUgLTAuODEyNSBDIDAuNTYyNSAtMC42MTMyODEgMC42MjUgLTAuNDY4NzUgMC43MTg3NSAtMC4zNzUgQyAwLjgyMDMxMiAtMC4yODEyNSAwLjk0NTMxMiAtMC4yMzQzNzUgMS4wOTM3NSAtMC4yMzQzNzUgQyAxLjI1NzgxMiAtMC4yMzQzNzUgMS4zOTg0MzggLTAuMjg5MDYyIDEuNTE1NjI1IC0wLjQwNjI1IEMgMS42Mjg5MDYgLTAuNTMxMjUgMS42ODc1IC0wLjY3NTc4MSAxLjY4NzUgLTAuODQzNzUgQyAxLjY4NzUgLTEuMDA3ODEyIDEuNjI4OTA2IC0xLjE0NDUzMSAxLjUxNTYyNSAtMS4yNSBDIDEuNDEwMTU2IC0xLjM1MTU2MiAxLjI4MTI1IC0xLjQwNjI1IDEuMTI1IC0xLjQwNjI1IEMgMS4wNTA3ODEgLTEuNDA2MjUgMC45Njg3NSAtMS4zOTA2MjUgMC44NzUgLTEuMzU5Mzc1IEwgMC45MDYyNSAtMS42NzE4NzUgQyAwLjkyNTc4MSAtMS42NzE4NzUgMC45NDUzMTIgLTEuNjcxODc1IDAuOTY4NzUgLTEuNjcxODc1IEMgMS4xMTMyODEgLTEuNjcxODc1IDEuMjQyMTg4IC0xLjcwNzAzMSAxLjM1OTM3NSAtMS43ODEyNSBDIDEuNDg0Mzc1IC0xLjg2MzI4MSAxLjU0Njg3NSAtMS45ODgyODEgMS41NDY4NzUgLTIuMTU2MjUgQyAxLjU0Njg3NSAtMi4yODEyNSAxLjUwMzkwNiAtMi4zODI4MTIgMS40MjE4NzUgLTIuNDY4NzUgQyAxLjMzNTkzOCAtMi41NjI1IDEuMjIyNjU2IC0yLjYwOTM3NSAxLjA3ODEyNSAtMi42MDkzNzUgQyAwLjk0MTQwNiAtMi42MDkzNzUgMC44MjgxMjUgLTIuNTYyNSAwLjczNDM3NSAtMi40Njg3NSBDIDAuNjQwNjI1IC0yLjM4MjgxMiAwLjU4MjAzMSAtMi4yNTc4MTIgMC41NjI1IC0yLjA5Mzc1IEwgMC4yMDMxMjUgLTIuMTU2MjUgQyAwLjI0MjE4OCAtMi4zODI4MTIgMC4zNDM3NSAtMi41NjI1IDAuNSAtMi42ODc1IEMgMC42NTYyNSAtMi44MjAzMTIgMC44NDc2NTYgLTIuODkwNjI1IDEuMDc4MTI1IC0yLjg5MDYyNSBDIDEuMjM0Mzc1IC0yLjg5MDYyNSAxLjM3NSAtMi44NTE1NjIgMS41IC0yLjc4MTI1IEMgMS42MzI4MTIgLTIuNzE4NzUgMS43MzgyODEgLTIuNjI4OTA2IDEuODEyNSAtMi41MTU2MjUgQyAxLjg4MjgxMiAtMi4zOTg0MzggMS45MjE4NzUgLTIuMjczNDM4IDEuOTIxODc1IC0yLjE0MDYyNSBDIDEuOTIxODc1IC0yLjAxNTYyNSAxLjg4MjgxMiAtMS44OTg0MzggMS44MTI1IC0xLjc5Njg3NSBDIDEuNzUgLTEuNzAzMTI1IDEuNjQ4NDM4IC0xLjYyNSAxLjUxNTYyNSAtMS41NjI1IEMgMS42OTE0MDYgLTEuNTE5NTMxIDEuODI4MTI1IC0xLjQzNzUgMS45MjE4NzUgLTEuMzEyNSBDIDIuMDE1NjI1IC0xLjE4NzUgMi4wNjI1IC0xLjAzNTE1NiAyLjA2MjUgLTAuODU5Mzc1IEMgMi4wNjI1IC0wLjU5NzY1NiAxLjk2ODc1IC0wLjM3ODkwNiAxLjc4MTI1IC0wLjIwMzEyNSBDIDEuNTkzNzUgLTAuMDM1MTU2MiAxLjM2MzI4MSAwLjA0Njg3NSAxLjA5Mzc1IDAuMDQ2ODc1IEMgMC44MzIwMzEgMC4wNDY4NzUgMC42MTcxODggLTAuMDIzNDM3NSAwLjQ1MzEyNSAtMC4xNzE4NzUgQyAwLjI4NTE1NiAtMC4zMjgxMjUgMC4xOTE0MDYgLTAuNTIzNDM4IDAuMTcxODc1IC0wLjc2NTYyNSBaIE0gMC4xNzE4NzUgLTAuNzY1NjI1ICIKICAgICAgICAgICBpZD0icGF0aDY3IiAvPgogICAgICA8L3N5bWJvbD4KICAgICAgPHN5bWJvbAogICAgICAgICBvdmVyZmxvdz0idmlzaWJsZSIKICAgICAgICAgaWQ9ImdseXBoMC0xNCI+CiAgICAgICAgPHBhdGgKICAgICAgICAgICBzdHlsZT0ic3Ryb2tlOm5vbmU7IgogICAgICAgICAgIGQ9Ik0gMC4xNzE4NzUgLTAuNzUgTCAwLjU0Njg3NSAtMC43ODEyNSBDIDAuNTY2NDA2IC0wLjYwMTU2MiAwLjYyNSAtMC40Njg3NSAwLjcxODc1IC0wLjM3NSBDIDAuODIwMzEyIC0wLjI4MTI1IDAuOTQ1MzEyIC0wLjIzNDM3NSAxLjA5Mzc1IC0wLjIzNDM3NSBDIDEuMjU3ODEyIC0wLjIzNDM3NSAxLjM5ODQzOCAtMC4yOTY4NzUgMS41MTU2MjUgLTAuNDIxODc1IEMgMS42NDA2MjUgLTAuNTU0Njg4IDEuNzAzMTI1IC0wLjczNDM3NSAxLjcwMzEyNSAtMC45NTMxMjUgQyAxLjcwMzEyNSAtMS4xNDg0MzggMS42NDQ1MzEgLTEuMzA0Njg4IDEuNTMxMjUgLTEuNDIxODc1IEMgMS40MTQwNjIgLTEuNTM1MTU2IDEuMjY5NTMxIC0xLjU5Mzc1IDEuMDkzNzUgLTEuNTkzNzUgQyAwLjk3NjU2MiAtMS41OTM3NSAwLjg3NSAtMS41NjY0MDYgMC43ODEyNSAtMS41MTU2MjUgQyAwLjY4NzUgLTEuNDYwOTM4IDAuNjEzMjgxIC0xLjM5ODQzOCAwLjU2MjUgLTEuMzI4MTI1IEwgMC4yMzQzNzUgLTEuMzU5Mzc1IEwgMC41MTU2MjUgLTIuODQzNzUgTCAxLjkzNzUgLTIuODQzNzUgTCAxLjkzNzUgLTIuNSBMIDAuNzk2ODc1IC0yLjUgTCAwLjY0MDYyNSAtMS43MzQzNzUgQyAwLjgwNDY4OCAtMS44NDc2NTYgMC45ODgyODEgLTEuOTA2MjUgMS4xODc1IC0xLjkwNjI1IEMgMS40Mzc1IC0xLjkwNjI1IDEuNjQ0NTMxIC0xLjgxNjQwNiAxLjgxMjUgLTEuNjQwNjI1IEMgMS45ODgyODEgLTEuNDcyNjU2IDIuMDc4MTI1IC0xLjI1MzkwNiAyLjA3ODEyNSAtMC45ODQzNzUgQyAyLjA3ODEyNSAtMC43MjI2NTYgMi4wMDM5MDYgLTAuNDkyMTg4IDEuODU5Mzc1IC0wLjI5Njg3NSBDIDEuNjcxODc1IC0wLjA2NjQwNjIgMS40MTQwNjIgMC4wNDY4NzUgMS4wOTM3NSAwLjA0Njg3NSBDIDAuODMyMDMxIDAuMDQ2ODc1IDAuNjE3MTg4IC0wLjAyMzQzNzUgMC40NTMxMjUgLTAuMTcxODc1IEMgMC4yODUxNTYgLTAuMzE2NDA2IDAuMTkxNDA2IC0wLjUwNzgxMiAwLjE3MTg3NSAtMC43NSBaIE0gMC4xNzE4NzUgLTAuNzUgIgogICAgICAgICAgIGlkPSJwYXRoNzAiIC8+CiAgICAgIDwvc3ltYm9sPgogICAgICA8c3ltYm9sCiAgICAgICAgIG92ZXJmbG93PSJ2aXNpYmxlIgogICAgICAgICBpZD0iZ2x5cGgwLTE1Ij4KICAgICAgICA8cGF0aAogICAgICAgICAgIHN0eWxlPSJzdHJva2U6bm9uZTsiCiAgICAgICAgICAgZD0iTSAwLjMyODEyNSAwIEwgMC4zMjgxMjUgLTIuODkwNjI1IEwgMi4yODEyNSAtMi44OTA2MjUgTCAyLjI4MTI1IC0yLjU0Njg3NSBMIDAuNzE4NzUgLTIuNTQ2ODc1IEwgMC43MTg3NSAtMS42NTYyNSBMIDIuMDYyNSAtMS42NTYyNSBMIDIuMDYyNSAtMS4zMTI1IEwgMC43MTg3NSAtMS4zMTI1IEwgMC43MTg3NSAwIFogTSAwLjMyODEyNSAwICIKICAgICAgICAgICBpZD0icGF0aDczIiAvPgogICAgICA8L3N5bWJvbD4KICAgICAgPHN5bWJvbAogICAgICAgICBvdmVyZmxvdz0idmlzaWJsZSIKICAgICAgICAgaWQ9ImdseXBoMC0xNiI+CiAgICAgICAgPHBhdGgKICAgICAgICAgICBzdHlsZT0ic3Ryb2tlOm5vbmU7IgogICAgICAgICAgIGQ9Ik0gMS43MDMxMjUgLTAuNjcxODc1IEwgMi4wNjI1IC0wLjYyNSBDIDIgLTAuNDE0MDYyIDEuODkwNjI1IC0wLjI1IDEuNzM0Mzc1IC0wLjEyNSBDIDEuNTc4MTI1IC0wLjAwNzgxMjUgMS4zNzg5MDYgMC4wNDY4NzUgMS4xNDA2MjUgMC4wNDY4NzUgQyAwLjgzNTkzOCAwLjA0Njg3NSAwLjU5Mzc1IC0wLjA0Njg3NSAwLjQwNjI1IC0wLjIzNDM3NSBDIDAuMjI2NTYyIC0wLjQyMTg3NSAwLjE0MDYyNSAtMC42ODc1IDAuMTQwNjI1IC0xLjAzMTI1IEMgMC4xNDA2MjUgLTEuMzgyODEyIDAuMjI2NTYyIC0xLjY1NjI1IDAuNDA2MjUgLTEuODQzNzUgQyAwLjU5Mzc1IC0yLjAzOTA2MiAwLjgzMjAzMSAtMi4xNDA2MjUgMS4xMjUgLTIuMTQwNjI1IEMgMS40MDYyNSAtMi4xNDA2MjUgMS42MzI4MTIgLTIuMDM5MDYyIDEuODEyNSAtMS44NDM3NSBDIDEuOTg4MjgxIC0xLjY1NjI1IDIuMDc4MTI1IC0xLjM5MDYyNSAyLjA3ODEyNSAtMS4wNDY4NzUgQyAyLjA3ODEyNSAtMS4wMjM0MzggMi4wNzgxMjUgLTAuOTkyMTg4IDIuMDc4MTI1IC0wLjk1MzEyNSBMIDAuNTE1NjI1IC0wLjk1MzEyNSBDIDAuNTIzNDM4IC0wLjcyMjY1NiAwLjU4NTkzOCAtMC41NDY4NzUgMC43MDMxMjUgLTAuNDIxODc1IEMgMC44MjgxMjUgLTAuMzA0Njg4IDAuOTcyNjU2IC0wLjI1IDEuMTQwNjI1IC0wLjI1IEMgMS4yNzM0MzggLTAuMjUgMS4zODI4MTIgLTAuMjgxMjUgMS40Njg3NSAtMC4zNDM3NSBDIDEuNTYyNSAtMC40MTQwNjIgMS42NDA2MjUgLTAuNTIzNDM4IDEuNzAzMTI1IC0wLjY3MTg3NSBaIE0gMC41MzEyNSAtMS4yNSBMIDEuNzAzMTI1IC0xLjI1IEMgMS42Nzk2ODggLTEuNDI1NzgxIDEuNjMyODEyIC0xLjU1NDY4OCAxLjU2MjUgLTEuNjQwNjI1IEMgMS40NDUzMTIgLTEuNzczNDM4IDEuMzAwNzgxIC0xLjg0Mzc1IDEuMTI1IC0xLjg0Mzc1IEMgMC45Njg3NSAtMS44NDM3NSAwLjgzMjAzMSAtMS43ODUxNTYgMC43MTg3NSAtMS42NzE4NzUgQyAwLjYwMTU2MiAtMS41NjY0MDYgMC41MzkwNjIgLTEuNDI1NzgxIDAuNTMxMjUgLTEuMjUgWiBNIDAuNTMxMjUgLTEuMjUgIgogICAgICAgICAgIGlkPSJwYXRoNzYiIC8+CiAgICAgIDwvc3ltYm9sPgogICAgICA8c3ltYm9sCiAgICAgICAgIG92ZXJmbG93PSJ2aXNpYmxlIgogICAgICAgICBpZD0iZ2x5cGgwLTE3Ij4KICAgICAgICA8cGF0aAogICAgICAgICAgIHN0eWxlPSJzdHJva2U6bm9uZTsiCiAgICAgICAgICAgZD0iTSAwLjI2NTYyNSAwIEwgMC4yNjU2MjUgLTIuMDkzNzUgTCAwLjU3ODEyNSAtMi4wOTM3NSBMIDAuNTc4MTI1IC0xLjc4MTI1IEMgMC42NjAxNTYgLTEuOTI1NzgxIDAuNzM0Mzc1IC0yLjAxOTUzMSAwLjc5Njg3NSAtMi4wNjI1IEMgMC44NjcxODggLTIuMTEzMjgxIDAuOTQ1MzEyIC0yLjE0MDYyNSAxLjAzMTI1IC0yLjE0MDYyNSBDIDEuMTU2MjUgLTIuMTQwNjI1IDEuMjczNDM4IC0yLjEwMTU2MiAxLjM5MDYyNSAtMi4wMzEyNSBMIDEuMjgxMjUgLTEuNjg3NSBDIDEuMTg3NSAtMS43MzgyODEgMS4wOTc2NTYgLTEuNzY1NjI1IDEuMDE1NjI1IC0xLjc2NTYyNSBDIDAuOTQxNDA2IC0xLjc2NTYyNSAwLjg3NSAtMS43MzgyODEgMC44MTI1IC0xLjY4NzUgQyAwLjc1IC0xLjY0NDUzMSAwLjcwMzEyNSAtMS41ODIwMzEgMC42NzE4NzUgLTEuNSBDIDAuNjI4OTA2IC0xLjM3NSAwLjYwOTM3NSAtMS4yMzgyODEgMC42MDkzNzUgLTEuMDkzNzUgTCAwLjYwOTM3NSAwIFogTSAwLjI2NTYyNSAwICIKICAgICAgICAgICBpZD0icGF0aDc5IiAvPgogICAgICA8L3N5bWJvbD4KICAgICAgPHN5bWJvbAogICAgICAgICBvdmVyZmxvdz0idmlzaWJsZSIKICAgICAgICAgaWQ9ImdseXBoMC0xOCI+CiAgICAgICAgPHBhdGgKICAgICAgICAgICBzdHlsZT0ic3Ryb2tlOm5vbmU7IgogICAgICAgICAgIGQ9Ik0gMS42MjUgLTAuMjY1NjI1IEMgMS41IC0wLjE0ODQzOCAxLjM3NSAtMC4wNjY0MDYyIDEuMjUgLTAuMDE1NjI1IEMgMS4xMjUgMC4wMjM0Mzc1IDAuOTkyMTg4IDAuMDQ2ODc1IDAuODU5Mzc1IDAuMDQ2ODc1IEMgMC42Mjg5MDYgMC4wNDY4NzUgMC40NTMxMjUgLTAuMDA3ODEyNSAwLjMyODEyNSAtMC4xMjUgQyAwLjIwMzEyNSAtMC4yMzgyODEgMC4xNDA2MjUgLTAuMzc4OTA2IDAuMTQwNjI1IC0wLjU0Njg3NSBDIDAuMTQwNjI1IC0wLjY0ODQzOCAwLjE2MDE1NiAtMC43NDIxODggMC4yMDMxMjUgLTAuODI4MTI1IEMgMC4yNTM5MDYgLTAuOTEwMTU2IDAuMzE2NDA2IC0wLjk3NjU2MiAwLjM5MDYyNSAtMS4wMzEyNSBDIDAuNDcyNjU2IC0xLjA4MjAzMSAwLjU2MjUgLTEuMTI1IDAuNjU2MjUgLTEuMTU2MjUgQyAwLjcyNjU2MiAtMS4xNjQwNjIgMC44MzIwMzEgLTEuMTc5Njg4IDAuOTY4NzUgLTEuMjAzMTI1IEMgMS4yNSAtMS4yMzQzNzUgMS40NTcwMzEgLTEuMjczNDM4IDEuNTkzNzUgLTEuMzI4MTI1IEMgMS42MDE1NjIgLTEuMzc4OTA2IDEuNjA5Mzc1IC0xLjQxMDE1NiAxLjYwOTM3NSAtMS40MjE4NzUgQyAxLjYwOTM3NSAtMS41NjY0MDYgMS41NzAzMTIgLTEuNjY0MDYyIDEuNSAtMS43MTg3NSBDIDEuNDA2MjUgLTEuODAwNzgxIDEuMjY5NTMxIC0xLjg0Mzc1IDEuMDkzNzUgLTEuODQzNzUgQyAwLjkyNTc4MSAtMS44NDM3NSAwLjgwMDc4MSAtMS44MTI1IDAuNzE4NzUgLTEuNzUgQyAwLjY0NDUzMSAtMS42OTUzMTIgMC41ODU5MzggLTEuNTk3NjU2IDAuNTQ2ODc1IC0xLjQ1MzEyNSBMIDAuMjAzMTI1IC0xLjUgQyAwLjIzNDM3NSAtMS42NDQ1MzEgMC4yODUxNTYgLTEuNzU3ODEyIDAuMzU5Mzc1IC0xLjg0Mzc1IEMgMC40Mjk2ODggLTEuOTM3NSAwLjUzNTE1NiAtMi4wMDc4MTIgMC42NzE4NzUgLTIuMDYyNSBDIDAuODA0Njg4IC0yLjExMzI4MSAwLjk2ODc1IC0yLjE0MDYyNSAxLjE1NjI1IC0yLjE0MDYyNSBDIDEuMzMyMDMxIC0yLjE0MDYyNSAxLjQ3MjY1NiAtMi4xMTcxODggMS41NzgxMjUgLTIuMDc4MTI1IEMgMS42OTE0MDYgLTIuMDM1MTU2IDEuNzczNDM4IC0xLjk4NDM3NSAxLjgyODEyNSAtMS45MjE4NzUgQyAxLjg3ODkwNiAtMS44NTkzNzUgMS45MTQwNjIgLTEuNzczNDM4IDEuOTM3NSAtMS42NzE4NzUgQyAxLjk0NTMxMiAtMS42MDkzNzUgMS45NTMxMjUgLTEuNSAxLjk1MzEyNSAtMS4zNDM3NSBMIDEuOTUzMTI1IC0wLjg3NSBDIDEuOTUzMTI1IC0wLjUzOTA2MiAxLjk1NzAzMSAtMC4zMzIwMzEgMS45Njg3NSAtMC4yNSBDIDEuOTg4MjgxIC0wLjE2NDA2MiAyLjAyMzQzOCAtMC4wODIwMzEyIDIuMDc4MTI1IDAgTCAxLjcwMzEyNSAwIEMgMS42NjAxNTYgLTAuMDcwMzEyNSAxLjYzMjgxMiAtMC4xNjAxNTYgMS42MjUgLTAuMjY1NjI1IFogTSAxLjU5Mzc1IC0xLjA0Njg3NSBDIDEuNDY4NzUgLTAuOTkyMTg4IDEuMjczNDM4IC0wLjk1MzEyNSAxLjAxNTYyNSAtMC45MjE4NzUgQyAwLjg2NzE4OCAtMC44OTg0MzggMC43NjU2MjUgLTAuODc1IDAuNzAzMTI1IC0wLjg0Mzc1IEMgMC42NDg0MzggLTAuODIwMzEyIDAuNjA5Mzc1IC0wLjc4NTE1NiAwLjU3ODEyNSAtMC43MzQzNzUgQyAwLjU0Njg3NSAtMC42Nzk2ODggMC41MzEyNSAtMC42MjUgMC41MzEyNSAtMC41NjI1IEMgMC41MzEyNSAtMC40Njg3NSAwLjU2MjUgLTAuMzkwNjI1IDAuNjI1IC0wLjMyODEyNSBDIDAuNjk1MzEyIC0wLjI2NTYyNSAwLjgwMDc4MSAtMC4yMzQzNzUgMC45Mzc1IC0wLjIzNDM3NSBDIDEuMDgyMDMxIC0wLjIzNDM3NSAxLjIwNzAzMSAtMC4yNTc4MTIgMS4zMTI1IC0wLjMxMjUgQyAxLjQxNDA2MiAtMC4zNzUgMS40OTIxODggLTAuNDU3MDMxIDEuNTQ2ODc1IC0wLjU2MjUgQyAxLjU3ODEyNSAtMC42NDQ1MzEgMS41OTM3NSAtMC43NjU2MjUgMS41OTM3NSAtMC45MjE4NzUgWiBNIDEuNTkzNzUgLTEuMDQ2ODc1ICIKICAgICAgICAgICBpZD0icGF0aDgyIiAvPgogICAgICA8L3N5bWJvbD4KICAgICAgPHN5bWJvbAogICAgICAgICBvdmVyZmxvdz0idmlzaWJsZSIKICAgICAgICAgaWQ9ImdseXBoMC0xOSI+CiAgICAgICAgPHBhdGgKICAgICAgICAgICBzdHlsZT0ic3Ryb2tlOm5vbmU7IgogICAgICAgICAgIGQ9Ik0gMC4zMTI1IDAgTCAwLjMxMjUgLTIuODkwNjI1IEwgMS40MDYyNSAtMi44OTA2MjUgQyAxLjU5Mzc1IC0yLjg5MDYyNSAxLjczODI4MSAtMi44Nzg5MDYgMS44NDM3NSAtMi44NTkzNzUgQyAxLjk3NjU2MiAtMi44MzU5MzggMi4wOTM3NSAtMi43ODkwNjIgMi4xODc1IC0yLjcxODc1IEMgMi4yODkwNjIgLTIuNjU2MjUgMi4zNjcxODggLTIuNTYyNSAyLjQyMTg3NSAtMi40Mzc1IEMgMi40ODQzNzUgLTIuMzIwMzEyIDIuNTE1NjI1IC0yLjE5MTQwNiAyLjUxNTYyNSAtMi4wNDY4NzUgQyAyLjUxNTYyNSAtMS44MDQ2ODggMi40Mzc1IC0xLjU5NzY1NiAyLjI4MTI1IC0xLjQyMTg3NSBDIDIuMTI1IC0xLjI1MzkwNiAxLjg0Mzc1IC0xLjE3MTg3NSAxLjQzNzUgLTEuMTcxODc1IEwgMC42ODc1IC0xLjE3MTg3NSBMIDAuNjg3NSAwIFogTSAwLjY4NzUgLTEuNTE1NjI1IEwgMS40Mzc1IC0xLjUxNTYyNSBDIDEuNjg3NSAtMS41MTU2MjUgMS44NjMyODEgLTEuNTYyNSAxLjk2ODc1IC0xLjY1NjI1IEMgMi4wNzAzMTIgLTEuNzUgMi4xMjUgLTEuODc4OTA2IDIuMTI1IC0yLjA0Njg3NSBDIDIuMTI1IC0yLjE2MDE1NiAyLjA5Mzc1IC0yLjI1NzgxMiAyLjAzMTI1IC0yLjM0Mzc1IEMgMS45Njg3NSAtMi40Mzc1IDEuODgyODEyIC0yLjQ5MjE4OCAxLjc4MTI1IC0yLjUxNTYyNSBDIDEuNzE4NzUgLTIuNTM1MTU2IDEuNjAxNTYyIC0yLjU0Njg3NSAxLjQzNzUgLTIuNTQ2ODc1IEwgMC42ODc1IC0yLjU0Njg3NSBaIE0gMC42ODc1IC0xLjUxNTYyNSAiCiAgICAgICAgICAgaWQ9InBhdGg4NSIgLz4KICAgICAgPC9zeW1ib2w+CiAgICAgIDxzeW1ib2wKICAgICAgICAgb3ZlcmZsb3c9InZpc2libGUiCiAgICAgICAgIGlkPSJnbHlwaDAtMjAiPgogICAgICAgIDxwYXRoCiAgICAgICAgICAgc3R5bGU9InN0cm9rZTpub25lOyIKICAgICAgICAgICBkPSJNIDAuMjUgMC44MTI1IEwgMC4yMDMxMjUgMC40Njg3NSBDIDAuMjg1MTU2IDAuNDg4MjgxIDAuMzUxNTYyIDAuNSAwLjQwNjI1IDAuNSBDIDAuNDg4MjgxIDAuNSAwLjU1MDc4MSAwLjQ4NDM3NSAwLjU5Mzc1IDAuNDUzMTI1IEMgMC42NDQ1MzEgMC40Mjk2ODggMC42ODc1IDAuMzk4NDM4IDAuNzE4NzUgMC4zNTkzNzUgQyAwLjczODI4MSAwLjMxNjQwNiAwLjc3MzQzOCAwLjIyNjU2MiAwLjgyODEyNSAwLjA5Mzc1IEMgMC44MzU5MzggMC4wNzAzMTI1IDAuODQ3NjU2IDAuMDM5MDYyNSAwLjg1OTM3NSAwIEwgMC4wNjI1IC0yLjA5Mzc1IEwgMC40NTMxMjUgLTIuMDkzNzUgTCAwLjg3NSAtMC44NzUgQyAwLjkzNzUgLTAuNzI2NTYyIDAuOTg4MjgxIC0wLjU2NjQwNiAxLjAzMTI1IC0wLjM5MDYyNSBDIDEuMDcwMzEyIC0wLjU1NDY4OCAxLjExNzE4OCAtMC43MTg3NSAxLjE3MTg3NSAtMC44NzUgTCAxLjYyNSAtMi4wOTM3NSBMIDEuOTg0Mzc1IC0yLjA5Mzc1IEwgMS4xODc1IDAuMDMxMjUgQyAxLjEwMTU2MiAwLjI1NzgxMiAxLjAzNTE1NiAwLjQyMTg3NSAwLjk4NDM3NSAwLjUxNTYyNSBDIDAuOTIxODc1IDAuNjI4OTA2IDAuODQ3NjU2IDAuNzEwOTM4IDAuNzY1NjI1IDAuNzY1NjI1IEMgMC42Nzk2ODggMC44MTY0MDYgMC41ODU5MzggMC44NDM3NSAwLjQ4NDM3NSAwLjg0Mzc1IEMgMC40MTAxNTYgMC44NDM3NSAwLjMzMjAzMSAwLjgzMjAzMSAwLjI1IDAuODEyNSBaIE0gMC4yNSAwLjgxMjUgIgogICAgICAgICAgIGlkPSJwYXRoODgiIC8+CiAgICAgIDwvc3ltYm9sPgogICAgICA8c3ltYm9sCiAgICAgICAgIG92ZXJmbG93PSJ2aXNpYmxlIgogICAgICAgICBpZD0iZ2x5cGgwLTIxIj4KICAgICAgICA8cGF0aAogICAgICAgICAgIHN0eWxlPSJzdHJva2U6bm9uZTsiCiAgICAgICAgICAgZD0iTSAwLjI2NTYyNSAwIEwgMC4yNjU2MjUgLTIuMDkzNzUgTCAwLjU3ODEyNSAtMi4wOTM3NSBMIDAuNTc4MTI1IC0xLjc5Njg3NSBDIDAuNjQ4NDM4IC0xLjg5ODQzOCAwLjczODI4MSAtMS45ODQzNzUgMC44NDM3NSAtMi4wNDY4NzUgQyAwLjk1NzAzMSAtMi4xMDkzNzUgMS4wODIwMzEgLTIuMTQwNjI1IDEuMjE4NzUgLTIuMTQwNjI1IEMgMS4zNzUgLTIuMTQwNjI1IDEuNSAtMi4xMDE1NjIgMS41OTM3NSAtMi4wMzEyNSBDIDEuNjk1MzEyIC0xLjk2ODc1IDEuNzY5NTMxIC0xLjg3ODkwNiAxLjgxMjUgLTEuNzY1NjI1IEMgMS45NzY1NjIgLTIuMDE1NjI1IDIuMTkxNDA2IC0yLjE0MDYyNSAyLjQ1MzEyNSAtMi4xNDA2MjUgQyAyLjY2MDE1NiAtMi4xNDA2MjUgMi44MTY0MDYgLTIuMDgyMDMxIDIuOTIxODc1IC0xLjk2ODc1IEMgMy4wMzUxNTYgLTEuODUxNTYyIDMuMDkzNzUgLTEuNjc1NzgxIDMuMDkzNzUgLTEuNDM3NSBMIDMuMDkzNzUgMCBMIDIuNzUgMCBMIDIuNzUgLTEuMzEyNSBDIDIuNzUgLTEuNDU3MDMxIDIuNzM0Mzc1IC0xLjU2MjUgMi43MDMxMjUgLTEuNjI1IEMgMi42Nzk2ODggLTEuNjg3NSAyLjY0MDYyNSAtMS43MzQzNzUgMi41NzgxMjUgLTEuNzY1NjI1IEMgMi41MjM0MzggLTEuODA0Njg4IDIuNDU3MDMxIC0xLjgyODEyNSAyLjM3NSAtMS44MjgxMjUgQyAyLjIyNjU2MiAtMS44MjgxMjUgMi4xMDE1NjIgLTEuNzczNDM4IDIgLTEuNjcxODc1IEMgMS45MDYyNSAtMS41NzgxMjUgMS44NTkzNzUgLTEuNDI1NzgxIDEuODU5Mzc1IC0xLjIxODc1IEwgMS44NTkzNzUgMCBMIDEuNSAwIEwgMS41IC0xLjM1OTM3NSBDIDEuNSAtMS41MTU2MjUgMS40Njg3NSAtMS42Mjg5MDYgMS40MDYyNSAtMS43MDMxMjUgQyAxLjM1MTU2MiAtMS43ODUxNTYgMS4yNjU2MjUgLTEuODI4MTI1IDEuMTQwNjI1IC0xLjgyODEyNSBDIDEuMDM1MTU2IC0xLjgyODEyNSAwLjk0MTQwNiAtMS44MDA3ODEgMC44NTkzNzUgLTEuNzUgQyAwLjc3MzQzOCAtMS42OTUzMTIgMC43MTA5MzggLTEuNjE3MTg4IDAuNjcxODc1IC0xLjUxNTYyNSBDIDAuNjQwNjI1IC0xLjQyMTg3NSAwLjYyNSAtMS4yNzM0MzggMC42MjUgLTEuMDc4MTI1IEwgMC42MjUgMCBaIE0gMC4yNjU2MjUgMCAiCiAgICAgICAgICAgaWQ9InBhdGg5MSIgLz4KICAgICAgPC9zeW1ib2w+CiAgICAgIDxzeW1ib2wKICAgICAgICAgb3ZlcmZsb3c9InZpc2libGUiCiAgICAgICAgIGlkPSJnbHlwaDAtMjIiPgogICAgICAgIDxwYXRoCiAgICAgICAgICAgc3R5bGU9InN0cm9rZTpub25lOyIKICAgICAgICAgICBkPSJNIDAuMjY1NjI1IDAuNzk2ODc1IEwgMC4yNjU2MjUgLTIuMDkzNzUgTCAwLjU5Mzc1IC0yLjA5Mzc1IEwgMC41OTM3NSAtMS44MTI1IEMgMC42NjQwNjIgLTEuOTI1NzgxIDAuNzUgLTIuMDA3ODEyIDAuODQzNzUgLTIuMDYyNSBDIDAuOTM3NSAtMi4xMTMyODEgMS4wNTA3ODEgLTIuMTQwNjI1IDEuMTg3NSAtMi4xNDA2MjUgQyAxLjM3NSAtMi4xNDA2MjUgMS41MzUxNTYgLTIuMDkzNzUgMS42NzE4NzUgLTIgQyAxLjgwNDY4OCAtMS45MDYyNSAxLjkwNjI1IC0xLjc3MzQzOCAxLjk2ODc1IC0xLjYwOTM3NSBDIDIuMDM5MDYyIC0xLjQ0MTQwNiAyLjA3ODEyNSAtMS4yNTc4MTIgMi4wNzgxMjUgLTEuMDYyNSBDIDIuMDc4MTI1IC0wLjg0Mzc1IDIuMDM1MTU2IC0wLjY0NDUzMSAxLjk1MzEyNSAtMC40Njg3NSBDIDEuODc4OTA2IC0wLjMwMDc4MSAxLjc2OTUzMSAtMC4xNzE4NzUgMS42MjUgLTAuMDc4MTI1IEMgMS40NzY1NjIgMC4wMDM5MDYyNSAxLjMyODEyNSAwLjA0Njg3NSAxLjE3MTg3NSAwLjA0Njg3NSBDIDEuMDQ2ODc1IDAuMDQ2ODc1IDAuOTM3NSAwLjAxOTUzMTIgMC44NDM3NSAtMC4wMzEyNSBDIDAuNzUgLTAuMDgyMDMxMiAwLjY3NTc4MSAtMC4xNDQ1MzEgMC42MjUgLTAuMjE4NzUgTCAwLjYyNSAwLjc5Njg3NSBaIE0gMC41OTM3NSAtMS4wMzEyNSBDIDAuNTkzNzUgLTAuNzU3ODEyIDAuNjQ0NTMxIC0wLjU2MjUgMC43NSAtMC40Mzc1IEMgMC44NTE1NjIgLTAuMzEyNSAwLjk4NDM3NSAtMC4yNSAxLjE0MDYyNSAtMC4yNSBDIDEuMjk2ODc1IC0wLjI1IDEuNDI5Njg4IC0wLjMxMjUgMS41NDY4NzUgLTAuNDM3NSBDIDEuNjYwMTU2IC0wLjU3MDMxMiAxLjcxODc1IC0wLjc4MTI1IDEuNzE4NzUgLTEuMDYyNSBDIDEuNzE4NzUgLTEuMzMyMDMxIDEuNjYwMTU2IC0xLjUzMTI1IDEuNTQ2ODc1IC0xLjY1NjI1IEMgMS40NDE0MDYgLTEuNzg5MDYyIDEuMzEyNSAtMS44NTkzNzUgMS4xNTYyNSAtMS44NTkzNzUgQyAxLjAwNzgxMiAtMS44NTkzNzUgMC44Nzg5MDYgLTEuNzg1MTU2IDAuNzY1NjI1IC0xLjY0MDYyNSBDIDAuNjQ4NDM4IC0xLjUwMzkwNiAwLjU5Mzc1IC0xLjMwMDc4MSAwLjU5Mzc1IC0xLjAzMTI1IFogTSAwLjU5Mzc1IC0xLjAzMTI1ICIKICAgICAgICAgICBpZD0icGF0aDk0IiAvPgogICAgICA8L3N5bWJvbD4KICAgICAgPHN5bWJvbAogICAgICAgICBvdmVyZmxvdz0idmlzaWJsZSIKICAgICAgICAgaWQ9ImdseXBoMC0yMyI+CiAgICAgICAgPHBhdGgKICAgICAgICAgICBzdHlsZT0ic3Ryb2tlOm5vbmU7IgogICAgICAgICAgIGQ9Ik0gMC4yMDMxMjUgMC4xNzE4NzUgTCAwLjU0Njg3NSAwLjIxODc1IEMgMC41NTQ2ODggMC4zMzIwMzEgMC41OTc2NTYgMC40MTAxNTYgMC42NzE4NzUgMC40NTMxMjUgQyAwLjc1MzkwNiAwLjUyMzQzOCAwLjg3NSAwLjU2MjUgMS4wMzEyNSAwLjU2MjUgQyAxLjE4NzUgMC41NjI1IDEuMzEyNSAwLjUyMzQzOCAxLjQwNjI1IDAuNDUzMTI1IEMgMS41IDAuMzkwNjI1IDEuNTYyNSAwLjMwMDc4MSAxLjU5Mzc1IDAuMTg3NSBDIDEuNjAxNTYyIDAuMTEzMjgxIDEuNjA5Mzc1IC0wLjAzOTA2MjUgMS42MDkzNzUgLTAuMjgxMjUgQyAxLjQ1MzEyNSAtMC4wOTM3NSAxLjI1NzgxMiAwIDEuMDMxMjUgMCBDIDAuNzUgMCAwLjUyMzQzOCAtMC4xMDE1NjIgMC4zNTkzNzUgLTAuMzEyNSBDIDAuMjAzMTI1IC0wLjUxOTUzMSAwLjEyNSAtMC43Njk1MzEgMC4xMjUgLTEuMDYyNSBDIDAuMTI1IC0xLjI1NzgxMiAwLjE2MDE1NiAtMS40NDE0MDYgMC4yMzQzNzUgLTEuNjA5Mzc1IEMgMC4zMDQ2ODggLTEuNzczNDM4IDAuNDEwMTU2IC0xLjkwNjI1IDAuNTQ2ODc1IC0yIEMgMC42OTE0MDYgLTIuMDkzNzUgMC44NTE1NjIgLTIuMTQwNjI1IDEuMDMxMjUgLTIuMTQwNjI1IEMgMS4yODEyNSAtMi4xNDA2MjUgMS40ODQzNzUgLTIuMDM5MDYyIDEuNjQwNjI1IC0xLjg0Mzc1IEwgMS42NDA2MjUgLTIuMDkzNzUgTCAxLjk2ODc1IC0yLjA5Mzc1IEwgMS45Njg3NSAtMC4yODEyNSBDIDEuOTY4NzUgMC4wMzkwNjI1IDEuOTM3NSAwLjI2OTUzMSAxLjg3NSAwLjQwNjI1IEMgMS44MTI1IDAuNTM5MDYyIDEuNzA3MDMxIDAuNjQ0NTMxIDEuNTYyNSAwLjcxODc1IEMgMS40MTQwNjIgMC44MDA3ODEgMS4yMzgyODEgMC44NDM3NSAxLjAzMTI1IDAuODQzNzUgQyAwLjc4MTI1IDAuODQzNzUgMC41NzgxMjUgMC43ODUxNTYgMC40MjE4NzUgMC42NzE4NzUgQyAwLjI2NTYyNSAwLjU2NjQwNiAwLjE5MTQwNiAwLjM5ODQzOCAwLjIwMzEyNSAwLjE3MTg3NSBaIE0gMC41IC0xLjA3ODEyNSBDIDAuNSAtMC44MDQ2ODggMC41NTA3ODEgLTAuNjA5Mzc1IDAuNjU2MjUgLTAuNDg0Mzc1IEMgMC43Njk1MzEgLTAuMzU5Mzc1IDAuOTA2MjUgLTAuMjk2ODc1IDEuMDYyNSAtMC4yOTY4NzUgQyAxLjIyNjU2MiAtMC4yOTY4NzUgMS4zNjMyODEgLTAuMzU5Mzc1IDEuNDY4NzUgLTAuNDg0Mzc1IEMgMS41ODIwMzEgLTAuNjA5Mzc1IDEuNjQwNjI1IC0wLjgwNDY4OCAxLjY0MDYyNSAtMS4wNzgxMjUgQyAxLjY0MDYyNSAtMS4zMjgxMjUgMS41ODIwMzEgLTEuNTE1NjI1IDEuNDY4NzUgLTEuNjQwNjI1IEMgMS4zNTE1NjIgLTEuNzczNDM4IDEuMjE4NzUgLTEuODQzNzUgMS4wNjI1IC0xLjg0Mzc1IEMgMC45MDYyNSAtMS44NDM3NSAwLjc2OTUzMSAtMS43NzM0MzggMC42NTYyNSAtMS42NDA2MjUgQyAwLjU1MDc4MSAtMS41MTU2MjUgMC41IC0xLjMyODEyNSAwLjUgLTEuMDc4MTI1IFogTSAwLjUgLTEuMDc4MTI1ICIKICAgICAgICAgICBpZD0icGF0aDk3IiAvPgogICAgICA8L3N5bWJvbD4KICAgIDwvZz4KICAgIDxjbGlwUGF0aAogICAgICAgaWQ9ImNsaXAxIj4KICAgICAgPHBhdGgKICAgICAgICAgZD0iTSAwIDAgTCAxODYuMDExNzE5IDAgTCAxODYuMDExNzE5IDk3IEwgMCA5NyBaIE0gMCAwICIKICAgICAgICAgaWQ9InBhdGgxMDIiIC8+CiAgICA8L2NsaXBQYXRoPgogICAgPGNsaXBQYXRoCiAgICAgICBpZD0iY2xpcDIiPgogICAgICA8cmVjdAogICAgICAgICB4PSIwIgogICAgICAgICB5PSIwIgogICAgICAgICB3aWR0aD0iMTg3IgogICAgICAgICBoZWlnaHQ9Ijk3IgogICAgICAgICBpZD0icmVjdDEwNSIgLz4KICAgIDwvY2xpcFBhdGg+CiAgICA8ZwogICAgICAgaWQ9InN1cmZhY2UxNjAzOSIKICAgICAgIGNsaXAtcGF0aD0idXJsKCNjbGlwMikiPgogICAgICA8cGF0aAogICAgICAgICBzdHlsZT0iIHN0cm9rZTpub25lO2ZpbGwtcnVsZTpub256ZXJvO2ZpbGw6cmdiKDc4LjgyMzg1MyUsODUuNDkwNDE3JSw5Ny4yNTQ5NDQlKTtmaWxsLW9wYWNpdHk6MTsiCiAgICAgICAgIGQ9Ik0gMi40NTMxMjUgNTguNTM5MDYyIEwgNDAuMzUxNTYyIDU4LjUzOTA2MiBMIDQwLjM1MTU2MiA0MC4xMTcxODggTCAyLjQ1MzEyNSA0MC4xMTcxODggWiBNIDIuNDUzMTI1IDU4LjUzOTA2MiAiCiAgICAgICAgIGlkPSJwYXRoMTA4IiAvPgogICAgICA8cGF0aAogICAgICAgICBzdHlsZT0iZmlsbDpub25lO3N0cm9rZS13aWR0aDo3NjI7c3Ryb2tlLWxpbmVjYXA6YnV0dDtzdHJva2UtbGluZWpvaW46cm91bmQ7c3Ryb2tlOnJnYigzOS45OTkzOSUsMzkuOTk5MzklLDM5Ljk5OTM5JSk7c3Ryb2tlLW9wYWNpdHk6MTtzdHJva2UtbWl0ZXJsaW1pdDoxNC4zMzU1OTsiCiAgICAgICAgIGQ9Ik0gOTA1Ni4zNzc3NjMgNzAxNjAuNzY2OTg4IEwgNzU5MDUuMDAyNzc2IDcwMTYwLjc2Njk4OCBMIDc1OTA1LjAwMjc3NiAxMDI2NTQuOTAzODIyIEwgOTA1Ni4zNzc3NjMgMTAyNjU0LjkwMzgyMiBaIE0gOTA1Ni4zNzc3NjMgNzAxNjAuNzY2OTg4ICIKICAgICAgICAgdHJhbnNmb3JtPSJtYXRyaXgoMC4wMDA1NjY5MjksMCwwLDAuMDAwNTY2OTI5LC0yLjY4MTIsMC4zNDEpIgogICAgICAgICBpZD0icGF0aDExMCIgLz4KICAgICAgPGcKICAgICAgICAgc3R5bGU9ImZpbGw6cmdiKDAlLDAlLDAlKTtmaWxsLW9wYWNpdHk6MTsiCiAgICAgICAgIGlkPSJnMTIwIj4KICAgICAgICA8dXNlCiAgICAgICAgICAgeGxpbms6aHJlZj0iI2dseXBoMC0xIgogICAgICAgICAgIHg9IjYuMzkzODI5IgogICAgICAgICAgIHk9IjUwLjgyMzE4NSIKICAgICAgICAgICBpZD0idXNlMTEyIiAvPgogICAgICAgIDx1c2UKICAgICAgICAgICB4bGluazpocmVmPSIjZ2x5cGgwLTIiCiAgICAgICAgICAgeD0iOC42MzU2MjEiCiAgICAgICAgICAgeT0iNTAuODIzMTg1IgogICAgICAgICAgIGlkPSJ1c2UxMTQiIC8+CiAgICAgICAgPHVzZQogICAgICAgICAgIHhsaW5rOmhyZWY9IiNnbHlwaDAtMSIKICAgICAgICAgICB4PSIxMC42NTE2MjEiCiAgICAgICAgICAgeT0iNTAuODIzMTg1IgogICAgICAgICAgIGlkPSJ1c2UxMTYiIC8+CiAgICAgICAgPHVzZQogICAgICAgICAgIHhsaW5rOmhyZWY9IiNnbHlwaDAtMyIKICAgICAgICAgICB4PSIxMi44OTM0MTQiCiAgICAgICAgICAgeT0iNTAuODIzMTg1IgogICAgICAgICAgIGlkPSJ1c2UxMTgiIC8+CiAgICAgIDwvZz4KICAgICAgPGcKICAgICAgICAgc3R5bGU9ImZpbGw6cmdiKDAlLDAlLDAlKTtmaWxsLW9wYWNpdHk6MTsiCiAgICAgICAgIGlkPSJnMTM4Ij4KICAgICAgICA8dXNlCiAgICAgICAgICAgeGxpbms6aHJlZj0iI2dseXBoMC00IgogICAgICAgICAgIHg9IjE0LjAxMDI3OCIKICAgICAgICAgICB5PSI1MC44MjMxODUiCiAgICAgICAgICAgaWQ9InVzZTEyMiIgLz4KICAgICAgICA8dXNlCiAgICAgICAgICAgeGxpbms6aHJlZj0iI2dseXBoMC01IgogICAgICAgICAgIHg9IjE2LjAyNjI3OCIKICAgICAgICAgICB5PSI1MC44MjMxODUiCiAgICAgICAgICAgaWQ9InVzZTEyNCIgLz4KICAgICAgICA8dXNlCiAgICAgICAgICAgeGxpbms6aHJlZj0iI2dseXBoMC02IgogICAgICAgICAgIHg9IjE4LjI2ODA3MSIKICAgICAgICAgICB5PSI1MC44MjMxODUiCiAgICAgICAgICAgaWQ9InVzZTEyNiIgLz4KICAgICAgICA8dXNlCiAgICAgICAgICAgeGxpbms6aHJlZj0iI2dseXBoMC03IgogICAgICAgICAgIHg9IjIwLjUwOTg2MyIKICAgICAgICAgICB5PSI1MC44MjMxODUiCiAgICAgICAgICAgaWQ9InVzZTEyOCIgLz4KICAgICAgICA8dXNlCiAgICAgICAgICAgeGxpbms6aHJlZj0iI2dseXBoMC01IgogICAgICAgICAgIHg9IjIyLjUyNTg2NCIKICAgICAgICAgICB5PSI1MC44MjMxODUiCiAgICAgICAgICAgaWQ9InVzZTEzMCIgLz4KICAgICAgICA8dXNlCiAgICAgICAgICAgeGxpbms6aHJlZj0iI2dseXBoMC04IgogICAgICAgICAgIHg9IjI0Ljc2NzY1NiIKICAgICAgICAgICB5PSI1MC44MjMxODUiCiAgICAgICAgICAgaWQ9InVzZTEzMiIgLz4KICAgICAgICA8dXNlCiAgICAgICAgICAgeGxpbms6aHJlZj0iI2dseXBoMC05IgogICAgICAgICAgIHg9IjI1LjY2Mjc2IgogICAgICAgICAgIHk9IjUwLjgyMzE4NSIKICAgICAgICAgICBpZD0idXNlMTM0IiAvPgogICAgICAgIDx1c2UKICAgICAgICAgICB4bGluazpocmVmPSIjZ2x5cGgwLTEwIgogICAgICAgICAgIHg9IjI3LjkwNDU1MiIKICAgICAgICAgICB5PSI1MC44MjMxODUiCiAgICAgICAgICAgaWQ9InVzZTEzNiIgLz4KICAgICAgPC9nPgogICAgICA8ZwogICAgICAgICBzdHlsZT0iZmlsbDpyZ2IoMCUsMCUsMCUpO2ZpbGwtb3BhY2l0eToxOyIKICAgICAgICAgaWQ9ImcxNDgiPgogICAgICAgIDx1c2UKICAgICAgICAgICB4bGluazpocmVmPSIjZ2x5cGgwLTExIgogICAgICAgICAgIHg9IjI5LjAyMTQxNyIKICAgICAgICAgICB5PSI1MC44MjMxODUiCiAgICAgICAgICAgaWQ9InVzZTE0MCIgLz4KICAgICAgICA8dXNlCiAgICAgICAgICAgeGxpbms6aHJlZj0iI2dseXBoMC01IgogICAgICAgICAgIHg9IjI5LjkxNjUyMSIKICAgICAgICAgICB5PSI1MC44MjMxODUiCiAgICAgICAgICAgaWQ9InVzZTE0MiIgLz4KICAgICAgICA8dXNlCiAgICAgICAgICAgeGxpbms6aHJlZj0iI2dseXBoMC02IgogICAgICAgICAgIHg9IjMyLjE1ODMxMyIKICAgICAgICAgICB5PSI1MC44MjMxODUiCiAgICAgICAgICAgaWQ9InVzZTE0NCIgLz4KICAgICAgICA8dXNlCiAgICAgICAgICAgeGxpbms6aHJlZj0iI2dseXBoMC0xMiIKICAgICAgICAgICB4PSIzNC40MDAxMDYiCiAgICAgICAgICAgeT0iNTAuODIzMTg1IgogICAgICAgICAgIGlkPSJ1c2UxNDYiIC8+CiAgICAgIDwvZz4KICAgICAgPHBhdGgKICAgICAgICAgc3R5bGU9IiBzdHJva2U6bm9uZTtmaWxsLXJ1bGU6bm9uemVybztmaWxsOnJnYig3OC44MjM4NTMlLDg1LjQ5MDQxNyUsOTcuMjU0OTQ0JSk7ZmlsbC1vcGFjaXR5OjE7IgogICAgICAgICBkPSJNIDUzLjcwMzEyNSA0Ny4wNjY0MDYgTCA5MS42MDU0NjkgNDcuMDY2NDA2IEwgOTEuNjA1NDY5IDI4LjY0MDYyNSBMIDUzLjcwMzEyNSAyOC42NDA2MjUgWiBNIDUzLjcwMzEyNSA0Ny4wNjY0MDYgIgogICAgICAgICBpZD0icGF0aDE1MCIgLz4KICAgICAgPHBhdGgKICAgICAgICAgc3R5bGU9ImZpbGw6bm9uZTtzdHJva2Utd2lkdGg6NzYyO3N0cm9rZS1saW5lY2FwOmJ1dHQ7c3Ryb2tlLWxpbmVqb2luOnJvdW5kO3N0cm9rZTpyZ2IoMzkuOTk5MzklLDM5Ljk5OTM5JSwzOS45OTkzOSUpO3N0cm9rZS1vcGFjaXR5OjE7c3Ryb2tlLW1pdGVybGltaXQ6MTQuMzM1NTk7IgogICAgICAgICBkPSJNIDk5NDU1LjY3Mjc3MiA0OTkxNy4zODgyNzQgTCAxNjYzMTEuMTg3OTc2IDQ5OTE3LjM4ODI3NCBMIDE2NjMxMS4xODc5NzYgODI0MTguNDE1Mjk4IEwgOTk0NTUuNjcyNzcyIDgyNDE4LjQxNTI5OCBaIE0gOTk0NTUuNjcyNzcyIDQ5OTE3LjM4ODI3NCAiCiAgICAgICAgIHRyYW5zZm9ybT0ibWF0cml4KDAuMDAwNTY2OTI5LDAsMCwwLjAwMDU2NjkyOSwtMi42ODEyLDAuMzQxKSIKICAgICAgICAgaWQ9InBhdGgxNTIiIC8+CiAgICAgIDxnCiAgICAgICAgIHN0eWxlPSJmaWxsOnJnYigwJSwwJSwwJSk7ZmlsbC1vcGFjaXR5OjE7IgogICAgICAgICBpZD0iZzE2MiI+CiAgICAgICAgPHVzZQogICAgICAgICAgIHhsaW5rOmhyZWY9IiNnbHlwaDAtMTMiCiAgICAgICAgICAgeD0iNTcuNjQ0MjI5IgogICAgICAgICAgIHk9IjM5LjM0NzY4NSIKICAgICAgICAgICBpZD0idXNlMTU0IiAvPgogICAgICAgIDx1c2UKICAgICAgICAgICB4bGluazpocmVmPSIjZ2x5cGgwLTIiCiAgICAgICAgICAgeD0iNTkuODg2MDIxIgogICAgICAgICAgIHk9IjM5LjM0NzY4NSIKICAgICAgICAgICBpZD0idXNlMTU2IiAvPgogICAgICAgIDx1c2UKICAgICAgICAgICB4bGluazpocmVmPSIjZ2x5cGgwLTEzIgogICAgICAgICAgIHg9IjYxLjkwMjAyMSIKICAgICAgICAgICB5PSIzOS4zNDc2ODUiCiAgICAgICAgICAgaWQ9InVzZTE1OCIgLz4KICAgICAgICA8dXNlCiAgICAgICAgICAgeGxpbms6aHJlZj0iI2dseXBoMC0zIgogICAgICAgICAgIHg9IjY0LjE0MzgxNCIKICAgICAgICAgICB5PSIzOS4zNDc2ODUiCiAgICAgICAgICAgaWQ9InVzZTE2MCIgLz4KICAgICAgPC9nPgogICAgICA8ZwogICAgICAgICBzdHlsZT0iZmlsbDpyZ2IoMCUsMCUsMCUpO2ZpbGwtb3BhY2l0eToxOyIKICAgICAgICAgaWQ9ImcxODAiPgogICAgICAgIDx1c2UKICAgICAgICAgICB4bGluazpocmVmPSIjZ2x5cGgwLTQiCiAgICAgICAgICAgeD0iNjUuMjYwNjc4IgogICAgICAgICAgIHk9IjM5LjM0NzY4NSIKICAgICAgICAgICBpZD0idXNlMTY0IiAvPgogICAgICAgIDx1c2UKICAgICAgICAgICB4bGluazpocmVmPSIjZ2x5cGgwLTUiCiAgICAgICAgICAgeD0iNjcuMjc2Njc4IgogICAgICAgICAgIHk9IjM5LjM0NzY4NSIKICAgICAgICAgICBpZD0idXNlMTY2IiAvPgogICAgICAgIDx1c2UKICAgICAgICAgICB4bGluazpocmVmPSIjZ2x5cGgwLTYiCiAgICAgICAgICAgeD0iNjkuNTE4NDcxIgogICAgICAgICAgIHk9IjM5LjM0NzY4NSIKICAgICAgICAgICBpZD0idXNlMTY4IiAvPgogICAgICAgIDx1c2UKICAgICAgICAgICB4bGluazpocmVmPSIjZ2x5cGgwLTciCiAgICAgICAgICAgeD0iNzEuNzYwMjYzIgogICAgICAgICAgIHk9IjM5LjM0NzY4NSIKICAgICAgICAgICBpZD0idXNlMTcwIiAvPgogICAgICAgIDx1c2UKICAgICAgICAgICB4bGluazpocmVmPSIjZ2x5cGgwLTUiCiAgICAgICAgICAgeD0iNzMuNzc2MjY0IgogICAgICAgICAgIHk9IjM5LjM0NzY4NSIKICAgICAgICAgICBpZD0idXNlMTcyIiAvPgogICAgICAgIDx1c2UKICAgICAgICAgICB4bGluazpocmVmPSIjZ2x5cGgwLTgiCiAgICAgICAgICAgeD0iNzYuMDE4MDU2IgogICAgICAgICAgIHk9IjM5LjM0NzY4NSIKICAgICAgICAgICBpZD0idXNlMTc0IiAvPgogICAgICAgIDx1c2UKICAgICAgICAgICB4bGluazpocmVmPSIjZ2x5cGgwLTkiCiAgICAgICAgICAgeD0iNzYuOTEzMTYiCiAgICAgICAgICAgeT0iMzkuMzQ3Njg1IgogICAgICAgICAgIGlkPSJ1c2UxNzYiIC8+CiAgICAgICAgPHVzZQogICAgICAgICAgIHhsaW5rOmhyZWY9IiNnbHlwaDAtMTAiCiAgICAgICAgICAgeD0iNzkuMTU0OTUyIgogICAgICAgICAgIHk9IjM5LjM0NzY4NSIKICAgICAgICAgICBpZD0idXNlMTc4IiAvPgogICAgICA8L2c+CiAgICAgIDxnCiAgICAgICAgIHN0eWxlPSJmaWxsOnJnYigwJSwwJSwwJSk7ZmlsbC1vcGFjaXR5OjE7IgogICAgICAgICBpZD0iZzE5MCI+CiAgICAgICAgPHVzZQogICAgICAgICAgIHhsaW5rOmhyZWY9IiNnbHlwaDAtMTEiCiAgICAgICAgICAgeD0iODAuMjcxODE3IgogICAgICAgICAgIHk9IjM5LjM0NzY4NSIKICAgICAgICAgICBpZD0idXNlMTgyIiAvPgogICAgICAgIDx1c2UKICAgICAgICAgICB4bGluazpocmVmPSIjZ2x5cGgwLTUiCiAgICAgICAgICAgeD0iODEuMTY2OTIxIgogICAgICAgICAgIHk9IjM5LjM0NzY4NSIKICAgICAgICAgICBpZD0idXNlMTg0IiAvPgogICAgICAgIDx1c2UKICAgICAgICAgICB4bGluazpocmVmPSIjZ2x5cGgwLTYiCiAgICAgICAgICAgeD0iODMuNDA4NzEzIgogICAgICAgICAgIHk9IjM5LjM0NzY4NSIKICAgICAgICAgICBpZD0idXNlMTg2IiAvPgogICAgICAgIDx1c2UKICAgICAgICAgICB4bGluazpocmVmPSIjZ2x5cGgwLTEyIgogICAgICAgICAgIHg9Ijg1LjY1MDUwNiIKICAgICAgICAgICB5PSIzOS4zNDc2ODUiCiAgICAgICAgICAgaWQ9InVzZTE4OCIgLz4KICAgICAgPC9nPgogICAgICA8cGF0aAogICAgICAgICBzdHlsZT0iIHN0cm9rZTpub25lO2ZpbGwtcnVsZTpub256ZXJvO2ZpbGw6cmdiKDc4LjgyMzg1MyUsODUuNDkwNDE3JSw5Ny4yNTQ5NDQlKTtmaWxsLW9wYWNpdHk6MTsiCiAgICAgICAgIGQ9Ik0gOTguMTA5Mzc1IDQ3LjA2NjQwNiBMIDEzNi4wMDc4MTIgNDcuMDY2NDA2IEwgMTM2LjAwNzgxMiAyOC42NDA2MjUgTCA5OC4xMDkzNzUgMjguNjQwNjI1IFogTSA5OC4xMDkzNzUgNDcuMDY2NDA2ICIKICAgICAgICAgaWQ9InBhdGgxOTIiIC8+CiAgICAgIDxwYXRoCiAgICAgICAgIHN0eWxlPSJmaWxsOm5vbmU7c3Ryb2tlLXdpZHRoOjc2MjtzdHJva2UtbGluZWNhcDpidXR0O3N0cm9rZS1saW5lam9pbjpyb3VuZDtzdHJva2U6cmdiKDM5Ljk5OTM5JSwzOS45OTkzOSUsMzkuOTk5MzklKTtzdHJva2Utb3BhY2l0eToxO3N0cm9rZS1taXRlcmxpbWl0OjE0LjMzNTU5OyIKICAgICAgICAgZD0iTSAxNzc3ODMuMzU0NjA2IDQ5OTE3LjM4ODI3NCBMIDI0NDYzMS45Nzk2MTkgNDk5MTcuMzg4Mjc0IEwgMjQ0NjMxLjk3OTYxOSA4MjQxOC40MTUyOTggTCAxNzc3ODMuMzU0NjA2IDgyNDE4LjQxNTI5OCBaIE0gMTc3NzgzLjM1NDYwNiA0OTkxNy4zODgyNzQgIgogICAgICAgICB0cmFuc2Zvcm09Im1hdHJpeCgwLjAwMDU2NjkyOSwwLDAsMC4wMDA1NjY5MjksLTIuNjgxMiwwLjM0MSkiCiAgICAgICAgIGlkPSJwYXRoMTk0IiAvPgogICAgICA8ZwogICAgICAgICBzdHlsZT0iZmlsbDpyZ2IoMCUsMCUsMCUpO2ZpbGwtb3BhY2l0eToxOyIKICAgICAgICAgaWQ9ImcyMDQiPgogICAgICAgIDx1c2UKICAgICAgICAgICB4bGluazpocmVmPSIjZ2x5cGgwLTE0IgogICAgICAgICAgIHg9IjEwMi4wNTAxMjkiCiAgICAgICAgICAgeT0iMzkuMzQ3Njg1IgogICAgICAgICAgIGlkPSJ1c2UxOTYiIC8+CiAgICAgICAgPHVzZQogICAgICAgICAgIHhsaW5rOmhyZWY9IiNnbHlwaDAtMiIKICAgICAgICAgICB4PSIxMDQuMjkxOTIxIgogICAgICAgICAgIHk9IjM5LjM0NzY4NSIKICAgICAgICAgICBpZD0idXNlMTk4IiAvPgogICAgICAgIDx1c2UKICAgICAgICAgICB4bGluazpocmVmPSIjZ2x5cGgwLTE0IgogICAgICAgICAgIHg9IjEwNi4zMDc5MjEiCiAgICAgICAgICAgeT0iMzkuMzQ3Njg1IgogICAgICAgICAgIGlkPSJ1c2UyMDAiIC8+CiAgICAgICAgPHVzZQogICAgICAgICAgIHhsaW5rOmhyZWY9IiNnbHlwaDAtMyIKICAgICAgICAgICB4PSIxMDguNTQ5NzE0IgogICAgICAgICAgIHk9IjM5LjM0NzY4NSIKICAgICAgICAgICBpZD0idXNlMjAyIiAvPgogICAgICA8L2c+CiAgICAgIDxnCiAgICAgICAgIHN0eWxlPSJmaWxsOnJnYigwJSwwJSwwJSk7ZmlsbC1vcGFjaXR5OjE7IgogICAgICAgICBpZD0iZzIyMiI+CiAgICAgICAgPHVzZQogICAgICAgICAgIHhsaW5rOmhyZWY9IiNnbHlwaDAtNCIKICAgICAgICAgICB4PSIxMDkuNjY2NTc4IgogICAgICAgICAgIHk9IjM5LjM0NzY4NSIKICAgICAgICAgICBpZD0idXNlMjA2IiAvPgogICAgICAgIDx1c2UKICAgICAgICAgICB4bGluazpocmVmPSIjZ2x5cGgwLTUiCiAgICAgICAgICAgeD0iMTExLjY4MjU3OCIKICAgICAgICAgICB5PSIzOS4zNDc2ODUiCiAgICAgICAgICAgaWQ9InVzZTIwOCIgLz4KICAgICAgICA8dXNlCiAgICAgICAgICAgeGxpbms6aHJlZj0iI2dseXBoMC02IgogICAgICAgICAgIHg9IjExMy45MjQzNzEiCiAgICAgICAgICAgeT0iMzkuMzQ3Njg1IgogICAgICAgICAgIGlkPSJ1c2UyMTAiIC8+CiAgICAgICAgPHVzZQogICAgICAgICAgIHhsaW5rOmhyZWY9IiNnbHlwaDAtNyIKICAgICAgICAgICB4PSIxMTYuMTY2MTYzIgogICAgICAgICAgIHk9IjM5LjM0NzY4NSIKICAgICAgICAgICBpZD0idXNlMjEyIiAvPgogICAgICAgIDx1c2UKICAgICAgICAgICB4bGluazpocmVmPSIjZ2x5cGgwLTUiCiAgICAgICAgICAgeD0iMTE4LjE4MjE2NCIKICAgICAgICAgICB5PSIzOS4zNDc2ODUiCiAgICAgICAgICAgaWQ9InVzZTIxNCIgLz4KICAgICAgICA8dXNlCiAgICAgICAgICAgeGxpbms6aHJlZj0iI2dseXBoMC04IgogICAgICAgICAgIHg9IjEyMC40MjM5NTYiCiAgICAgICAgICAgeT0iMzkuMzQ3Njg1IgogICAgICAgICAgIGlkPSJ1c2UyMTYiIC8+CiAgICAgICAgPHVzZQogICAgICAgICAgIHhsaW5rOmhyZWY9IiNnbHlwaDAtOSIKICAgICAgICAgICB4PSIxMjEuMzE5MDYiCiAgICAgICAgICAgeT0iMzkuMzQ3Njg1IgogICAgICAgICAgIGlkPSJ1c2UyMTgiIC8+CiAgICAgICAgPHVzZQogICAgICAgICAgIHhsaW5rOmhyZWY9IiNnbHlwaDAtMTAiCiAgICAgICAgICAgeD0iMTIzLjU2MDg1MiIKICAgICAgICAgICB5PSIzOS4zNDc2ODUiCiAgICAgICAgICAgaWQ9InVzZTIyMCIgLz4KICAgICAgPC9nPgogICAgICA8ZwogICAgICAgICBzdHlsZT0iZmlsbDpyZ2IoMCUsMCUsMCUpO2ZpbGwtb3BhY2l0eToxOyIKICAgICAgICAgaWQ9ImcyMzIiPgogICAgICAgIDx1c2UKICAgICAgICAgICB4bGluazpocmVmPSIjZ2x5cGgwLTExIgogICAgICAgICAgIHg9IjEyNC42Nzc3MTciCiAgICAgICAgICAgeT0iMzkuMzQ3Njg1IgogICAgICAgICAgIGlkPSJ1c2UyMjQiIC8+CiAgICAgICAgPHVzZQogICAgICAgICAgIHhsaW5rOmhyZWY9IiNnbHlwaDAtNSIKICAgICAgICAgICB4PSIxMjUuNTcyODIxIgogICAgICAgICAgIHk9IjM5LjM0NzY4NSIKICAgICAgICAgICBpZD0idXNlMjI2IiAvPgogICAgICAgIDx1c2UKICAgICAgICAgICB4bGluazpocmVmPSIjZ2x5cGgwLTYiCiAgICAgICAgICAgeD0iMTI3LjgxNDYxMyIKICAgICAgICAgICB5PSIzOS4zNDc2ODUiCiAgICAgICAgICAgaWQ9InVzZTIyOCIgLz4KICAgICAgICA8dXNlCiAgICAgICAgICAgeGxpbms6aHJlZj0iI2dseXBoMC0xMiIKICAgICAgICAgICB4PSIxMzAuMDU2NDA2IgogICAgICAgICAgIHk9IjM5LjM0NzY4NSIKICAgICAgICAgICBpZD0idXNlMjMwIiAvPgogICAgICA8L2c+CiAgICAgIDxwYXRoCiAgICAgICAgIHN0eWxlPSIgc3Ryb2tlOm5vbmU7ZmlsbC1ydWxlOm5vbnplcm87ZmlsbDpyZ2IoODUuMDk4MjY3JSw5MS43NjQ4MzIlLDgyLjc0NTM2MSUpO2ZpbGwtb3BhY2l0eToxOyIKICAgICAgICAgZD0iTSA1OC45NjQ4NDQgMjAuNzQ2MDk0IEwgOTYuODY3MTg4IDIwLjc0NjA5NCBMIDk2Ljg2NzE4OCAyLjMyNDIxOSBMIDU4Ljk2NDg0NCAyLjMyNDIxOSBaIE0gNTguOTY0ODQ0IDIwLjc0NjA5NCAiCiAgICAgICAgIGlkPSJwYXRoMjM0IiAvPgogICAgICA8cGF0aAogICAgICAgICBzdHlsZT0iZmlsbDpub25lO3N0cm9rZS13aWR0aDo3NjI7c3Ryb2tlLWxpbmVjYXA6YnV0dDtzdHJva2UtbGluZWpvaW46cm91bmQ7c3Ryb2tlOnJnYigzOS45OTkzOSUsMzkuOTk5MzklLDM5Ljk5OTM5JSk7c3Ryb2tlLW9wYWNpdHk6MTtzdHJva2UtbWl0ZXJsaW1pdDoxNC4zMzU1OTsiCiAgICAgICAgIGQ9Ik0gMTA4NzM2Ljc1ODkyOSAzNDk4LjE3NzEwOSBMIDE3NTU5Mi4yNzQxMzIgMzQ5OC4xNzcxMDkgTCAxNzU1OTIuMjc0MTMyIDM1OTkyLjMxMzk0MyBMIDEwODczNi43NTg5MjkgMzU5OTIuMzEzOTQzIFogTSAxMDg3MzYuNzU4OTI5IDM0OTguMTc3MTA5ICIKICAgICAgICAgdHJhbnNmb3JtPSJtYXRyaXgoMC4wMDA1NjY5MjksMCwwLDAuMDAwNTY2OTI5LC0yLjY4MTIsMC4zNDEpIgogICAgICAgICBpZD0icGF0aDIzNiIgLz4KICAgICAgPGcKICAgICAgICAgc3R5bGU9ImZpbGw6cmdiKDAlLDAlLDAlKTtmaWxsLW9wYWNpdHk6MTsiCiAgICAgICAgIGlkPSJnMjQwIj4KICAgICAgICA8dXNlCiAgICAgICAgICAgeGxpbms6aHJlZj0iI2dseXBoMC0xNSIKICAgICAgICAgICB4PSI3My40Mzk0ODIiCiAgICAgICAgICAgeT0iMTAuNjUyODg1IgogICAgICAgICAgIGlkPSJ1c2UyMzgiIC8+CiAgICAgIDwvZz4KICAgICAgPGcKICAgICAgICAgc3R5bGU9ImZpbGw6cmdiKDAlLDAlLDAlKTtmaWxsLW9wYWNpdHk6MTsiCiAgICAgICAgIGlkPSJnMjQ4Ij4KICAgICAgICA8dXNlCiAgICAgICAgICAgeGxpbms6aHJlZj0iI2dseXBoMC0xMSIKICAgICAgICAgICB4PSI3NS44OTkwMDIiCiAgICAgICAgICAgeT0iMTAuNjUyODg1IgogICAgICAgICAgIGlkPSJ1c2UyNDIiIC8+CiAgICAgICAgPHVzZQogICAgICAgICAgIHhsaW5rOmhyZWY9IiNnbHlwaDAtOCIKICAgICAgICAgICB4PSI3Ni43OTQxMDciCiAgICAgICAgICAgeT0iMTAuNjUyODg1IgogICAgICAgICAgIGlkPSJ1c2UyNDQiIC8+CiAgICAgICAgPHVzZQogICAgICAgICAgIHhsaW5rOmhyZWY9IiNnbHlwaDAtMTAiCiAgICAgICAgICAgeD0iNzcuNjg5MjExIgogICAgICAgICAgIHk9IjEwLjY1Mjg4NSIKICAgICAgICAgICBpZD0idXNlMjQ2IiAvPgogICAgICA8L2c+CiAgICAgIDxnCiAgICAgICAgIHN0eWxlPSJmaWxsOnJnYigwJSwwJSwwJSk7ZmlsbC1vcGFjaXR5OjE7IgogICAgICAgICBpZD0iZzI1NiI+CiAgICAgICAgPHVzZQogICAgICAgICAgIHhsaW5rOmhyZWY9IiNnbHlwaDAtMTYiCiAgICAgICAgICAgeD0iNzguODA2MDc1IgogICAgICAgICAgIHk9IjEwLjY1Mjg4NSIKICAgICAgICAgICBpZD0idXNlMjUwIiAvPgogICAgICAgIDx1c2UKICAgICAgICAgICB4bGluazpocmVmPSIjZ2x5cGgwLTE3IgogICAgICAgICAgIHg9IjgxLjA0Nzg2NyIKICAgICAgICAgICB5PSIxMC42NTI4ODUiCiAgICAgICAgICAgaWQ9InVzZTI1MiIgLz4KICAgICAgICA8dXNlCiAgICAgICAgICAgeGxpbms6aHJlZj0iI2dseXBoMC0zIgogICAgICAgICAgIHg9IjgyLjM5MDUyNCIKICAgICAgICAgICB5PSIxMC42NTI4ODUiCiAgICAgICAgICAgaWQ9InVzZTI1NCIgLz4KICAgICAgPC9nPgogICAgICA8ZwogICAgICAgICBzdHlsZT0iZmlsbDpyZ2IoMCUsMCUsMCUpO2ZpbGwtb3BhY2l0eToxOyIKICAgICAgICAgaWQ9ImcyNzAiPgogICAgICAgIDx1c2UKICAgICAgICAgICB4bGluazpocmVmPSIjZ2x5cGgwLTQiCiAgICAgICAgICAgeD0iNjUuMzcwMTQ1IgogICAgICAgICAgIHk9IjE1LjQwNDg4NSIKICAgICAgICAgICBpZD0idXNlMjU4IiAvPgogICAgICAgIDx1c2UKICAgICAgICAgICB4bGluazpocmVmPSIjZ2x5cGgwLTUiCiAgICAgICAgICAgeD0iNjcuMzg2MTQ2IgogICAgICAgICAgIHk9IjE1LjQwNDg4NSIKICAgICAgICAgICBpZD0idXNlMjYwIiAvPgogICAgICAgIDx1c2UKICAgICAgICAgICB4bGluazpocmVmPSIjZ2x5cGgwLTYiCiAgICAgICAgICAgeD0iNjkuNjI3OTM4IgogICAgICAgICAgIHk9IjE1LjQwNDg4NSIKICAgICAgICAgICBpZD0idXNlMjYyIiAvPgogICAgICAgIDx1c2UKICAgICAgICAgICB4bGluazpocmVmPSIjZ2x5cGgwLTQiCiAgICAgICAgICAgeD0iNzEuODY5NzMiCiAgICAgICAgICAgeT0iMTUuNDA0ODg1IgogICAgICAgICAgIGlkPSJ1c2UyNjQiIC8+CiAgICAgICAgPHVzZQogICAgICAgICAgIHhsaW5rOmhyZWY9IiNnbHlwaDAtMTgiCiAgICAgICAgICAgeD0iNzMuODg1NzMxIgogICAgICAgICAgIHk9IjE1LjQwNDg4NSIKICAgICAgICAgICBpZD0idXNlMjY2IiAvPgogICAgICAgIDx1c2UKICAgICAgICAgICB4bGluazpocmVmPSIjZ2x5cGgwLTEwIgogICAgICAgICAgIHg9Ijc2LjEyNzUyMyIKICAgICAgICAgICB5PSIxNS40MDQ4ODUiCiAgICAgICAgICAgaWQ9InVzZTI2OCIgLz4KICAgICAgPC9nPgogICAgICA8ZwogICAgICAgICBzdHlsZT0iZmlsbDpyZ2IoMCUsMCUsMCUpO2ZpbGwtb3BhY2l0eToxOyIKICAgICAgICAgaWQ9ImcyODAiPgogICAgICAgIDx1c2UKICAgICAgICAgICB4bGluazpocmVmPSIjZ2x5cGgwLTE2IgogICAgICAgICAgIHg9Ijc3LjI0NDM4NyIKICAgICAgICAgICB5PSIxNS40MDQ4ODUiCiAgICAgICAgICAgaWQ9InVzZTI3MiIgLz4KICAgICAgICA8dXNlCiAgICAgICAgICAgeGxpbms6aHJlZj0iI2dseXBoMC02IgogICAgICAgICAgIHg9Ijc5LjQ4NjE4IgogICAgICAgICAgIHk9IjE1LjQwNDg4NSIKICAgICAgICAgICBpZD0idXNlMjc0IiAvPgogICAgICAgIDx1c2UKICAgICAgICAgICB4bGluazpocmVmPSIjZ2x5cGgwLTE4IgogICAgICAgICAgIHg9IjgxLjcyNzk3MiIKICAgICAgICAgICB5PSIxNS40MDQ4ODUiCiAgICAgICAgICAgaWQ9InVzZTI3NiIgLz4KICAgICAgICA8dXNlCiAgICAgICAgICAgeGxpbms6aHJlZj0iI2dseXBoMC0xMCIKICAgICAgICAgICB4PSI4My45Njk3NjUiCiAgICAgICAgICAgeT0iMTUuNDA0ODg1IgogICAgICAgICAgIGlkPSJ1c2UyNzgiIC8+CiAgICAgIDwvZz4KICAgICAgPGcKICAgICAgICAgc3R5bGU9ImZpbGw6cmdiKDAlLDAlLDAlKTtmaWxsLW9wYWNpdHk6MTsiCiAgICAgICAgIGlkPSJnMjg4Ij4KICAgICAgICA8dXNlCiAgICAgICAgICAgeGxpbms6aHJlZj0iI2dseXBoMC0xMSIKICAgICAgICAgICB4PSI4NS4wODY2MjkiCiAgICAgICAgICAgeT0iMTUuNDA0ODg1IgogICAgICAgICAgIGlkPSJ1c2UyODIiIC8+CiAgICAgICAgPHVzZQogICAgICAgICAgIHhsaW5rOmhyZWY9IiNnbHlwaDAtNSIKICAgICAgICAgICB4PSI4NS45ODE3MzMiCiAgICAgICAgICAgeT0iMTUuNDA0ODg1IgogICAgICAgICAgIGlkPSJ1c2UyODQiIC8+CiAgICAgICAgPHVzZQogICAgICAgICAgIHhsaW5rOmhyZWY9IiNnbHlwaDAtNiIKICAgICAgICAgICB4PSI4OC4yMjM1MjUiCiAgICAgICAgICAgeT0iMTUuNDA0ODg1IgogICAgICAgICAgIGlkPSJ1c2UyODYiIC8+CiAgICAgIDwvZz4KICAgICAgPHBhdGgKICAgICAgICAgc3R5bGU9IiBzdHJva2U6bm9uZTtmaWxsLXJ1bGU6bm9uemVybztmaWxsOnJnYig4NS4wOTgyNjclLDkxLjc2NDgzMiUsODIuNzQ1MzYxJSk7ZmlsbC1vcGFjaXR5OjE7IgogICAgICAgICBkPSJNIDU4Ljk2NDg0NCA5NC4yOTY4NzUgTCA5Ni44NjcxODggOTQuMjk2ODc1IEwgOTYuODY3MTg4IDc1Ljg3NSBMIDU4Ljk2NDg0NCA3NS44NzUgWiBNIDU4Ljk2NDg0NCA5NC4yOTY4NzUgIgogICAgICAgICBpZD0icGF0aDI5MCIgLz4KICAgICAgPHBhdGgKICAgICAgICAgc3R5bGU9ImZpbGw6bm9uZTtzdHJva2Utd2lkdGg6NzYyO3N0cm9rZS1saW5lY2FwOmJ1dHQ7c3Ryb2tlLWxpbmVqb2luOnJvdW5kO3N0cm9rZTpyZ2IoMzkuOTk5MzklLDM5Ljk5OTM5JSwzOS45OTkzOSUpO3N0cm9rZS1vcGFjaXR5OjE7c3Ryb2tlLW1pdGVybGltaXQ6MTQuMzM1NTk7IgogICAgICAgICBkPSJNIDEwODczNi43NTg5MjkgMTMzMjMzLjU2Nzc4OSBMIDE3NTU5Mi4yNzQxMzIgMTMzMjMzLjU2Nzc4OSBMIDE3NTU5Mi4yNzQxMzIgMTY1NzI3LjcwNDYyMyBMIDEwODczNi43NTg5MjkgMTY1NzI3LjcwNDYyMyBaIE0gMTA4NzM2Ljc1ODkyOSAxMzMyMzMuNTY3Nzg5ICIKICAgICAgICAgdHJhbnNmb3JtPSJtYXRyaXgoMC4wMDA1NjY5MjksMCwwLDAuMDAwNTY2OTI5LC0yLjY4MTIsMC4zNDEpIgogICAgICAgICBpZD0icGF0aDI5MiIgLz4KICAgICAgPGcKICAgICAgICAgc3R5bGU9ImZpbGw6cmdiKDAlLDAlLDAlKTtmaWxsLW9wYWNpdHk6MTsiCiAgICAgICAgIGlkPSJnMjk2Ij4KICAgICAgICA8dXNlCiAgICAgICAgICAgeGxpbms6aHJlZj0iI2dseXBoMC0xOSIKICAgICAgICAgICB4PSI2NS4xNTA3NTIiCiAgICAgICAgICAgeT0iODYuNTc5NDg1IgogICAgICAgICAgIGlkPSJ1c2UyOTQiIC8+CiAgICAgIDwvZz4KICAgICAgPGcKICAgICAgICAgc3R5bGU9ImZpbGw6cmdiKDAlLDAlLDAlKTtmaWxsLW9wYWNpdHk6MTsiCiAgICAgICAgIGlkPSJnMzE0Ij4KICAgICAgICA8dXNlCiAgICAgICAgICAgeGxpbms6aHJlZj0iI2dseXBoMC0xNyIKICAgICAgICAgICB4PSI2Ny44MzYwNjQiCiAgICAgICAgICAgeT0iODYuNTc5NDg1IgogICAgICAgICAgIGlkPSJ1c2UyOTgiIC8+CiAgICAgICAgPHVzZQogICAgICAgICAgIHhsaW5rOmhyZWY9IiNnbHlwaDAtMTYiCiAgICAgICAgICAgeD0iNjkuMTc4NzIxIgogICAgICAgICAgIHk9Ijg2LjU3OTQ4NSIKICAgICAgICAgICBpZD0idXNlMzAwIiAvPgogICAgICAgIDx1c2UKICAgICAgICAgICB4bGluazpocmVmPSIjZ2x5cGgwLTciCiAgICAgICAgICAgeD0iNzEuNDIwNTEzIgogICAgICAgICAgIHk9Ijg2LjU3OTQ4NSIKICAgICAgICAgICBpZD0idXNlMzAyIiAvPgogICAgICAgIDx1c2UKICAgICAgICAgICB4bGluazpocmVmPSIjZ2x5cGgwLTExIgogICAgICAgICAgIHg9IjczLjQzNjUxMyIKICAgICAgICAgICB5PSI4Ni41Nzk0ODUiCiAgICAgICAgICAgaWQ9InVzZTMwNCIgLz4KICAgICAgICA8dXNlCiAgICAgICAgICAgeGxpbms6aHJlZj0iI2dseXBoMC01IgogICAgICAgICAgIHg9Ijc0LjMzMTYxOCIKICAgICAgICAgICB5PSI4Ni41Nzk0ODUiCiAgICAgICAgICAgaWQ9InVzZTMwNiIgLz4KICAgICAgICA8dXNlCiAgICAgICAgICAgeGxpbms6aHJlZj0iI2dseXBoMC05IgogICAgICAgICAgIHg9Ijc2LjU3MzQxIgogICAgICAgICAgIHk9Ijg2LjU3OTQ4NSIKICAgICAgICAgICBpZD0idXNlMzA4IiAvPgogICAgICAgIDx1c2UKICAgICAgICAgICB4bGluazpocmVmPSIjZ2x5cGgwLTEyIgogICAgICAgICAgIHg9Ijc4LjgxNTIwMiIKICAgICAgICAgICB5PSI4Ni41Nzk0ODUiCiAgICAgICAgICAgaWQ9InVzZTMxMCIgLz4KICAgICAgICA8dXNlCiAgICAgICAgICAgeGxpbms6aHJlZj0iI2dseXBoMC0zIgogICAgICAgICAgIHg9IjgwLjgzMTIwMyIKICAgICAgICAgICB5PSI4Ni41Nzk0ODUiCiAgICAgICAgICAgaWQ9InVzZTMxMiIgLz4KICAgICAgPC9nPgogICAgICA8ZwogICAgICAgICBzdHlsZT0iZmlsbDpyZ2IoMCUsMCUsMCUpO2ZpbGwtb3BhY2l0eToxOyIKICAgICAgICAgaWQ9ImczMjYiPgogICAgICAgIDx1c2UKICAgICAgICAgICB4bGluazpocmVmPSIjZ2x5cGgwLTgiCiAgICAgICAgICAgeD0iODEuOTQ4MDY3IgogICAgICAgICAgIHk9Ijg2LjU3OTQ4NSIKICAgICAgICAgICBpZD0idXNlMzE2IiAvPgogICAgICAgIDx1c2UKICAgICAgICAgICB4bGluazpocmVmPSIjZ2x5cGgwLTE4IgogICAgICAgICAgIHg9IjgyLjg0MzE3MSIKICAgICAgICAgICB5PSI4Ni41Nzk0ODUiCiAgICAgICAgICAgaWQ9InVzZTMxOCIgLz4KICAgICAgICA8dXNlCiAgICAgICAgICAgeGxpbms6aHJlZj0iI2dseXBoMC0yMCIKICAgICAgICAgICB4PSI4NS4wODQ5NjMiCiAgICAgICAgICAgeT0iODYuNTc5NDg1IgogICAgICAgICAgIGlkPSJ1c2UzMjAiIC8+CiAgICAgICAgPHVzZQogICAgICAgICAgIHhsaW5rOmhyZWY9IiNnbHlwaDAtMTYiCiAgICAgICAgICAgeD0iODcuMTAwOTY0IgogICAgICAgICAgIHk9Ijg2LjU3OTQ4NSIKICAgICAgICAgICBpZD0idXNlMzIyIiAvPgogICAgICAgIDx1c2UKICAgICAgICAgICB4bGluazpocmVmPSIjZ2x5cGgwLTE3IgogICAgICAgICAgIHg9Ijg5LjM0Mjc1NiIKICAgICAgICAgICB5PSI4Ni41Nzk0ODUiCiAgICAgICAgICAgaWQ9InVzZTMyNCIgLz4KICAgICAgPC9nPgogICAgICA8cGF0aAogICAgICAgICBzdHlsZT0iZmlsbDpub25lO3N0cm9rZS13aWR0aDo3NjI7c3Ryb2tlLWxpbmVjYXA6YnV0dDtzdHJva2UtbGluZWpvaW46cm91bmQ7c3Ryb2tlOnJnYigzOS45OTkzOSUsMzkuOTk5MzklLDM5Ljk5OTM5JSk7c3Ryb2tlLW9wYWNpdHk6MTtzdHJva2UtbWl0ZXJsaW1pdDoxNC4zMzU1OTsiCiAgICAgICAgIGQ9Ik0gNDI0ODAuNjkwMjcgNzAxNjAuNzY2OTg4IEwgMTM3ODQwLjkyMjIgMzc0ODAuNTk1MDIgIgogICAgICAgICB0cmFuc2Zvcm09Im1hdHJpeCgwLjAwMDU2NjkyOSwwLDAsMC4wMDA1NjY5MjksLTIuNjgxMiwwLjM0MSkiCiAgICAgICAgIGlkPSJwYXRoMzI4IiAvPgogICAgICA8cGF0aAogICAgICAgICBzdHlsZT0iZmlsbC1ydWxlOmV2ZW5vZGQ7ZmlsbDpyZ2IoMzkuOTk5MzklLDM5Ljk5OTM5JSwzOS45OTkzOSUpO2ZpbGwtb3BhY2l0eToxO3N0cm9rZS13aWR0aDo3NjI7c3Ryb2tlLWxpbmVjYXA6YnV0dDtzdHJva2UtbGluZWpvaW46bWl0ZXI7c3Ryb2tlOnJnYigzOS45OTkzOSUsMzkuOTk5MzklLDM5Ljk5OTM5JSk7c3Ryb2tlLW9wYWNpdHk6MTtzdHJva2UtbWl0ZXJsaW1pdDoxMS40NzM3MTsiCiAgICAgICAgIGQ9Ik0gMTM4MjQ3LjQ0MzQyIDM4NjcyLjU5NzkxOSBMIDE0MTExMy43NjI1MyAzNjM1Ny40OTQwMjIgTCAxMzc0MzQuNDAwOTggMzYyODguNTkyMTIgWiBNIDEzODI0Ny40NDM0MiAzODY3Mi41OTc5MTkgIgogICAgICAgICB0cmFuc2Zvcm09Im1hdHJpeCgwLjAwMDU2NjkyOSwwLDAsMC4wMDA1NjY5MjksLTIuNjgxMiwwLjM0MSkiCiAgICAgICAgIGlkPSJwYXRoMzMwIiAvPgogICAgICA8cGF0aAogICAgICAgICBzdHlsZT0iZmlsbDpub25lO3N0cm9rZS13aWR0aDo3NjI7c3Ryb2tlLWxpbmVjYXA6YnV0dDtzdHJva2UtbGluZWpvaW46cm91bmQ7c3Ryb2tlOnJnYigzOS45OTkzOSUsMzkuOTk5MzklLDM5Ljk5OTM5JSk7c3Ryb2tlLW9wYWNpdHk6MTtzdHJva2UtbWl0ZXJsaW1pdDoxNC4zMzU1OTsiCiAgICAgICAgIGQ9Ik0gMTMyODc5Ljk4NTI3OSA0OTkxNy4zODgyNzQgTCAxMzk2MzIuMzcxNjQ0IDM5Nzg4LjgwODcyNiAiCiAgICAgICAgIHRyYW5zZm9ybT0ibWF0cml4KDAuMDAwNTY2OTI5LDAsMCwwLjAwMDU2NjkyOSwtMi42ODEyLDAuMzQxKSIKICAgICAgICAgaWQ9InBhdGgzMzIiIC8+CiAgICAgIDxwYXRoCiAgICAgICAgIHN0eWxlPSJmaWxsLXJ1bGU6ZXZlbm9kZDtmaWxsOnJnYigzOS45OTkzOSUsMzkuOTk5MzklLDM5Ljk5OTM5JSk7ZmlsbC1vcGFjaXR5OjE7c3Ryb2tlLXdpZHRoOjc2MjtzdHJva2UtbGluZWNhcDpidXR0O3N0cm9rZS1saW5lam9pbjptaXRlcjtzdHJva2U6cmdiKDM5Ljk5OTM5JSwzOS45OTkzOSUsMzkuOTk5MzklKTtzdHJva2Utb3BhY2l0eToxO3N0cm9rZS1taXRlcmxpbWl0OjExLjQ3MzcxOyIKICAgICAgICAgZD0iTSAxNDA2NzkuNjgwNTQ5IDQwNDkxLjYwODEyMyBMIDE0MTU1NC43MzQ3MDEgMzY5MTUuNTk5NDI2IEwgMTM4NTg1LjA2MjczOCAzOTA5Mi44OTk1MTkgWiBNIDE0MDY3OS42ODA1NDkgNDA0OTEuNjA4MTIzICIKICAgICAgICAgdHJhbnNmb3JtPSJtYXRyaXgoMC4wMDA1NjY5MjksMCwwLDAuMDAwNTY2OTI5LC0yLjY4MTIsMC4zNDEpIgogICAgICAgICBpZD0icGF0aDMzNCIgLz4KICAgICAgPHBhdGgKICAgICAgICAgc3R5bGU9ImZpbGw6bm9uZTtzdHJva2Utd2lkdGg6NzYyO3N0cm9rZS1saW5lY2FwOmJ1dHQ7c3Ryb2tlLWxpbmVqb2luOnJvdW5kO3N0cm9rZTpyZ2IoMzkuOTk5MzklLDM5Ljk5OTM5JSwzOS45OTkzOSUpO3N0cm9rZS1vcGFjaXR5OjE7c3Ryb2tlLW1pdGVybGltaXQ6MTQuMzM1NTk7IgogICAgICAgICBkPSJNIDIxMTIwNy42NjcxMTMgNDk5MTcuMzg4Mjc0IEwgMTQ2NjM5LjY5NTA0NSAzNjg4OC4wMzg2NjUgIgogICAgICAgICB0cmFuc2Zvcm09Im1hdHJpeCgwLjAwMDU2NjkyOSwwLDAsMC4wMDA1NjY5MjksLTIuNjgxMiwwLjM0MSkiCiAgICAgICAgIGlkPSJwYXRoMzM2IiAvPgogICAgICA8cGF0aAogICAgICAgICBzdHlsZT0iZmlsbC1ydWxlOmV2ZW5vZGQ7ZmlsbDpyZ2IoMzkuOTk5MzklLDM5Ljk5OTM5JSwzOS45OTkzOSUpO2ZpbGwtb3BhY2l0eToxO3N0cm9rZS13aWR0aDo3NjI7c3Ryb2tlLWxpbmVjYXA6YnV0dDtzdHJva2UtbGluZWpvaW46bWl0ZXI7c3Ryb2tlOnJnYigzOS45OTkzOSUsMzkuOTk5MzklLDM5Ljk5OTM5JSk7c3Ryb2tlLW9wYWNpdHk6MTtzdHJva2UtbWl0ZXJsaW1pdDoxMS40NzM3MTsiCiAgICAgICAgIGQ9Ik0gMTQ2ODk0LjYzMjA4MSAzNTY1NC42OTQ2MjUgTCAxNDMyNDkuNzIxNDgyIDM2MjA1LjkwOTgzOCBMIDE0NjM5MS42NDgxOTkgMzgxMjguMjcyODk1IFogTSAxNDY4OTQuNjMyMDgxIDM1NjU0LjY5NDYyNSAiCiAgICAgICAgIHRyYW5zZm9ybT0ibWF0cml4KDAuMDAwNTY2OTI5LDAsMCwwLjAwMDU2NjkyOSwtMi42ODEyLDAuMzQxKSIKICAgICAgICAgaWQ9InBhdGgzMzgiIC8+CiAgICAgIDxwYXRoCiAgICAgICAgIHN0eWxlPSIgc3Ryb2tlOm5vbmU7ZmlsbC1ydWxlOm5vbnplcm87ZmlsbDpyZ2IoOTUuNjg2MzQlLDgwLjAwMDMwNSUsODAuMDAwMzA1JSk7ZmlsbC1vcGFjaXR5OjE7IgogICAgICAgICBkPSJNIDE0NC40MTAxNTYgNzAuMDE1NjI1IEwgMTgyLjMxMjUgNzAuMDE1NjI1IEwgMTgyLjMxMjUgNTEuNTkzNzUgTCAxNDQuNDEwMTU2IDUxLjU5Mzc1IFogTSAxNDQuNDEwMTU2IDcwLjAxNTYyNSAiCiAgICAgICAgIGlkPSJwYXRoMzQwIiAvPgogICAgICA8cGF0aAogICAgICAgICBzdHlsZT0iZmlsbDpub25lO3N0cm9rZS13aWR0aDo3NjI7c3Ryb2tlLWxpbmVjYXA6YnV0dDtzdHJva2UtbGluZWpvaW46cm91bmQ7c3Ryb2tlOnJnYig5MS43NjQ4MzIlLDYwLjAwMDYxJSw2MC4wMDA2MSUpO3N0cm9rZS1vcGFjaXR5OjE7c3Ryb2tlLW1pdGVybGltaXQ6MTQuMzM1NTk7IgogICAgICAgICBkPSJNIDI1OTQ1Mi43Nzg2NzEgOTA0MDQuMTQ1NzAzIEwgMzI2MzA4LjI5Mzg3NSA5MDQwNC4xNDU3MDMgTCAzMjYzMDguMjkzODc1IDEyMjg5OC4yODI1MzcgTCAyNTk0NTIuNzc4NjcxIDEyMjg5OC4yODI1MzcgWiBNIDI1OTQ1Mi43Nzg2NzEgOTA0MDQuMTQ1NzAzICIKICAgICAgICAgdHJhbnNmb3JtPSJtYXRyaXgoMC4wMDA1NjY5MjksMCwwLDAuMDAwNTY2OTI5LC0yLjY4MTIsMC4zNDEpIgogICAgICAgICBpZD0icGF0aDM0MiIgLz4KICAgICAgPGcKICAgICAgICAgc3R5bGU9ImZpbGw6cmdiKDAlLDAlLDAlKTtmaWxsLW9wYWNpdHk6MTsiCiAgICAgICAgIGlkPSJnMzUyIj4KICAgICAgICA8dXNlCiAgICAgICAgICAgeGxpbms6aHJlZj0iI2dseXBoMC0xMyIKICAgICAgICAgICB4PSIxNDguNjg4Nzk4IgogICAgICAgICAgIHk9IjYyLjI5OTU4NSIKICAgICAgICAgICBpZD0idXNlMzQ0IiAvPgogICAgICAgIDx1c2UKICAgICAgICAgICB4bGluazpocmVmPSIjZ2x5cGgwLTIiCiAgICAgICAgICAgeD0iMTUwLjkzMDU5MSIKICAgICAgICAgICB5PSI2Mi4yOTk1ODUiCiAgICAgICAgICAgaWQ9InVzZTM0NiIgLz4KICAgICAgICA8dXNlCiAgICAgICAgICAgeGxpbms6aHJlZj0iI2dseXBoMC0xMyIKICAgICAgICAgICB4PSIxNTIuOTQ2NTkxIgogICAgICAgICAgIHk9IjYyLjI5OTU4NSIKICAgICAgICAgICBpZD0idXNlMzQ4IiAvPgogICAgICAgIDx1c2UKICAgICAgICAgICB4bGluazpocmVmPSIjZ2x5cGgwLTMiCiAgICAgICAgICAgeD0iMTU1LjE4ODM4MyIKICAgICAgICAgICB5PSI2Mi4yOTk1ODUiCiAgICAgICAgICAgaWQ9InVzZTM1MCIgLz4KICAgICAgPC9nPgogICAgICA8ZwogICAgICAgICBzdHlsZT0iZmlsbDpyZ2IoMCUsMCUsMCUpO2ZpbGwtb3BhY2l0eToxOyIKICAgICAgICAgaWQ9ImczNjIiPgogICAgICAgIDx1c2UKICAgICAgICAgICB4bGluazpocmVmPSIjZ2x5cGgwLTIxIgogICAgICAgICAgIHg9IjE1Ni4zMDUyNDgiCiAgICAgICAgICAgeT0iNjIuMjk5NTg1IgogICAgICAgICAgIGlkPSJ1c2UzNTQiIC8+CiAgICAgICAgPHVzZQogICAgICAgICAgIHhsaW5rOmhyZWY9IiNnbHlwaDAtMTgiCiAgICAgICAgICAgeD0iMTU5LjY2MzkwNCIKICAgICAgICAgICB5PSI2Mi4yOTk1ODUiCiAgICAgICAgICAgaWQ9InVzZTM1NiIgLz4KICAgICAgICA8dXNlCiAgICAgICAgICAgeGxpbms6aHJlZj0iI2dseXBoMC0yIgogICAgICAgICAgIHg9IjE2MS45MDU2OTciCiAgICAgICAgICAgeT0iNjIuMjk5NTg1IgogICAgICAgICAgIGlkPSJ1c2UzNTgiIC8+CiAgICAgICAgPHVzZQogICAgICAgICAgIHhsaW5rOmhyZWY9IiNnbHlwaDAtMyIKICAgICAgICAgICB4PSIxNjMuOTIxNjk3IgogICAgICAgICAgIHk9IjYyLjI5OTU4NSIKICAgICAgICAgICBpZD0idXNlMzYwIiAvPgogICAgICA8L2c+CiAgICAgIDxnCiAgICAgICAgIHN0eWxlPSJmaWxsOnJnYigwJSwwJSwwJSk7ZmlsbC1vcGFjaXR5OjE7IgogICAgICAgICBpZD0iZzM3OCI+CiAgICAgICAgPHVzZQogICAgICAgICAgIHhsaW5rOmhyZWY9IiNnbHlwaDAtMjIiCiAgICAgICAgICAgeD0iMTY1LjAzODU2MSIKICAgICAgICAgICB5PSI2Mi4yOTk1ODUiCiAgICAgICAgICAgaWQ9InVzZTM2NCIgLz4KICAgICAgICA8dXNlCiAgICAgICAgICAgeGxpbms6aHJlZj0iI2dseXBoMC01IgogICAgICAgICAgIHg9IjE2Ny4yODAzNTQiCiAgICAgICAgICAgeT0iNjIuMjk5NTg1IgogICAgICAgICAgIGlkPSJ1c2UzNjYiIC8+CiAgICAgICAgPHVzZQogICAgICAgICAgIHhsaW5rOmhyZWY9IiNnbHlwaDAtNSIKICAgICAgICAgICB4PSIxNjkuNTIyMTQ2IgogICAgICAgICAgIHk9IjYyLjI5OTU4NSIKICAgICAgICAgICBpZD0idXNlMzY4IiAvPgogICAgICAgIDx1c2UKICAgICAgICAgICB4bGluazpocmVmPSIjZ2x5cGgwLTgiCiAgICAgICAgICAgeD0iMTcxLjc2MzkzOCIKICAgICAgICAgICB5PSI2Mi4yOTk1ODUiCiAgICAgICAgICAgaWQ9InVzZTM3MCIgLz4KICAgICAgICA8dXNlCiAgICAgICAgICAgeGxpbms6aHJlZj0iI2dseXBoMC0xMSIKICAgICAgICAgICB4PSIxNzIuNjU5MDQzIgogICAgICAgICAgIHk9IjYyLjI5OTU4NSIKICAgICAgICAgICBpZD0idXNlMzcyIiAvPgogICAgICAgIDx1c2UKICAgICAgICAgICB4bGluazpocmVmPSIjZ2x5cGgwLTYiCiAgICAgICAgICAgeD0iMTczLjU1NDE0NyIKICAgICAgICAgICB5PSI2Mi4yOTk1ODUiCiAgICAgICAgICAgaWQ9InVzZTM3NCIgLz4KICAgICAgICA8dXNlCiAgICAgICAgICAgeGxpbms6aHJlZj0iI2dseXBoMC0yMyIKICAgICAgICAgICB4PSIxNzUuNzk1OTM5IgogICAgICAgICAgIHk9IjYyLjI5OTU4NSIKICAgICAgICAgICBpZD0idXNlMzc2IiAvPgogICAgICA8L2c+CiAgICAgIDxwYXRoCiAgICAgICAgIHN0eWxlPSJmaWxsOm5vbmU7c3Ryb2tlLXdpZHRoOjc2MjtzdHJva2UtbGluZWNhcDpidXR0O3N0cm9rZS1saW5lam9pbjpyb3VuZDtzdHJva2U6cmdiKDM5Ljk5OTM5JSwzOS45OTkzOSUsMzkuOTk5MzklKTtzdHJva2Utb3BhY2l0eToxO3N0cm9rZS1taXRlcmxpbWl0OjE0LjMzNTU5OyIKICAgICAgICAgZD0iTSAxNDIxNjcuOTYxNjI2IDEzMzIzMy41Njc3ODkgTCAyODgzMjIuNjc1NDc3IDEyMzIwOC4zNDEwOTQgIgogICAgICAgICB0cmFuc2Zvcm09Im1hdHJpeCgwLjAwMDU2NjkyOSwwLDAsMC4wMDA1NjY5MjksLTIuNjgxMiwwLjM0MSkiCiAgICAgICAgIGlkPSJwYXRoMzgwIiAvPgogICAgICA8cGF0aAogICAgICAgICBzdHlsZT0iZmlsbC1ydWxlOmV2ZW5vZGQ7ZmlsbDpyZ2IoMzkuOTk5MzklLDM5Ljk5OTM5JSwzOS45OTkzOSUpO2ZpbGwtb3BhY2l0eToxO3N0cm9rZS13aWR0aDo3NjI7c3Ryb2tlLWxpbmVjYXA6YnV0dDtzdHJva2UtbGluZWpvaW46bWl0ZXI7c3Ryb2tlOnJnYigzOS45OTkzOSUsMzkuOTk5MzklLDM5Ljk5OTM5JSk7c3Ryb2tlLW9wYWNpdHk6MTtzdHJva2UtbWl0ZXJsaW1pdDoxMS40NzM3MTsiCiAgICAgICAgIGQ9Ik0gMjg4NDEyLjI0Nzk0OSAxMjQ0NjkuMjQ1ODk1IEwgMjkxNzc0LjY2MDc1MSAxMjI5NzQuMDc0NjI5IEwgMjg4MjM5Ljk5MzE5NSAxMjE5NTQuMzI2NDg0IFogTSAyODg0MTIuMjQ3OTQ5IDEyNDQ2OS4yNDU4OTUgIgogICAgICAgICB0cmFuc2Zvcm09Im1hdHJpeCgwLjAwMDU2NjkyOSwwLDAsMC4wMDA1NjY5MjksLTIuNjgxMiwwLjM0MSkiCiAgICAgICAgIGlkPSJwYXRoMzgyIiAvPgogICAgICA8cGF0aAogICAgICAgICBzdHlsZT0iIHN0cm9rZTpub25lO2ZpbGwtcnVsZTpub256ZXJvO2ZpbGw6cmdiKDEwMCUsOTQuOTAyMDM5JSw4MC4wMDAzMDUlKTtmaWxsLW9wYWNpdHk6MTsiCiAgICAgICAgIGQ9Ik0gNTMuNzAzMTI1IDcwLjAxNTYyNSBMIDkxLjYwNTQ2OSA3MC4wMTU2MjUgTCA5MS42MDU0NjkgNTEuNTkzNzUgTCA1My43MDMxMjUgNTEuNTkzNzUgWiBNIDUzLjcwMzEyNSA3MC4wMTU2MjUgIgogICAgICAgICBpZD0icGF0aDM4NCIgLz4KICAgICAgPHBhdGgKICAgICAgICAgc3R5bGU9ImZpbGw6bm9uZTtzdHJva2Utd2lkdGg6NzYyO3N0cm9rZS1saW5lY2FwOmJ1dHQ7c3Ryb2tlLWxpbmVqb2luOnJvdW5kO3N0cm9rZTpyZ2IoMzkuOTk5MzklLDM5Ljk5OTM5JSwzOS45OTkzOSUpO3N0cm9rZS1vcGFjaXR5OjE7c3Ryb2tlLW1pdGVybGltaXQ6MTQuMzM1NTk7IgogICAgICAgICBkPSJNIDk5NDU1LjY3Mjc3MiA5MDQwNC4xNDU3MDMgTCAxNjYzMTEuMTg3OTc2IDkwNDA0LjE0NTcwMyBMIDE2NjMxMS4xODc5NzYgMTIyODk4LjI4MjUzNyBMIDk5NDU1LjY3Mjc3MiAxMjI4OTguMjgyNTM3IFogTSA5OTQ1NS42NzI3NzIgOTA0MDQuMTQ1NzAzICIKICAgICAgICAgdHJhbnNmb3JtPSJtYXRyaXgoMC4wMDA1NjY5MjksMCwwLDAuMDAwNTY2OTI5LC0yLjY4MTIsMC4zNDEpIgogICAgICAgICBpZD0icGF0aDM4NiIgLz4KICAgICAgPGcKICAgICAgICAgc3R5bGU9ImZpbGw6cmdiKDAlLDAlLDAlKTtmaWxsLW9wYWNpdHk6MTsiCiAgICAgICAgIGlkPSJnMzk2Ij4KICAgICAgICA8dXNlCiAgICAgICAgICAgeGxpbms6aHJlZj0iI2dseXBoMC0xIgogICAgICAgICAgIHg9IjU3LjY0NDIyOSIKICAgICAgICAgICB5PSI2Mi4yOTk1ODUiCiAgICAgICAgICAgaWQ9InVzZTM4OCIgLz4KICAgICAgICA8dXNlCiAgICAgICAgICAgeGxpbms6aHJlZj0iI2dseXBoMC0yIgogICAgICAgICAgIHg9IjU5Ljg4NjAyMSIKICAgICAgICAgICB5PSI2Mi4yOTk1ODUiCiAgICAgICAgICAgaWQ9InVzZTM5MCIgLz4KICAgICAgICA8dXNlCiAgICAgICAgICAgeGxpbms6aHJlZj0iI2dseXBoMC0xIgogICAgICAgICAgIHg9IjYxLjkwMjAyMSIKICAgICAgICAgICB5PSI2Mi4yOTk1ODUiCiAgICAgICAgICAgaWQ9InVzZTM5MiIgLz4KICAgICAgICA8dXNlCiAgICAgICAgICAgeGxpbms6aHJlZj0iI2dseXBoMC0zIgogICAgICAgICAgIHg9IjY0LjE0MzgxNCIKICAgICAgICAgICB5PSI2Mi4yOTk1ODUiCiAgICAgICAgICAgaWQ9InVzZTM5NCIgLz4KICAgICAgPC9nPgogICAgICA8ZwogICAgICAgICBzdHlsZT0iZmlsbDpyZ2IoMCUsMCUsMCUpO2ZpbGwtb3BhY2l0eToxOyIKICAgICAgICAgaWQ9Imc0MTQiPgogICAgICAgIDx1c2UKICAgICAgICAgICB4bGluazpocmVmPSIjZ2x5cGgwLTQiCiAgICAgICAgICAgeD0iNjUuMjYwNjc4IgogICAgICAgICAgIHk9IjYyLjI5OTU4NSIKICAgICAgICAgICBpZD0idXNlMzk4IiAvPgogICAgICAgIDx1c2UKICAgICAgICAgICB4bGluazpocmVmPSIjZ2x5cGgwLTUiCiAgICAgICAgICAgeD0iNjcuMjc2Njc4IgogICAgICAgICAgIHk9IjYyLjI5OTU4NSIKICAgICAgICAgICBpZD0idXNlNDAwIiAvPgogICAgICAgIDx1c2UKICAgICAgICAgICB4bGluazpocmVmPSIjZ2x5cGgwLTYiCiAgICAgICAgICAgeD0iNjkuNTE4NDcxIgogICAgICAgICAgIHk9IjYyLjI5OTU4NSIKICAgICAgICAgICBpZD0idXNlNDAyIiAvPgogICAgICAgIDx1c2UKICAgICAgICAgICB4bGluazpocmVmPSIjZ2x5cGgwLTciCiAgICAgICAgICAgeD0iNzEuNzYwMjYzIgogICAgICAgICAgIHk9IjYyLjI5OTU4NSIKICAgICAgICAgICBpZD0idXNlNDA0IiAvPgogICAgICAgIDx1c2UKICAgICAgICAgICB4bGluazpocmVmPSIjZ2x5cGgwLTUiCiAgICAgICAgICAgeD0iNzMuNzc2MjY0IgogICAgICAgICAgIHk9IjYyLjI5OTU4NSIKICAgICAgICAgICBpZD0idXNlNDA2IiAvPgogICAgICAgIDx1c2UKICAgICAgICAgICB4bGluazpocmVmPSIjZ2x5cGgwLTgiCiAgICAgICAgICAgeD0iNzYuMDE4MDU2IgogICAgICAgICAgIHk9IjYyLjI5OTU4NSIKICAgICAgICAgICBpZD0idXNlNDA4IiAvPgogICAgICAgIDx1c2UKICAgICAgICAgICB4bGluazpocmVmPSIjZ2x5cGgwLTkiCiAgICAgICAgICAgeD0iNzYuOTEzMTYiCiAgICAgICAgICAgeT0iNjIuMjk5NTg1IgogICAgICAgICAgIGlkPSJ1c2U0MTAiIC8+CiAgICAgICAgPHVzZQogICAgICAgICAgIHhsaW5rOmhyZWY9IiNnbHlwaDAtMTAiCiAgICAgICAgICAgeD0iNzkuMTU0OTUyIgogICAgICAgICAgIHk9IjYyLjI5OTU4NSIKICAgICAgICAgICBpZD0idXNlNDEyIiAvPgogICAgICA8L2c+CiAgICAgIDxnCiAgICAgICAgIHN0eWxlPSJmaWxsOnJnYigwJSwwJSwwJSk7ZmlsbC1vcGFjaXR5OjE7IgogICAgICAgICBpZD0iZzQyNCI+CiAgICAgICAgPHVzZQogICAgICAgICAgIHhsaW5rOmhyZWY9IiNnbHlwaDAtMTEiCiAgICAgICAgICAgeD0iODAuMjcxODE3IgogICAgICAgICAgIHk9IjYyLjI5OTU4NSIKICAgICAgICAgICBpZD0idXNlNDE2IiAvPgogICAgICAgIDx1c2UKICAgICAgICAgICB4bGluazpocmVmPSIjZ2x5cGgwLTUiCiAgICAgICAgICAgeD0iODEuMTY2OTIxIgogICAgICAgICAgIHk9IjYyLjI5OTU4NSIKICAgICAgICAgICBpZD0idXNlNDE4IiAvPgogICAgICAgIDx1c2UKICAgICAgICAgICB4bGluazpocmVmPSIjZ2x5cGgwLTYiCiAgICAgICAgICAgeD0iODMuNDA4NzEzIgogICAgICAgICAgIHk9IjYyLjI5OTU4NSIKICAgICAgICAgICBpZD0idXNlNDIwIiAvPgogICAgICAgIDx1c2UKICAgICAgICAgICB4bGluazpocmVmPSIjZ2x5cGgwLTEyIgogICAgICAgICAgIHg9Ijg1LjY1MDUwNiIKICAgICAgICAgICB5PSI2Mi4yOTk1ODUiCiAgICAgICAgICAgaWQ9InVzZTQyMiIgLz4KICAgICAgPC9nPgogICAgICA8cGF0aAogICAgICAgICBzdHlsZT0iIHN0cm9rZTpub25lO2ZpbGwtcnVsZTpub256ZXJvO2ZpbGw6cmdiKDEwMCUsOTQuOTAyMDM5JSw4MC4wMDAzMDUlKTtmaWxsLW9wYWNpdHk6MTsiCiAgICAgICAgIGQ9Ik0gOTguMTA5Mzc1IDcwLjAxNTYyNSBMIDEzNi4wMDc4MTIgNzAuMDE1NjI1IEwgMTM2LjAwNzgxMiA1MS41OTM3NSBMIDk4LjEwOTM3NSA1MS41OTM3NSBaIE0gOTguMTA5Mzc1IDcwLjAxNTYyNSAiCiAgICAgICAgIGlkPSJwYXRoNDI2IiAvPgogICAgICA8cGF0aAogICAgICAgICBzdHlsZT0iZmlsbDpub25lO3N0cm9rZS13aWR0aDo3NjI7c3Ryb2tlLWxpbmVjYXA6YnV0dDtzdHJva2UtbGluZWpvaW46cm91bmQ7c3Ryb2tlOnJnYigzOS45OTkzOSUsMzkuOTk5MzklLDM5Ljk5OTM5JSk7c3Ryb2tlLW9wYWNpdHk6MTtzdHJva2UtbWl0ZXJsaW1pdDoxNC4zMzU1OTsiCiAgICAgICAgIGQ9Ik0gMTc3NzgzLjM1NDYwNiA5MDQwNC4xNDU3MDMgTCAyNDQ2MzEuOTc5NjE5IDkwNDA0LjE0NTcwMyBMIDI0NDYzMS45Nzk2MTkgMTIyODk4LjI4MjUzNyBMIDE3Nzc4My4zNTQ2MDYgMTIyODk4LjI4MjUzNyBaIE0gMTc3NzgzLjM1NDYwNiA5MDQwNC4xNDU3MDMgIgogICAgICAgICB0cmFuc2Zvcm09Im1hdHJpeCgwLjAwMDU2NjkyOSwwLDAsMC4wMDA1NjY5MjksLTIuNjgxMiwwLjM0MSkiCiAgICAgICAgIGlkPSJwYXRoNDI4IiAvPgogICAgICA8ZwogICAgICAgICBzdHlsZT0iZmlsbDpyZ2IoMCUsMCUsMCUpO2ZpbGwtb3BhY2l0eToxOyIKICAgICAgICAgaWQ9Imc0MzgiPgogICAgICAgIDx1c2UKICAgICAgICAgICB4bGluazpocmVmPSIjZ2x5cGgwLTEiCiAgICAgICAgICAgeD0iMTAyLjA1MDEyOSIKICAgICAgICAgICB5PSI2Mi4yOTk1ODUiCiAgICAgICAgICAgaWQ9InVzZTQzMCIgLz4KICAgICAgICA8dXNlCiAgICAgICAgICAgeGxpbms6aHJlZj0iI2dseXBoMC0yIgogICAgICAgICAgIHg9IjEwNC4yOTE5MjEiCiAgICAgICAgICAgeT0iNjIuMjk5NTg1IgogICAgICAgICAgIGlkPSJ1c2U0MzIiIC8+CiAgICAgICAgPHVzZQogICAgICAgICAgIHhsaW5rOmhyZWY9IiNnbHlwaDAtMSIKICAgICAgICAgICB4PSIxMDYuMzA3OTIxIgogICAgICAgICAgIHk9IjYyLjI5OTU4NSIKICAgICAgICAgICBpZD0idXNlNDM0IiAvPgogICAgICAgIDx1c2UKICAgICAgICAgICB4bGluazpocmVmPSIjZ2x5cGgwLTMiCiAgICAgICAgICAgeD0iMTA4LjU0OTcxNCIKICAgICAgICAgICB5PSI2Mi4yOTk1ODUiCiAgICAgICAgICAgaWQ9InVzZTQzNiIgLz4KICAgICAgPC9nPgogICAgICA8ZwogICAgICAgICBzdHlsZT0iZmlsbDpyZ2IoMCUsMCUsMCUpO2ZpbGwtb3BhY2l0eToxOyIKICAgICAgICAgaWQ9Imc0NTYiPgogICAgICAgIDx1c2UKICAgICAgICAgICB4bGluazpocmVmPSIjZ2x5cGgwLTQiCiAgICAgICAgICAgeD0iMTA5LjY2NjU3OCIKICAgICAgICAgICB5PSI2Mi4yOTk1ODUiCiAgICAgICAgICAgaWQ9InVzZTQ0MCIgLz4KICAgICAgICA8dXNlCiAgICAgICAgICAgeGxpbms6aHJlZj0iI2dseXBoMC01IgogICAgICAgICAgIHg9IjExMS42ODI1NzgiCiAgICAgICAgICAgeT0iNjIuMjk5NTg1IgogICAgICAgICAgIGlkPSJ1c2U0NDIiIC8+CiAgICAgICAgPHVzZQogICAgICAgICAgIHhsaW5rOmhyZWY9IiNnbHlwaDAtNiIKICAgICAgICAgICB4PSIxMTMuOTI0MzcxIgogICAgICAgICAgIHk9IjYyLjI5OTU4NSIKICAgICAgICAgICBpZD0idXNlNDQ0IiAvPgogICAgICAgIDx1c2UKICAgICAgICAgICB4bGluazpocmVmPSIjZ2x5cGgwLTciCiAgICAgICAgICAgeD0iMTE2LjE2NjE2MyIKICAgICAgICAgICB5PSI2Mi4yOTk1ODUiCiAgICAgICAgICAgaWQ9InVzZTQ0NiIgLz4KICAgICAgICA8dXNlCiAgICAgICAgICAgeGxpbms6aHJlZj0iI2dseXBoMC01IgogICAgICAgICAgIHg9IjExOC4xODIxNjQiCiAgICAgICAgICAgeT0iNjIuMjk5NTg1IgogICAgICAgICAgIGlkPSJ1c2U0NDgiIC8+CiAgICAgICAgPHVzZQogICAgICAgICAgIHhsaW5rOmhyZWY9IiNnbHlwaDAtOCIKICAgICAgICAgICB4PSIxMjAuNDIzOTU2IgogICAgICAgICAgIHk9IjYyLjI5OTU4NSIKICAgICAgICAgICBpZD0idXNlNDUwIiAvPgogICAgICAgIDx1c2UKICAgICAgICAgICB4bGluazpocmVmPSIjZ2x5cGgwLTkiCiAgICAgICAgICAgeD0iMTIxLjMxOTA2IgogICAgICAgICAgIHk9IjYyLjI5OTU4NSIKICAgICAgICAgICBpZD0idXNlNDUyIiAvPgogICAgICAgIDx1c2UKICAgICAgICAgICB4bGluazpocmVmPSIjZ2x5cGgwLTEwIgogICAgICAgICAgIHg9IjEyMy41NjA4NTIiCiAgICAgICAgICAgeT0iNjIuMjk5NTg1IgogICAgICAgICAgIGlkPSJ1c2U0NTQiIC8+CiAgICAgIDwvZz4KICAgICAgPGcKICAgICAgICAgc3R5bGU9ImZpbGw6cmdiKDAlLDAlLDAlKTtmaWxsLW9wYWNpdHk6MTsiCiAgICAgICAgIGlkPSJnNDY2Ij4KICAgICAgICA8dXNlCiAgICAgICAgICAgeGxpbms6aHJlZj0iI2dseXBoMC0xMSIKICAgICAgICAgICB4PSIxMjQuNjc3NzE3IgogICAgICAgICAgIHk9IjYyLjI5OTU4NSIKICAgICAgICAgICBpZD0idXNlNDU4IiAvPgogICAgICAgIDx1c2UKICAgICAgICAgICB4bGluazpocmVmPSIjZ2x5cGgwLTUiCiAgICAgICAgICAgeD0iMTI1LjU3MjgyMSIKICAgICAgICAgICB5PSI2Mi4yOTk1ODUiCiAgICAgICAgICAgaWQ9InVzZTQ2MCIgLz4KICAgICAgICA8dXNlCiAgICAgICAgICAgeGxpbms6aHJlZj0iI2dseXBoMC02IgogICAgICAgICAgIHg9IjEyNy44MTQ2MTMiCiAgICAgICAgICAgeT0iNjIuMjk5NTg1IgogICAgICAgICAgIGlkPSJ1c2U0NjIiIC8+CiAgICAgICAgPHVzZQogICAgICAgICAgIHhsaW5rOmhyZWY9IiNnbHlwaDAtMTIiCiAgICAgICAgICAgeD0iMTMwLjA1NjQwNiIKICAgICAgICAgICB5PSI2Mi4yOTk1ODUiCiAgICAgICAgICAgaWQ9InVzZTQ2NCIgLz4KICAgICAgPC9nPgogICAgICA8cGF0aAogICAgICAgICBzdHlsZT0iIHN0cm9rZTpub25lO2ZpbGwtcnVsZTpub256ZXJvO2ZpbGw6cmdiKDEwMCUsOTQuOTAyMDM5JSw4MC4wMDAzMDUlKTtmaWxsLW9wYWNpdHk6MTsiCiAgICAgICAgIGQ9Ik0gMTQ0LjQxMDE1NiA0Ny4wNjY0MDYgTCAxODIuMzEyNSA0Ny4wNjY0MDYgTCAxODIuMzEyNSAyOC42NDA2MjUgTCAxNDQuNDEwMTU2IDI4LjY0MDYyNSBaIE0gMTQ0LjQxMDE1NiA0Ny4wNjY0MDYgIgogICAgICAgICBpZD0icGF0aDQ2OCIgLz4KICAgICAgPHBhdGgKICAgICAgICAgc3R5bGU9ImZpbGw6bm9uZTtzdHJva2Utd2lkdGg6NzYyO3N0cm9rZS1saW5lY2FwOmJ1dHQ7c3Ryb2tlLWxpbmVqb2luOnJvdW5kO3N0cm9rZTpyZ2IoMzkuOTk5MzklLDM5Ljk5OTM5JSwzOS45OTkzOSUpO3N0cm9rZS1vcGFjaXR5OjE7c3Ryb2tlLW1pdGVybGltaXQ6MTQuMzM1NTk7IgogICAgICAgICBkPSJNIDI1OTQ1Mi43Nzg2NzEgNDk5MTcuMzg4Mjc0IEwgMzI2MzA4LjI5Mzg3NSA0OTkxNy4zODgyNzQgTCAzMjYzMDguMjkzODc1IDgyNDE4LjQxNTI5OCBMIDI1OTQ1Mi43Nzg2NzEgODI0MTguNDE1Mjk4IFogTSAyNTk0NTIuNzc4NjcxIDQ5OTE3LjM4ODI3NCAiCiAgICAgICAgIHRyYW5zZm9ybT0ibWF0cml4KDAuMDAwNTY2OTI5LDAsMCwwLjAwMDU2NjkyOSwtMi42ODEyLDAuMzQxKSIKICAgICAgICAgaWQ9InBhdGg0NzAiIC8+CiAgICAgIDxnCiAgICAgICAgIHN0eWxlPSJmaWxsOnJnYigwJSwwJSwwJSk7ZmlsbC1vcGFjaXR5OjE7IgogICAgICAgICBpZD0iZzQ4MCI+CiAgICAgICAgPHVzZQogICAgICAgICAgIHhsaW5rOmhyZWY9IiNnbHlwaDAtMSIKICAgICAgICAgICB4PSIxNDguMzUyMzI5IgogICAgICAgICAgIHk9IjM5LjM0Nzk4NSIKICAgICAgICAgICBpZD0idXNlNDcyIiAvPgogICAgICAgIDx1c2UKICAgICAgICAgICB4bGluazpocmVmPSIjZ2x5cGgwLTIiCiAgICAgICAgICAgeD0iMTUwLjU5NDEyMSIKICAgICAgICAgICB5PSIzOS4zNDc5ODUiCiAgICAgICAgICAgaWQ9InVzZTQ3NCIgLz4KICAgICAgICA8dXNlCiAgICAgICAgICAgeGxpbms6aHJlZj0iI2dseXBoMC0xIgogICAgICAgICAgIHg9IjE1Mi42MTAxMjEiCiAgICAgICAgICAgeT0iMzkuMzQ3OTg1IgogICAgICAgICAgIGlkPSJ1c2U0NzYiIC8+CiAgICAgICAgPHVzZQogICAgICAgICAgIHhsaW5rOmhyZWY9IiNnbHlwaDAtMyIKICAgICAgICAgICB4PSIxNTQuODUxOTE0IgogICAgICAgICAgIHk9IjM5LjM0Nzk4NSIKICAgICAgICAgICBpZD0idXNlNDc4IiAvPgogICAgICA8L2c+CiAgICAgIDxnCiAgICAgICAgIHN0eWxlPSJmaWxsOnJnYigwJSwwJSwwJSk7ZmlsbC1vcGFjaXR5OjE7IgogICAgICAgICBpZD0iZzQ5OCI+CiAgICAgICAgPHVzZQogICAgICAgICAgIHhsaW5rOmhyZWY9IiNnbHlwaDAtNCIKICAgICAgICAgICB4PSIxNTUuOTY4Nzc4IgogICAgICAgICAgIHk9IjM5LjM0Nzk4NSIKICAgICAgICAgICBpZD0idXNlNDgyIiAvPgogICAgICAgIDx1c2UKICAgICAgICAgICB4bGluazpocmVmPSIjZ2x5cGgwLTUiCiAgICAgICAgICAgeD0iMTU3Ljk4NDc3OCIKICAgICAgICAgICB5PSIzOS4zNDc5ODUiCiAgICAgICAgICAgaWQ9InVzZTQ4NCIgLz4KICAgICAgICA8dXNlCiAgICAgICAgICAgeGxpbms6aHJlZj0iI2dseXBoMC02IgogICAgICAgICAgIHg9IjE2MC4yMjY1NzEiCiAgICAgICAgICAgeT0iMzkuMzQ3OTg1IgogICAgICAgICAgIGlkPSJ1c2U0ODYiIC8+CiAgICAgICAgPHVzZQogICAgICAgICAgIHhsaW5rOmhyZWY9IiNnbHlwaDAtNyIKICAgICAgICAgICB4PSIxNjIuNDY4MzYzIgogICAgICAgICAgIHk9IjM5LjM0Nzk4NSIKICAgICAgICAgICBpZD0idXNlNDg4IiAvPgogICAgICAgIDx1c2UKICAgICAgICAgICB4bGluazpocmVmPSIjZ2x5cGgwLTUiCiAgICAgICAgICAgeD0iMTY0LjQ4NDM2NCIKICAgICAgICAgICB5PSIzOS4zNDc5ODUiCiAgICAgICAgICAgaWQ9InVzZTQ5MCIgLz4KICAgICAgICA8dXNlCiAgICAgICAgICAgeGxpbms6aHJlZj0iI2dseXBoMC04IgogICAgICAgICAgIHg9IjE2Ni43MjYxNTYiCiAgICAgICAgICAgeT0iMzkuMzQ3OTg1IgogICAgICAgICAgIGlkPSJ1c2U0OTIiIC8+CiAgICAgICAgPHVzZQogICAgICAgICAgIHhsaW5rOmhyZWY9IiNnbHlwaDAtOSIKICAgICAgICAgICB4PSIxNjcuNjIxMjYiCiAgICAgICAgICAgeT0iMzkuMzQ3OTg1IgogICAgICAgICAgIGlkPSJ1c2U0OTQiIC8+CiAgICAgICAgPHVzZQogICAgICAgICAgIHhsaW5rOmhyZWY9IiNnbHlwaDAtMTAiCiAgICAgICAgICAgeD0iMTY5Ljg2MzA1MiIKICAgICAgICAgICB5PSIzOS4zNDc5ODUiCiAgICAgICAgICAgaWQ9InVzZTQ5NiIgLz4KICAgICAgPC9nPgogICAgICA8ZwogICAgICAgICBzdHlsZT0iZmlsbDpyZ2IoMCUsMCUsMCUpO2ZpbGwtb3BhY2l0eToxOyIKICAgICAgICAgaWQ9Imc1MDgiPgogICAgICAgIDx1c2UKICAgICAgICAgICB4bGluazpocmVmPSIjZ2x5cGgwLTExIgogICAgICAgICAgIHg9IjE3MC45Nzk5MTciCiAgICAgICAgICAgeT0iMzkuMzQ3OTg1IgogICAgICAgICAgIGlkPSJ1c2U1MDAiIC8+CiAgICAgICAgPHVzZQogICAgICAgICAgIHhsaW5rOmhyZWY9IiNnbHlwaDAtNSIKICAgICAgICAgICB4PSIxNzEuODc1MDIxIgogICAgICAgICAgIHk9IjM5LjM0Nzk4NSIKICAgICAgICAgICBpZD0idXNlNTAyIiAvPgogICAgICAgIDx1c2UKICAgICAgICAgICB4bGluazpocmVmPSIjZ2x5cGgwLTYiCiAgICAgICAgICAgeD0iMTc0LjExNjgxMyIKICAgICAgICAgICB5PSIzOS4zNDc5ODUiCiAgICAgICAgICAgaWQ9InVzZTUwNCIgLz4KICAgICAgICA8dXNlCiAgICAgICAgICAgeGxpbms6aHJlZj0iI2dseXBoMC0xMiIKICAgICAgICAgICB4PSIxNzYuMzU4NjA2IgogICAgICAgICAgIHk9IjM5LjM0Nzk4NSIKICAgICAgICAgICBpZD0idXNlNTA2IiAvPgogICAgICA8L2c+CiAgICAgIDxwYXRoCiAgICAgICAgIHN0eWxlPSJmaWxsOm5vbmU7c3Ryb2tlLXdpZHRoOjc2MjtzdHJva2UtbGluZWNhcDpidXR0O3N0cm9rZS1saW5lam9pbjpyb3VuZDtzdHJva2U6cmdiKDM5Ljk5OTM5JSwzOS45OTkzOSUsMzkuOTk5MzklKTtzdHJva2Utb3BhY2l0eToxO3N0cm9rZS1taXRlcmxpbWl0OjE0LjMzNTU5OyIKICAgICAgICAgZD0iTSAxMzI4NzkuOTg1Mjc5IDkwNDA0LjE0NTcwMyBMIDEzMjg3OS45ODUyNzkgODY5ODYuNjExMzc5ICIKICAgICAgICAgdHJhbnNmb3JtPSJtYXRyaXgoMC4wMDA1NjY5MjksMCwwLDAuMDAwNTY2OTI5LC0yLjY4MTIsMC4zNDEpIgogICAgICAgICBpZD0icGF0aDUxMCIgLz4KICAgICAgPHBhdGgKICAgICAgICAgc3R5bGU9ImZpbGwtcnVsZTpldmVub2RkO2ZpbGw6cmdiKDM5Ljk5OTM5JSwzOS45OTkzOSUsMzkuOTk5MzklKTtmaWxsLW9wYWNpdHk6MTtzdHJva2Utd2lkdGg6NzYyO3N0cm9rZS1saW5lY2FwOmJ1dHQ7c3Ryb2tlLWxpbmVqb2luOm1pdGVyO3N0cm9rZTpyZ2IoMzkuOTk5MzklLDM5Ljk5OTM5JSwzOS45OTkzOSUpO3N0cm9rZS1vcGFjaXR5OjE7c3Ryb2tlLW1pdGVybGltaXQ6MTEuNDczNzE7IgogICAgICAgICBkPSJNIDEzNDE0MC44OTAwNzkgODY5ODYuNjExMzc5IEwgMTMyODc5Ljk4NTI3OSA4MzUyNy43MzU5MTUgTCAxMzE2MjUuOTcwNjY4IDg2OTg2LjYxMTM3OSBaIE0gMTM0MTQwLjg5MDA3OSA4Njk4Ni42MTEzNzkgIgogICAgICAgICB0cmFuc2Zvcm09Im1hdHJpeCgwLjAwMDU2NjkyOSwwLDAsMC4wMDA1NjY5MjksLTIuNjgxMiwwLjM0MSkiCiAgICAgICAgIGlkPSJwYXRoNTEyIiAvPgogICAgICA8cGF0aAogICAgICAgICBzdHlsZT0iZmlsbDpub25lO3N0cm9rZS13aWR0aDo3NjI7c3Ryb2tlLWxpbmVjYXA6YnV0dDtzdHJva2UtbGluZWpvaW46cm91bmQ7c3Ryb2tlOnJnYigzOS45OTkzOSUsMzkuOTk5MzklLDM5Ljk5OTM5JSk7c3Ryb2tlLW9wYWNpdHk6MTtzdHJva2UtbWl0ZXJsaW1pdDoxNC4zMzU1OTsiCiAgICAgICAgIGQ9Ik0gMjExMjA3LjY2NzExMyA5MDQwNC4xNDU3MDMgTCAyMTEyMDcuNjY3MTEzIDg2OTg2LjYxMTM3OSAiCiAgICAgICAgIHRyYW5zZm9ybT0ibWF0cml4KDAuMDAwNTY2OTI5LDAsMCwwLjAwMDU2NjkyOSwtMi42ODEyLDAuMzQxKSIKICAgICAgICAgaWQ9InBhdGg1MTQiIC8+CiAgICAgIDxwYXRoCiAgICAgICAgIHN0eWxlPSJmaWxsLXJ1bGU6ZXZlbm9kZDtmaWxsOnJnYigzOS45OTkzOSUsMzkuOTk5MzklLDM5Ljk5OTM5JSk7ZmlsbC1vcGFjaXR5OjE7c3Ryb2tlLXdpZHRoOjc2MjtzdHJva2UtbGluZWNhcDpidXR0O3N0cm9rZS1saW5lam9pbjptaXRlcjtzdHJva2U6cmdiKDM5Ljk5OTM5JSwzOS45OTkzOSUsMzkuOTk5MzklKTtzdHJva2Utb3BhY2l0eToxO3N0cm9rZS1taXRlcmxpbWl0OjExLjQ3MzcxOyIKICAgICAgICAgZD0iTSAyMTI0NjguNTcxOTEzIDg2OTg2LjYxMTM3OSBMIDIxMTIwNy42NjcxMTMgODM1MjcuNzM1OTE1IEwgMjA5OTUzLjY1MjUwMiA4Njk4Ni42MTEzNzkgWiBNIDIxMjQ2OC41NzE5MTMgODY5ODYuNjExMzc5ICIKICAgICAgICAgdHJhbnNmb3JtPSJtYXRyaXgoMC4wMDA1NjY5MjksMCwwLDAuMDAwNTY2OTI5LC0yLjY4MTIsMC4zNDEpIgogICAgICAgICBpZD0icGF0aDUxNiIgLz4KICAgICAgPHBhdGgKICAgICAgICAgc3R5bGU9ImZpbGw6bm9uZTtzdHJva2Utd2lkdGg6NzYyO3N0cm9rZS1saW5lY2FwOmJ1dHQ7c3Ryb2tlLWxpbmVqb2luOnJvdW5kO3N0cm9rZTpyZ2IoMzkuOTk5MzklLDM5Ljk5OTM5JSwzOS45OTkzOSUpO3N0cm9rZS1vcGFjaXR5OjE7c3Ryb2tlLW1pdGVybGltaXQ6MTQuMzM1NTk7IgogICAgICAgICBkPSJNIDI5Mjg4My45ODEzNjggOTA0MDQuMTQ1NzAzIEwgMjkyODgzLjk4MTM2OCA4Njk4Ni42MTEzNzkgIgogICAgICAgICB0cmFuc2Zvcm09Im1hdHJpeCgwLjAwMDU2NjkyOSwwLDAsMC4wMDA1NjY5MjksLTIuNjgxMiwwLjM0MSkiCiAgICAgICAgIGlkPSJwYXRoNTE4IiAvPgogICAgICA8cGF0aAogICAgICAgICBzdHlsZT0iZmlsbC1ydWxlOmV2ZW5vZGQ7ZmlsbDpyZ2IoMzkuOTk5MzklLDM5Ljk5OTM5JSwzOS45OTkzOSUpO2ZpbGwtb3BhY2l0eToxO3N0cm9rZS13aWR0aDo3NjI7c3Ryb2tlLWxpbmVjYXA6YnV0dDtzdHJva2UtbGluZWpvaW46bWl0ZXI7c3Ryb2tlOnJnYigzOS45OTkzOSUsMzkuOTk5MzklLDM5Ljk5OTM5JSk7c3Ryb2tlLW9wYWNpdHk6MTtzdHJva2UtbWl0ZXJsaW1pdDoxMS40NzM3MTsiCiAgICAgICAgIGQ9Ik0gMjk0MTM3Ljk5NTk3OSA4Njk4Ni42MTEzNzkgTCAyOTI4ODMuOTgxMzY4IDgzNTI3LjczNTkxNSBMIDI5MTYyMy4wNzY1NjggODY5ODYuNjExMzc5IFogTSAyOTQxMzcuOTk1OTc5IDg2OTg2LjYxMTM3OSAiCiAgICAgICAgIHRyYW5zZm9ybT0ibWF0cml4KDAuMDAwNTY2OTI5LDAsMCwwLjAwMDU2NjkyOSwtMi42ODEyLDAuMzQxKSIKICAgICAgICAgaWQ9InBhdGg1MjAiIC8+CiAgICAgIDxwYXRoCiAgICAgICAgIHN0eWxlPSJmaWxsOm5vbmU7c3Ryb2tlLXdpZHRoOjc2MjtzdHJva2UtbGluZWNhcDpidXR0O3N0cm9rZS1saW5lam9pbjpyb3VuZDtzdHJva2U6cmdiKDM5Ljk5OTM5JSwzOS45OTkzOSUsMzkuOTk5MzklKTtzdHJva2Utb3BhY2l0eToxO3N0cm9rZS1taXRlcmxpbWl0OjE0LjMzNTU5OyIKICAgICAgICAgZD0iTSAxNDM0OTAuODc4MTM4IDEzMzQ4MS42MTQ2MzUgTCAxMzYxMTguMzc0NjU4IDEyNjEyOS43ODE3MjYgIgogICAgICAgICB0cmFuc2Zvcm09Im1hdHJpeCgwLjAwMDU2NjkyOSwwLDAsMC4wMDA1NjY5MjksLTIuNjgxMiwwLjM0MSkiCiAgICAgICAgIGlkPSJwYXRoNTIyIiAvPgogICAgICA8cGF0aAogICAgICAgICBzdHlsZT0iZmlsbC1ydWxlOmV2ZW5vZGQ7ZmlsbDpyZ2IoMzkuOTk5MzklLDM5Ljk5OTM5JSwzOS45OTkzOSUpO2ZpbGwtb3BhY2l0eToxO3N0cm9rZS13aWR0aDo3NjI7c3Ryb2tlLWxpbmVjYXA6YnV0dDtzdHJva2UtbGluZWpvaW46bWl0ZXI7c3Ryb2tlOnJnYigzOS45OTkzOSUsMzkuOTk5MzklLDM5Ljk5OTM5JSk7c3Ryb2tlLW9wYWNpdHk6MTtzdHJva2UtbWl0ZXJsaW1pdDoxMS40NzM3MTsiCiAgICAgICAgIGQ9Ik0gMTM3MDA3LjIwOTE4OSAxMjUyNDAuOTQ3MTk0IEwgMTMzNjcyLjM1NzE0OCAxMjM2ODMuNzY0MjE2IEwgMTM1MjI5LjU0MDEyNiAxMjcwMTguNjE2MjU4IFogTSAxMzcwMDcuMjA5MTg5IDEyNTI0MC45NDcxOTQgIgogICAgICAgICB0cmFuc2Zvcm09Im1hdHJpeCgwLjAwMDU2NjkyOSwwLDAsMC4wMDA1NjY5MjksLTIuNjgxMiwwLjM0MSkiCiAgICAgICAgIGlkPSJwYXRoNTI0IiAvPgogICAgICA8cGF0aAogICAgICAgICBzdHlsZT0iZmlsbDpub25lO3N0cm9rZS13aWR0aDo3NjI7c3Ryb2tlLWxpbmVjYXA6YnV0dDtzdHJva2UtbGluZWpvaW46cm91bmQ7c3Ryb2tlOnJnYigzOS45OTkzOSUsMzkuOTk5MzklLDM5Ljk5OTM5JSk7c3Ryb2tlLW9wYWNpdHk6MTtzdHJva2UtbWl0ZXJsaW1pdDoxNC4zMzU1OTsiCiAgICAgICAgIGQ9Ik0gMTQyMTY3Ljk2MTYyNiAxMzMyMzMuNTY3Nzg5IEwgMjA2Njk0LjU5MjU1MiAxMjM1NzMuNTIxMTczICIKICAgICAgICAgdHJhbnNmb3JtPSJtYXRyaXgoMC4wMDA1NjY5MjksMCwwLDAuMDAwNTY2OTI5LC0yLjY4MTIsMC4zNDEpIgogICAgICAgICBpZD0icGF0aDUyNiIgLz4KICAgICAgPHBhdGgKICAgICAgICAgc3R5bGU9ImZpbGwtcnVsZTpldmVub2RkO2ZpbGw6cmdiKDM5Ljk5OTM5JSwzOS45OTkzOSUsMzkuOTk5MzklKTtmaWxsLW9wYWNpdHk6MTtzdHJva2Utd2lkdGg6NzYyO3N0cm9rZS1saW5lY2FwOmJ1dHQ7c3Ryb2tlLWxpbmVqb2luOm1pdGVyO3N0cm9rZTpyZ2IoMzkuOTk5MzklLDM5Ljk5OTM5JSwzOS45OTkzOSUpO3N0cm9rZS1vcGFjaXR5OjE7c3Ryb2tlLW1pdGVybGltaXQ6MTEuNDczNzE7IgogICAgICAgICBkPSJNIDIwNjg4MC42Mjc2ODcgMTI0ODIwLjY0NTU5NCBMIDIxMDExMi4xMjY4NzYgMTIzMDYzLjY0NzEwMSBMIDIwNjUwOC41NTc0MTggMTIyMzMzLjI4Njk0MyBaIE0gMjA2ODgwLjYyNzY4NyAxMjQ4MjAuNjQ1NTk0ICIKICAgICAgICAgdHJhbnNmb3JtPSJtYXRyaXgoMC4wMDA1NjY5MjksMCwwLDAuMDAwNTY2OTI5LC0yLjY4MTIsMC4zNDEpIgogICAgICAgICBpZD0icGF0aDUyOCIgLz4KICAgICAgPHBhdGgKICAgICAgICAgc3R5bGU9ImZpbGw6bm9uZTtzdHJva2Utd2lkdGg6NzYyO3N0cm9rZS1saW5lY2FwOmJ1dHQ7c3Ryb2tlLWxpbmVqb2luOnJvdW5kO3N0cm9rZTpyZ2IoMzkuOTk5MzklLDM5Ljk5OTM5JSwzOS45OTkzOSUpO3N0cm9rZS1vcGFjaXR5OjE7c3Ryb2tlLW1pdGVybGltaXQ6MTQuMzM1NTk7IgogICAgICAgICBkPSJNIDE0MjE2Ny45NjE2MjYgMTMzMjMzLjU2Nzc4OSBDIDE0MjE2Ny45NjE2MjYgMTI5NjkyLjAxMDA0MyAxMTcyNDYuMTQzNzg3IDEyOTk4MS4zOTgwMyA5MjMyNC4zMjU5NDggMTI2MTU3LjM0MjQ4NyBDIDc5ODY2Ljg2MjEyMyAxMjQyNDguNzU5ODEgNjc0MDIuNTA4MTA5IDEyMTMwNi42NDg2MDggNTgwNTkuNDEwMjQgMTE3Mzc5LjI0MDIxMiBDIDUzMzg3Ljg2MTMwNiAxMTU0MTUuNTM2MDE0IDQ5NDg4LjAxMzY3MSAxMTMyMDMuNzg0OTcgNDY3NjYuMzg4NTU0IDExMDc0My45ODcwOCBDIDQ2MDg0LjI1OTcyOCAxMTAxMzAuNzYwMTU1IDQ1NDc3LjkyMjk5MyAxMDk1MDMuNzUyODUgNDQ5NDcuMzc4MzUgMTA4ODYyLjk2NTE2NCBDIDQ0Njc4LjY2MDkzMyAxMDg1MzkuMTI2MjI2IDQ0NDM3LjUwNDI3NyAxMDgyMTUuMjg3Mjg4IDQ0MjEwLjEyODAwMiAxMDc4ODQuNTU4MTYgQyA0NDA5OS44ODQ5NTkgMTA3NzE5LjE5MzU5NiA0Mzk4OS42NDE5MTYgMTA3NTUzLjgyOTAzMiA0Mzg5My4xNzkyNTQgMTA3MzgxLjU3NDI3OCBDIDQzODM4LjA1NzczMyAxMDcyOTguODkxOTk2IDQzNzg5LjgyNjQwMiAxMDcyMTYuMjA5NzE0IDQzNzQxLjU5NTA3IDEwNzEzMy41Mjc0MzIgTCA0MzcwMC4yNTM5MjkgMTA3MDU3LjczNTM0ICIKICAgICAgICAgdHJhbnNmb3JtPSJtYXRyaXgoMC4wMDA1NjY5MjksMCwwLDAuMDAwNTY2OTI5LC0yLjY4MTIsMC4zNDEpIgogICAgICAgICBpZD0icGF0aDUzMCIgLz4KICAgICAgPHBhdGgKICAgICAgICAgc3R5bGU9ImZpbGwtcnVsZTpldmVub2RkO2ZpbGw6cmdiKDM5Ljk5OTM5JSwzOS45OTkzOSUsMzkuOTk5MzklKTtmaWxsLW9wYWNpdHk6MTtzdHJva2Utd2lkdGg6NzYyO3N0cm9rZS1saW5lY2FwOmJ1dHQ7c3Ryb2tlLWxpbmVqb2luOm1pdGVyO3N0cm9rZTpyZ2IoMzkuOTk5MzklLDM5Ljk5OTM5JSwzOS45OTkzOSUpO3N0cm9rZS1vcGFjaXR5OjE7c3Ryb2tlLW1pdGVybGltaXQ6MTEuNDczNzE7IgogICAgICAgICBkPSJNIDQ0OTEyLjkyNzM5OSAxMDY3MjcuMDA2MjEyIEwgNDI3NzYuOTY4NDQ3IDEwMzcyOS43NzM0ODggTCA0MjQ4Ny41ODA0NiAxMDczOTUuMzU0NjU4IFogTSA0NDkxMi45MjczOTkgMTA2NzI3LjAwNjIxMiAiCiAgICAgICAgIHRyYW5zZm9ybT0ibWF0cml4KDAuMDAwNTY2OTI5LDAsMCwwLjAwMDU2NjkyOSwtMi42ODEyLDAuMzQxKSIKICAgICAgICAgaWQ9InBhdGg1MzIiIC8+CiAgICAgIDxwYXRoCiAgICAgICAgIHN0eWxlPSJmaWxsOm5vbmU7c3Ryb2tlLXdpZHRoOjc2MjtzdHJva2UtbGluZWNhcDpidXR0O3N0cm9rZS1saW5lam9pbjpyb3VuZDtzdHJva2U6cmdiKDM5Ljk5OTM5JSwzOS45OTkzOSUsMzkuOTk5MzklKTtzdHJva2Utb3BhY2l0eToxO3N0cm9rZS1taXRlcmxpbWl0OjE0LjMzNTU5OyIKICAgICAgICAgZD0iTSAyOTI4ODMuOTgxMzY4IDQ5OTE3LjM4ODI3NCBMIDE0NjcxNS40ODcxMzcgMzY0MDUuNzI1MzUzICIKICAgICAgICAgdHJhbnNmb3JtPSJtYXRyaXgoMC4wMDA1NjY5MjksMCwwLDAuMDAwNTY2OTI5LC0yLjY4MTIsMC4zNDEpIgogICAgICAgICBpZD0icGF0aDUzNCIgLz4KICAgICAgPHBhdGgKICAgICAgICAgc3R5bGU9ImZpbGwtcnVsZTpldmVub2RkO2ZpbGw6cmdiKDM5Ljk5OTM5JSwzOS45OTkzOSUsMzkuOTk5MzklKTtmaWxsLW9wYWNpdHk6MTtzdHJva2Utd2lkdGg6NzYyO3N0cm9rZS1saW5lY2FwOmJ1dHQ7c3Ryb2tlLWxpbmVqb2luOm1pdGVyO3N0cm9rZTpyZ2IoMzkuOTk5MzklLDM5Ljk5OTM5JSwzOS45OTkzOSUpO3N0cm9rZS1vcGFjaXR5OjE7c3Ryb2tlLW1pdGVybGltaXQ6MTEuNDczNzE7IgogICAgICAgICBkPSJNIDE0NjgzMi42MjAzNyAzNTE1MS43MTA3NDMgTCAxNDMyNzAuMzkyMDUyIDM2MDg4Ljc3NjYwNiBMIDE0NjU5OC4zNTM5MDQgMzc2NTkuNzM5OTY0IFogTSAxNDY4MzIuNjIwMzcgMzUxNTEuNzEwNzQzICIKICAgICAgICAgdHJhbnNmb3JtPSJtYXRyaXgoMC4wMDA1NjY5MjksMCwwLDAuMDAwNTY2OTI5LC0yLjY4MTIsMC4zNDEpIgogICAgICAgICBpZD0icGF0aDUzNiIgLz4KICAgIDwvZz4KICA8L2RlZnM+CiAgPGcKICAgICBpZD0ic3VyZmFjZTE2MDM0Ij4KICAgIDxnCiAgICAgICBjbGlwLXBhdGg9InVybCgjY2xpcDEpIgogICAgICAgY2xpcC1ydWxlPSJub256ZXJvIgogICAgICAgaWQ9Imc1NDMiPgogICAgICA8dXNlCiAgICAgICAgIHhsaW5rOmhyZWY9IiNzdXJmYWNlMTYwMzkiCiAgICAgICAgIGlkPSJ1c2U1NDEiIC8+CiAgICA8L2c+CiAgPC9nPgo8L3N2Zz4K)"
      ]
    },
    {
      "cell_type": "code",
      "execution_count": 25,
      "metadata": {
        "id": "3JVwRSd8fPaq"
      },
      "outputs": [],
      "source": [
        "class InceptionBlock(nn.Module):\n",
        "\n",
        "    def __init__(self, c_in, c_red : dict, c_out : dict, act_fn):\n",
        "        \"\"\"\n",
        "        Inputs:\n",
        "            c_in - Number of input feature maps from the previous layers\n",
        "            c_red - Dictionary with keys \"3x3\" and \"5x5\" specifying the output of the dimensionality reducing 1x1 convolutions\n",
        "            c_out - Dictionary with keys \"1x1\", \"3x3\", \"5x5\", and \"max\"\n",
        "            act_fn - Activation class constructor (e.g. nn.ReLU)\n",
        "        \"\"\"\n",
        "        super().__init__()\n",
        "\n",
        "        # 1x1 convolution branch\n",
        "        self.conv_1x1 = nn.Sequential(\n",
        "            nn.Conv2d(c_in, c_out[\"1x1\"], kernel_size=1),\n",
        "            nn.BatchNorm2d(c_out[\"1x1\"]),\n",
        "            act_fn()\n",
        "        )\n",
        "\n",
        "        # 3x3 convolution branch\n",
        "        self.conv_3x3 = nn.Sequential(\n",
        "            nn.Conv2d(c_in, c_red[\"3x3\"], kernel_size=1),\n",
        "            nn.BatchNorm2d(c_red[\"3x3\"]),\n",
        "            act_fn(),\n",
        "            nn.Conv2d(c_red[\"3x3\"], c_out[\"3x3\"], kernel_size=3, padding=1),\n",
        "            nn.BatchNorm2d(c_out[\"3x3\"]),\n",
        "            act_fn()\n",
        "        )\n",
        "\n",
        "        # 5x5 convolution branch\n",
        "        self.conv_5x5 = nn.Sequential(\n",
        "            nn.Conv2d(c_in, c_red[\"5x5\"], kernel_size=1),\n",
        "            nn.BatchNorm2d(c_red[\"5x5\"]),\n",
        "            act_fn(),\n",
        "            nn.Conv2d(c_red[\"5x5\"], c_out[\"5x5\"], kernel_size=5, padding=2),\n",
        "            nn.BatchNorm2d(c_out[\"5x5\"]),\n",
        "            act_fn()\n",
        "        )\n",
        "\n",
        "        # Max-pool branch\n",
        "        self.max_pool = nn.Sequential(\n",
        "            nn.MaxPool2d(kernel_size=3, padding=1, stride=1),\n",
        "            nn.Conv2d(c_in, c_out[\"max\"], kernel_size=1),\n",
        "            nn.BatchNorm2d(c_out[\"max\"]),\n",
        "            act_fn()\n",
        "        )\n",
        "\n",
        "    def forward(self, x):\n",
        "        x_1x1 = self.conv_1x1(x)\n",
        "        x_3x3 = self.conv_3x3(x)\n",
        "        x_5x5 = self.conv_5x5(x)\n",
        "        x_max = self.max_pool(x)\n",
        "        x_out = torch.cat([x_1x1, x_3x3, x_5x5, x_max], dim=1)\n",
        "        return x_out"
      ]
    },
    {
      "cell_type": "markdown",
      "metadata": {
        "id": "01k_j0pkvTbH"
      },
      "source": [
        "## GoogleNet"
      ]
    },
    {
      "cell_type": "code",
      "execution_count": 26,
      "metadata": {
        "id": "30LTTnJWK6WL"
      },
      "outputs": [],
      "source": [
        "#!\n",
        "class GoogleNet(nn.Module):\n",
        "\n",
        "    def __init__(self, num_classes=3, act_fn_name=\"relu\", **kwargs):\n",
        "        super().__init__()\n",
        "        self.hparams = SimpleNamespace(num_classes=num_classes,\n",
        "                                       act_fn_name=act_fn_name,\n",
        "                                       act_fn=fn_by_name[act_fn_name])\n",
        "        self._create_network()\n",
        "        self._init_params()\n",
        "\n",
        "    def _create_network(self):\n",
        "        # A first convolution on the original image to scale up the channel size\n",
        "        self.input_net = nn.Sequential(\n",
        "            nn.Conv2d(1, 64, kernel_size=3, padding=1),\n",
        "            nn.BatchNorm2d(64),\n",
        "            self.hparams.act_fn()\n",
        "        )\n",
        "        # Stacking inception blocks\n",
        "        self.inception_blocks = nn.Sequential(\n",
        "            InceptionBlock(64, c_red={\"3x3\": 32, \"5x5\": 16}, c_out={\"1x1\": 16, \"3x3\": 32, \"5x5\": 8, \"max\": 8}, act_fn=self.hparams.act_fn),\n",
        "            InceptionBlock(64, c_red={\"3x3\": 32, \"5x5\": 16}, c_out={\"1x1\": 24, \"3x3\": 48, \"5x5\": 12, \"max\": 12}, act_fn=self.hparams.act_fn),\n",
        "            nn.MaxPool2d(3, stride=2, padding=1),  # 32x32 => 16x16\n",
        "            InceptionBlock(96, c_red={\"3x3\": 32, \"5x5\": 16}, c_out={\"1x1\": 24, \"3x3\": 48, \"5x5\": 12, \"max\": 12}, act_fn=self.hparams.act_fn),\n",
        "            InceptionBlock(96, c_red={\"3x3\": 32, \"5x5\": 16}, c_out={\"1x1\": 16, \"3x3\": 48, \"5x5\": 16, \"max\": 16}, act_fn=self.hparams.act_fn),\n",
        "            InceptionBlock(96, c_red={\"3x3\": 32, \"5x5\": 16}, c_out={\"1x1\": 16, \"3x3\": 48, \"5x5\": 16, \"max\": 16}, act_fn=self.hparams.act_fn),\n",
        "            InceptionBlock(96, c_red={\"3x3\": 32, \"5x5\": 16}, c_out={\"1x1\": 32, \"3x3\": 48, \"5x5\": 24, \"max\": 24}, act_fn=self.hparams.act_fn),\n",
        "            nn.MaxPool2d(3, stride=2, padding=1),  # 16x16 => 8x8\n",
        "            InceptionBlock(128, c_red={\"3x3\": 48, \"5x5\": 16}, c_out={\"1x1\": 32, \"3x3\": 64, \"5x5\": 16, \"max\": 16}, act_fn=self.hparams.act_fn),\n",
        "            InceptionBlock(128, c_red={\"3x3\": 48, \"5x5\": 16}, c_out={\"1x1\": 32, \"3x3\": 64, \"5x5\": 16, \"max\": 16}, act_fn=self.hparams.act_fn)\n",
        "        )\n",
        "        # Mapping to classification output\n",
        "        self.output_net = nn.Sequential(\n",
        "            nn.AdaptiveAvgPool2d((1, 1)),\n",
        "            nn.Flatten(),\n",
        "            nn.Linear(128, self.hparams.num_classes)\n",
        "        )\n",
        "\n",
        "    def _init_params(self):\n",
        "        # Based on our discussion in Tutorial 4, we should initialize the convolutions according to the activation function\n",
        "        for m in self.modules():\n",
        "            if isinstance(m, nn.Conv2d):\n",
        "                nn.init.kaiming_normal_(\n",
        "                    m.weight, nonlinearity=self.hparams.act_fn_name)\n",
        "            elif isinstance(m, nn.BatchNorm2d):\n",
        "                nn.init.constant_(m.weight, 1)\n",
        "                nn.init.constant_(m.bias, 0)\n",
        "\n",
        "    def forward(self, x):\n",
        "        x = self.input_net(x)\n",
        "        x = self.inception_blocks(x)\n",
        "        x = self.output_net(x)\n",
        "        return x\n",
        "\n",
        "model_dict[\"GoogleNet\"] = GoogleNet"
      ]
    },
    {
      "cell_type": "markdown",
      "metadata": {
        "id": "jVS6axPzvrsI"
      },
      "source": [
        "##Results"
      ]
    },
    {
      "cell_type": "code",
      "execution_count": null,
      "metadata": {
        "id": "KC3-sA4_ZqHO",
        "colab": {
          "base_uri": "https://localhost:8080/",
          "height": 327,
          "referenced_widgets": [
            "cc69e2d10e16489babac021af935dbf8",
            "f0cd10f52f584330a87e1a032f7c5eb7",
            "db4b9205825c429b8123a27118f7a437",
            "9bc2711fc1c5425ea5dceda89779ab72",
            "e39f8751e45b445caadbc2d24246e392",
            "58afcd4d900f4991a34efd273bb52bff",
            "8fbf47c85433462ab17eb41511063415",
            "ee8002dcc0964f8496e6bbff64d53a15",
            "3fa2632ecff94b648f285d89fade4a34",
            "ab6386cdd7b64ae8a77c44eb3f0b34f8",
            "218b19809a2c443caeac0041e4bd6d3b",
            "9751bd6bd7794cd1922e70aa916cef5b",
            "327e9d7301b242fdb7f5876f0beef0d6",
            "3a6b57879560433d99e6465391ad50d9",
            "3d557c516d334830b0ff2ca2a216d03b",
            "03f90d27c24c45e587346692458015ff",
            "ab53212ca4814a7694e588c8207694ee",
            "31333709461142ae9e457c1ab1f25223",
            "b0834380e5834f2cb63df912cc4a7b88",
            "856464b6bf784ac3885c3a4846bdaba6",
            "3cc18280a688402a9eccd837a910f657",
            "744d7ea0fd26434096bc95e60c707d19"
          ]
        },
        "outputId": "8c409672-657d-452c-8d2a-85b6e7962921"
      },
      "outputs": [
        {
          "output_type": "stream",
          "name": "stderr",
          "text": [
            "INFO:pytorch_lightning.utilities.rank_zero:GPU available: False, used: False\n",
            "INFO:pytorch_lightning.utilities.rank_zero:TPU available: False, using: 0 TPU cores\n",
            "INFO:pytorch_lightning.utilities.rank_zero:IPU available: False, using: 0 IPUs\n",
            "INFO:pytorch_lightning.utilities.rank_zero:HPU available: False, using: 0 HPUs\n"
          ]
        },
        {
          "output_type": "stream",
          "name": "stdout",
          "text": [
            "There is pretrained model: False\n"
          ]
        },
        {
          "output_type": "stream",
          "name": "stderr",
          "text": [
            "WARNING:pytorch_lightning.loggers.tensorboard:Missing logger folder: ../saved_models/GoogleNet3classes/lightning_logs\n",
            "INFO:pytorch_lightning.callbacks.model_summary:\n",
            "  | Name        | Type             | Params | In sizes       | Out sizes\n",
            "------------------------------------------------------------------------------\n",
            "0 | model       | GoogleNet        | 258 K  | [1, 1, 28, 28] | [1, 3]   \n",
            "1 | loss_module | CrossEntropyLoss | 0      | ?              | ?        \n",
            "------------------------------------------------------------------------------\n",
            "258 K     Trainable params\n",
            "0         Non-trainable params\n",
            "258 K     Total params\n",
            "1.034     Total estimated model params size (MB)\n"
          ]
        },
        {
          "output_type": "display_data",
          "data": {
            "text/plain": [
              "Sanity Checking: 0it [00:00, ?it/s]"
            ],
            "application/vnd.jupyter.widget-view+json": {
              "version_major": 2,
              "version_minor": 0,
              "model_id": "cc69e2d10e16489babac021af935dbf8"
            }
          },
          "metadata": {}
        },
        {
          "output_type": "display_data",
          "data": {
            "text/plain": [
              "Training: 0it [00:00, ?it/s]"
            ],
            "application/vnd.jupyter.widget-view+json": {
              "version_major": 2,
              "version_minor": 0,
              "model_id": "9751bd6bd7794cd1922e70aa916cef5b"
            }
          },
          "metadata": {}
        }
      ],
      "source": [
        "NomeModello=\"GoogleNet3classes\"\n",
        "\n",
        "googlenet_model, googlenet_results = train_model(model_name=\"GoogleNet\",\n",
        "                                                 save_name=NomeModello,\n",
        "                                                 model_hparams={\"num_classes\": 3,\n",
        "                                                                \"act_fn_name\": \"relu\"},\n",
        "                                                 optimizer_name=\"Adam\",\n",
        "                                                 optimizer_hparams={\"lr\": 1e-3,\n",
        "                                                                    \"weight_decay\": 1e-4})\n",
        "\n",
        "directory = os.path.join(CHECKPOINT_PATH, NomeModello, \"lightning_logs/version_0/checkpoints\")\n",
        "\n",
        "percorso_file = os.path.join(directory, \"finished.txt\")\n",
        "\n",
        "with open(percorso_file, \"w\") as file:\n",
        "    file.write(\".\")\n",
        "\n",
        "dir_tensorboard = os.path.join(CHECKPOINT_PATH, NomeModello, \"lightning_logs\")\n",
        "print(\"GoogleNet Results\", googlenet_results)\n",
        "# Load tensorboard extension\n",
        "%load_ext tensorboard\n",
        "\n",
        "# Opens tensorboard in notebook.\n",
        "%tensorboard --logdir dir_tensorboard --port 8000"
      ]
    },
    {
      "cell_type": "markdown",
      "metadata": {
        "id": "t5CA9SV8vtzD"
      },
      "source": [
        "#2nd"
      ]
    },
    {
      "cell_type": "code",
      "execution_count": null,
      "metadata": {
        "id": "lHAJH8vrTsJq"
      },
      "outputs": [],
      "source": [
        "shuffleSize = 10000\n",
        "batchSize = 255\n",
        "testSamples = 1000\n",
        "testData = []\n",
        "input_shape = (28, 28, 1)\n",
        "num_classes = 3\n",
        "\n",
        "# crea il modello CNN\n",
        "model = createCNNModel(input_shape, num_classes)\n",
        "\n",
        "\n",
        "\n",
        "trainDataset = tf.data.Dataset.from_tensor_slices((trainX, trainY)).shuffle(shuffleSize).batch(batchSize, drop_remainder=True)\n",
        "\n",
        "\n",
        "  # addestra il modello\n",
        "history = model.fit(trainDataset, epochs=5)\n",
        "\n",
        "\n",
        "acc = history.history['accuracy']\n",
        "epochs = range(1, len(acc) + 1)\n",
        "pyplot.plot(epochs, acc, 'bo', label='Training accuracy')\n",
        "pyplot.title('Training Accuracy')\n",
        "pyplot.xlabel('Epochs')\n",
        "pyplot.ylabel('Accuracy')\n",
        "pyplot.legend()\n",
        "pyplot.show()"
      ]
    },
    {
      "cell_type": "code",
      "execution_count": null,
      "metadata": {
        "id": "qz6Aal5Avlpz"
      },
      "outputs": [],
      "source": [
        "for key, value in classesDictonary.items():\n",
        "    testData.append(value[trainingSamples:trainingSamples+testSamples])\n",
        "\n",
        "for i in range(len(testData)):\n",
        "    numpy.random.shuffle(testData[i])\n",
        "\n",
        "numpyTestData = numpy.concatenate(testData)\n",
        "\n",
        "testX = numpyTestData[:, :784]\n",
        "testY = numpyTestData[:, -1].astype(\"int\")\n",
        "\n",
        "testX = testX.reshape(testX.shape[0], 28, 28, 1).astype(\"float32\") # reshape in immagini 28x28\n",
        "testX = (testX - 127.5) / 127.5 # normalizza i valori delle caratteristiche tra 0 e 1\n",
        "\n",
        "predictions = model.predict(testX)"
      ]
    },
    {
      "cell_type": "code",
      "execution_count": null,
      "metadata": {
        "id": "5VCtb7dIveBI"
      },
      "outputs": [],
      "source": [
        "num_examples = 100\n",
        "sample_indices = numpy.random.choice(len(testX), num_examples, replace=False)\n",
        "\n",
        "# creare una griglia di immagini\n",
        "fig, axs = pyplot.subplots(nrows=4, ncols=num_examples // 4, figsize=(20, 8))\n",
        "axs = axs.flatten()\n",
        "\n",
        "# plottare le immagini insieme alla loro etichetta prevista e quella corretta\n",
        "for i, idx in enumerate(sample_indices):\n",
        "    axs[i].imshow(testX[idx].reshape(28, 28), cmap='gray')\n",
        "    axs[i].axis('off')\n",
        "    axs[i].set_title(f\"True: {testY[idx]} \\n Pred: {numpy.argmax(predictions[idx])}\")\n",
        "\n",
        "# aumentare lo spazio tra le immagini\n",
        "pyplot.subplots_adjust(wspace=0.3, hspace=0.6)\n",
        "pyplot.show()"
      ]
    },
    {
      "cell_type": "code",
      "execution_count": null,
      "metadata": {
        "id": "4L6vahXHvSRb"
      },
      "outputs": [],
      "source": [
        "testY = keras.utils.to_categorical(testY, num_classes)\n",
        "\n",
        "testDataset = tf.data.Dataset.from_tensor_slices((testX, testY)).shuffle(shuffleSize).batch(batchSize, drop_remainder=True)\n",
        "\n",
        "testLoss, testAccuracy = model.evaluate(testDataset)\n",
        "print('Test loss:', testLoss)\n",
        "print('Test accuracy:', testAccuracy)"
      ]
    },
    {
      "cell_type": "code",
      "execution_count": null,
      "metadata": {
        "id": "aCwQymOHvR6f"
      },
      "outputs": [],
      "source": [
        "num_examples_err = 18\n",
        "\n",
        "# selezionare gli indici degli esempi per i quali la previsione è errata\n",
        "\n",
        "error_indices = (numpy.argmax(predictions, axis=1) != testY.argmax(axis=1)).nonzero()[0]\n",
        "\n",
        "# plottare le immagini errate insieme alla loro etichetta prevista e quella corretta\n",
        "for i, idx in enumerate(error_indices[:num_examples_err]):\n",
        "    pyplot.subplot(3, num_examples_err // 3, i+1)\n",
        "    pyplot.imshow(testX[idx].reshape(28, 28), cmap='gray')\n",
        "    pyplot.axis('off')\n",
        "    pyplot.title(f\"True: {testY[idx]} \\n Pred: {numpy.argmax(predictions[idx])}\")\n",
        "\n",
        "pyplot.subplots_adjust(wspace=0.5, hspace=0.5)\n",
        "pyplot.show()"
      ]
    }
  ],
  "metadata": {
    "accelerator": "GPU",
    "colab": {
      "collapsed_sections": [
        "CQ-jxRKJ9lDv",
        "qOU8PU4D2XlB",
        "Xvxh9LRie3yZ",
        "t5CA9SV8vtzD"
      ],
      "provenance": [],
      "gpuType": "T4",
      "authorship_tag": "ABX9TyNcDVITOMhlAW2xE4NbN5Aq",
      "include_colab_link": true
    },
    "kernelspec": {
      "display_name": "Python 3",
      "name": "python3"
    },
    "language_info": {
      "name": "python"
    },
    "widgets": {
      "application/vnd.jupyter.widget-state+json": {
        "cc69e2d10e16489babac021af935dbf8": {
          "model_module": "@jupyter-widgets/controls",
          "model_name": "HBoxModel",
          "model_module_version": "1.5.0",
          "state": {
            "_dom_classes": [],
            "_model_module": "@jupyter-widgets/controls",
            "_model_module_version": "1.5.0",
            "_model_name": "HBoxModel",
            "_view_count": null,
            "_view_module": "@jupyter-widgets/controls",
            "_view_module_version": "1.5.0",
            "_view_name": "HBoxView",
            "box_style": "",
            "children": [
              "IPY_MODEL_f0cd10f52f584330a87e1a032f7c5eb7",
              "IPY_MODEL_db4b9205825c429b8123a27118f7a437",
              "IPY_MODEL_9bc2711fc1c5425ea5dceda89779ab72"
            ],
            "layout": "IPY_MODEL_e39f8751e45b445caadbc2d24246e392"
          }
        },
        "f0cd10f52f584330a87e1a032f7c5eb7": {
          "model_module": "@jupyter-widgets/controls",
          "model_name": "HTMLModel",
          "model_module_version": "1.5.0",
          "state": {
            "_dom_classes": [],
            "_model_module": "@jupyter-widgets/controls",
            "_model_module_version": "1.5.0",
            "_model_name": "HTMLModel",
            "_view_count": null,
            "_view_module": "@jupyter-widgets/controls",
            "_view_module_version": "1.5.0",
            "_view_name": "HTMLView",
            "description": "",
            "description_tooltip": null,
            "layout": "IPY_MODEL_58afcd4d900f4991a34efd273bb52bff",
            "placeholder": "​",
            "style": "IPY_MODEL_8fbf47c85433462ab17eb41511063415",
            "value": "Sanity Checking DataLoader 0: 100%"
          }
        },
        "db4b9205825c429b8123a27118f7a437": {
          "model_module": "@jupyter-widgets/controls",
          "model_name": "FloatProgressModel",
          "model_module_version": "1.5.0",
          "state": {
            "_dom_classes": [],
            "_model_module": "@jupyter-widgets/controls",
            "_model_module_version": "1.5.0",
            "_model_name": "FloatProgressModel",
            "_view_count": null,
            "_view_module": "@jupyter-widgets/controls",
            "_view_module_version": "1.5.0",
            "_view_name": "ProgressView",
            "bar_style": "",
            "description": "",
            "description_tooltip": null,
            "layout": "IPY_MODEL_ee8002dcc0964f8496e6bbff64d53a15",
            "max": 2,
            "min": 0,
            "orientation": "horizontal",
            "style": "IPY_MODEL_3fa2632ecff94b648f285d89fade4a34",
            "value": 2
          }
        },
        "9bc2711fc1c5425ea5dceda89779ab72": {
          "model_module": "@jupyter-widgets/controls",
          "model_name": "HTMLModel",
          "model_module_version": "1.5.0",
          "state": {
            "_dom_classes": [],
            "_model_module": "@jupyter-widgets/controls",
            "_model_module_version": "1.5.0",
            "_model_name": "HTMLModel",
            "_view_count": null,
            "_view_module": "@jupyter-widgets/controls",
            "_view_module_version": "1.5.0",
            "_view_name": "HTMLView",
            "description": "",
            "description_tooltip": null,
            "layout": "IPY_MODEL_ab6386cdd7b64ae8a77c44eb3f0b34f8",
            "placeholder": "​",
            "style": "IPY_MODEL_218b19809a2c443caeac0041e4bd6d3b",
            "value": " 2/2 [00:03&lt;00:00,  1.79s/it]"
          }
        },
        "e39f8751e45b445caadbc2d24246e392": {
          "model_module": "@jupyter-widgets/base",
          "model_name": "LayoutModel",
          "model_module_version": "1.2.0",
          "state": {
            "_model_module": "@jupyter-widgets/base",
            "_model_module_version": "1.2.0",
            "_model_name": "LayoutModel",
            "_view_count": null,
            "_view_module": "@jupyter-widgets/base",
            "_view_module_version": "1.2.0",
            "_view_name": "LayoutView",
            "align_content": null,
            "align_items": null,
            "align_self": null,
            "border": null,
            "bottom": null,
            "display": "inline-flex",
            "flex": null,
            "flex_flow": "row wrap",
            "grid_area": null,
            "grid_auto_columns": null,
            "grid_auto_flow": null,
            "grid_auto_rows": null,
            "grid_column": null,
            "grid_gap": null,
            "grid_row": null,
            "grid_template_areas": null,
            "grid_template_columns": null,
            "grid_template_rows": null,
            "height": null,
            "justify_content": null,
            "justify_items": null,
            "left": null,
            "margin": null,
            "max_height": null,
            "max_width": null,
            "min_height": null,
            "min_width": null,
            "object_fit": null,
            "object_position": null,
            "order": null,
            "overflow": null,
            "overflow_x": null,
            "overflow_y": null,
            "padding": null,
            "right": null,
            "top": null,
            "visibility": "hidden",
            "width": "100%"
          }
        },
        "58afcd4d900f4991a34efd273bb52bff": {
          "model_module": "@jupyter-widgets/base",
          "model_name": "LayoutModel",
          "model_module_version": "1.2.0",
          "state": {
            "_model_module": "@jupyter-widgets/base",
            "_model_module_version": "1.2.0",
            "_model_name": "LayoutModel",
            "_view_count": null,
            "_view_module": "@jupyter-widgets/base",
            "_view_module_version": "1.2.0",
            "_view_name": "LayoutView",
            "align_content": null,
            "align_items": null,
            "align_self": null,
            "border": null,
            "bottom": null,
            "display": null,
            "flex": null,
            "flex_flow": null,
            "grid_area": null,
            "grid_auto_columns": null,
            "grid_auto_flow": null,
            "grid_auto_rows": null,
            "grid_column": null,
            "grid_gap": null,
            "grid_row": null,
            "grid_template_areas": null,
            "grid_template_columns": null,
            "grid_template_rows": null,
            "height": null,
            "justify_content": null,
            "justify_items": null,
            "left": null,
            "margin": null,
            "max_height": null,
            "max_width": null,
            "min_height": null,
            "min_width": null,
            "object_fit": null,
            "object_position": null,
            "order": null,
            "overflow": null,
            "overflow_x": null,
            "overflow_y": null,
            "padding": null,
            "right": null,
            "top": null,
            "visibility": null,
            "width": null
          }
        },
        "8fbf47c85433462ab17eb41511063415": {
          "model_module": "@jupyter-widgets/controls",
          "model_name": "DescriptionStyleModel",
          "model_module_version": "1.5.0",
          "state": {
            "_model_module": "@jupyter-widgets/controls",
            "_model_module_version": "1.5.0",
            "_model_name": "DescriptionStyleModel",
            "_view_count": null,
            "_view_module": "@jupyter-widgets/base",
            "_view_module_version": "1.2.0",
            "_view_name": "StyleView",
            "description_width": ""
          }
        },
        "ee8002dcc0964f8496e6bbff64d53a15": {
          "model_module": "@jupyter-widgets/base",
          "model_name": "LayoutModel",
          "model_module_version": "1.2.0",
          "state": {
            "_model_module": "@jupyter-widgets/base",
            "_model_module_version": "1.2.0",
            "_model_name": "LayoutModel",
            "_view_count": null,
            "_view_module": "@jupyter-widgets/base",
            "_view_module_version": "1.2.0",
            "_view_name": "LayoutView",
            "align_content": null,
            "align_items": null,
            "align_self": null,
            "border": null,
            "bottom": null,
            "display": null,
            "flex": "2",
            "flex_flow": null,
            "grid_area": null,
            "grid_auto_columns": null,
            "grid_auto_flow": null,
            "grid_auto_rows": null,
            "grid_column": null,
            "grid_gap": null,
            "grid_row": null,
            "grid_template_areas": null,
            "grid_template_columns": null,
            "grid_template_rows": null,
            "height": null,
            "justify_content": null,
            "justify_items": null,
            "left": null,
            "margin": null,
            "max_height": null,
            "max_width": null,
            "min_height": null,
            "min_width": null,
            "object_fit": null,
            "object_position": null,
            "order": null,
            "overflow": null,
            "overflow_x": null,
            "overflow_y": null,
            "padding": null,
            "right": null,
            "top": null,
            "visibility": null,
            "width": null
          }
        },
        "3fa2632ecff94b648f285d89fade4a34": {
          "model_module": "@jupyter-widgets/controls",
          "model_name": "ProgressStyleModel",
          "model_module_version": "1.5.0",
          "state": {
            "_model_module": "@jupyter-widgets/controls",
            "_model_module_version": "1.5.0",
            "_model_name": "ProgressStyleModel",
            "_view_count": null,
            "_view_module": "@jupyter-widgets/base",
            "_view_module_version": "1.2.0",
            "_view_name": "StyleView",
            "bar_color": null,
            "description_width": ""
          }
        },
        "ab6386cdd7b64ae8a77c44eb3f0b34f8": {
          "model_module": "@jupyter-widgets/base",
          "model_name": "LayoutModel",
          "model_module_version": "1.2.0",
          "state": {
            "_model_module": "@jupyter-widgets/base",
            "_model_module_version": "1.2.0",
            "_model_name": "LayoutModel",
            "_view_count": null,
            "_view_module": "@jupyter-widgets/base",
            "_view_module_version": "1.2.0",
            "_view_name": "LayoutView",
            "align_content": null,
            "align_items": null,
            "align_self": null,
            "border": null,
            "bottom": null,
            "display": null,
            "flex": null,
            "flex_flow": null,
            "grid_area": null,
            "grid_auto_columns": null,
            "grid_auto_flow": null,
            "grid_auto_rows": null,
            "grid_column": null,
            "grid_gap": null,
            "grid_row": null,
            "grid_template_areas": null,
            "grid_template_columns": null,
            "grid_template_rows": null,
            "height": null,
            "justify_content": null,
            "justify_items": null,
            "left": null,
            "margin": null,
            "max_height": null,
            "max_width": null,
            "min_height": null,
            "min_width": null,
            "object_fit": null,
            "object_position": null,
            "order": null,
            "overflow": null,
            "overflow_x": null,
            "overflow_y": null,
            "padding": null,
            "right": null,
            "top": null,
            "visibility": null,
            "width": null
          }
        },
        "218b19809a2c443caeac0041e4bd6d3b": {
          "model_module": "@jupyter-widgets/controls",
          "model_name": "DescriptionStyleModel",
          "model_module_version": "1.5.0",
          "state": {
            "_model_module": "@jupyter-widgets/controls",
            "_model_module_version": "1.5.0",
            "_model_name": "DescriptionStyleModel",
            "_view_count": null,
            "_view_module": "@jupyter-widgets/base",
            "_view_module_version": "1.2.0",
            "_view_name": "StyleView",
            "description_width": ""
          }
        },
        "9751bd6bd7794cd1922e70aa916cef5b": {
          "model_module": "@jupyter-widgets/controls",
          "model_name": "HBoxModel",
          "model_module_version": "1.5.0",
          "state": {
            "_dom_classes": [],
            "_model_module": "@jupyter-widgets/controls",
            "_model_module_version": "1.5.0",
            "_model_name": "HBoxModel",
            "_view_count": null,
            "_view_module": "@jupyter-widgets/controls",
            "_view_module_version": "1.5.0",
            "_view_name": "HBoxView",
            "box_style": "",
            "children": [
              "IPY_MODEL_327e9d7301b242fdb7f5876f0beef0d6",
              "IPY_MODEL_3a6b57879560433d99e6465391ad50d9",
              "IPY_MODEL_3d557c516d334830b0ff2ca2a216d03b"
            ],
            "layout": "IPY_MODEL_03f90d27c24c45e587346692458015ff"
          }
        },
        "327e9d7301b242fdb7f5876f0beef0d6": {
          "model_module": "@jupyter-widgets/controls",
          "model_name": "HTMLModel",
          "model_module_version": "1.5.0",
          "state": {
            "_dom_classes": [],
            "_model_module": "@jupyter-widgets/controls",
            "_model_module_version": "1.5.0",
            "_model_name": "HTMLModel",
            "_view_count": null,
            "_view_module": "@jupyter-widgets/controls",
            "_view_module_version": "1.5.0",
            "_view_name": "HTMLView",
            "description": "",
            "description_tooltip": null,
            "layout": "IPY_MODEL_ab53212ca4814a7694e588c8207694ee",
            "placeholder": "​",
            "style": "IPY_MODEL_31333709461142ae9e457c1ab1f25223",
            "value": "Epoch 0:  16%"
          }
        },
        "3a6b57879560433d99e6465391ad50d9": {
          "model_module": "@jupyter-widgets/controls",
          "model_name": "FloatProgressModel",
          "model_module_version": "1.5.0",
          "state": {
            "_dom_classes": [],
            "_model_module": "@jupyter-widgets/controls",
            "_model_module_version": "1.5.0",
            "_model_name": "FloatProgressModel",
            "_view_count": null,
            "_view_module": "@jupyter-widgets/controls",
            "_view_module_version": "1.5.0",
            "_view_name": "ProgressView",
            "bar_style": "",
            "description": "",
            "description_tooltip": null,
            "layout": "IPY_MODEL_b0834380e5834f2cb63df912cc4a7b88",
            "max": 117,
            "min": 0,
            "orientation": "horizontal",
            "style": "IPY_MODEL_856464b6bf784ac3885c3a4846bdaba6",
            "value": 19
          }
        },
        "3d557c516d334830b0ff2ca2a216d03b": {
          "model_module": "@jupyter-widgets/controls",
          "model_name": "HTMLModel",
          "model_module_version": "1.5.0",
          "state": {
            "_dom_classes": [],
            "_model_module": "@jupyter-widgets/controls",
            "_model_module_version": "1.5.0",
            "_model_name": "HTMLModel",
            "_view_count": null,
            "_view_module": "@jupyter-widgets/controls",
            "_view_module_version": "1.5.0",
            "_view_name": "HTMLView",
            "description": "",
            "description_tooltip": null,
            "layout": "IPY_MODEL_3cc18280a688402a9eccd837a910f657",
            "placeholder": "​",
            "style": "IPY_MODEL_744d7ea0fd26434096bc95e60c707d19",
            "value": " 19/117 [01:02&lt;05:21,  3.28s/it, v_num=0]"
          }
        },
        "03f90d27c24c45e587346692458015ff": {
          "model_module": "@jupyter-widgets/base",
          "model_name": "LayoutModel",
          "model_module_version": "1.2.0",
          "state": {
            "_model_module": "@jupyter-widgets/base",
            "_model_module_version": "1.2.0",
            "_model_name": "LayoutModel",
            "_view_count": null,
            "_view_module": "@jupyter-widgets/base",
            "_view_module_version": "1.2.0",
            "_view_name": "LayoutView",
            "align_content": null,
            "align_items": null,
            "align_self": null,
            "border": null,
            "bottom": null,
            "display": "inline-flex",
            "flex": null,
            "flex_flow": "row wrap",
            "grid_area": null,
            "grid_auto_columns": null,
            "grid_auto_flow": null,
            "grid_auto_rows": null,
            "grid_column": null,
            "grid_gap": null,
            "grid_row": null,
            "grid_template_areas": null,
            "grid_template_columns": null,
            "grid_template_rows": null,
            "height": null,
            "justify_content": null,
            "justify_items": null,
            "left": null,
            "margin": null,
            "max_height": null,
            "max_width": null,
            "min_height": null,
            "min_width": null,
            "object_fit": null,
            "object_position": null,
            "order": null,
            "overflow": null,
            "overflow_x": null,
            "overflow_y": null,
            "padding": null,
            "right": null,
            "top": null,
            "visibility": null,
            "width": "100%"
          }
        },
        "ab53212ca4814a7694e588c8207694ee": {
          "model_module": "@jupyter-widgets/base",
          "model_name": "LayoutModel",
          "model_module_version": "1.2.0",
          "state": {
            "_model_module": "@jupyter-widgets/base",
            "_model_module_version": "1.2.0",
            "_model_name": "LayoutModel",
            "_view_count": null,
            "_view_module": "@jupyter-widgets/base",
            "_view_module_version": "1.2.0",
            "_view_name": "LayoutView",
            "align_content": null,
            "align_items": null,
            "align_self": null,
            "border": null,
            "bottom": null,
            "display": null,
            "flex": null,
            "flex_flow": null,
            "grid_area": null,
            "grid_auto_columns": null,
            "grid_auto_flow": null,
            "grid_auto_rows": null,
            "grid_column": null,
            "grid_gap": null,
            "grid_row": null,
            "grid_template_areas": null,
            "grid_template_columns": null,
            "grid_template_rows": null,
            "height": null,
            "justify_content": null,
            "justify_items": null,
            "left": null,
            "margin": null,
            "max_height": null,
            "max_width": null,
            "min_height": null,
            "min_width": null,
            "object_fit": null,
            "object_position": null,
            "order": null,
            "overflow": null,
            "overflow_x": null,
            "overflow_y": null,
            "padding": null,
            "right": null,
            "top": null,
            "visibility": null,
            "width": null
          }
        },
        "31333709461142ae9e457c1ab1f25223": {
          "model_module": "@jupyter-widgets/controls",
          "model_name": "DescriptionStyleModel",
          "model_module_version": "1.5.0",
          "state": {
            "_model_module": "@jupyter-widgets/controls",
            "_model_module_version": "1.5.0",
            "_model_name": "DescriptionStyleModel",
            "_view_count": null,
            "_view_module": "@jupyter-widgets/base",
            "_view_module_version": "1.2.0",
            "_view_name": "StyleView",
            "description_width": ""
          }
        },
        "b0834380e5834f2cb63df912cc4a7b88": {
          "model_module": "@jupyter-widgets/base",
          "model_name": "LayoutModel",
          "model_module_version": "1.2.0",
          "state": {
            "_model_module": "@jupyter-widgets/base",
            "_model_module_version": "1.2.0",
            "_model_name": "LayoutModel",
            "_view_count": null,
            "_view_module": "@jupyter-widgets/base",
            "_view_module_version": "1.2.0",
            "_view_name": "LayoutView",
            "align_content": null,
            "align_items": null,
            "align_self": null,
            "border": null,
            "bottom": null,
            "display": null,
            "flex": "2",
            "flex_flow": null,
            "grid_area": null,
            "grid_auto_columns": null,
            "grid_auto_flow": null,
            "grid_auto_rows": null,
            "grid_column": null,
            "grid_gap": null,
            "grid_row": null,
            "grid_template_areas": null,
            "grid_template_columns": null,
            "grid_template_rows": null,
            "height": null,
            "justify_content": null,
            "justify_items": null,
            "left": null,
            "margin": null,
            "max_height": null,
            "max_width": null,
            "min_height": null,
            "min_width": null,
            "object_fit": null,
            "object_position": null,
            "order": null,
            "overflow": null,
            "overflow_x": null,
            "overflow_y": null,
            "padding": null,
            "right": null,
            "top": null,
            "visibility": null,
            "width": null
          }
        },
        "856464b6bf784ac3885c3a4846bdaba6": {
          "model_module": "@jupyter-widgets/controls",
          "model_name": "ProgressStyleModel",
          "model_module_version": "1.5.0",
          "state": {
            "_model_module": "@jupyter-widgets/controls",
            "_model_module_version": "1.5.0",
            "_model_name": "ProgressStyleModel",
            "_view_count": null,
            "_view_module": "@jupyter-widgets/base",
            "_view_module_version": "1.2.0",
            "_view_name": "StyleView",
            "bar_color": null,
            "description_width": ""
          }
        },
        "3cc18280a688402a9eccd837a910f657": {
          "model_module": "@jupyter-widgets/base",
          "model_name": "LayoutModel",
          "model_module_version": "1.2.0",
          "state": {
            "_model_module": "@jupyter-widgets/base",
            "_model_module_version": "1.2.0",
            "_model_name": "LayoutModel",
            "_view_count": null,
            "_view_module": "@jupyter-widgets/base",
            "_view_module_version": "1.2.0",
            "_view_name": "LayoutView",
            "align_content": null,
            "align_items": null,
            "align_self": null,
            "border": null,
            "bottom": null,
            "display": null,
            "flex": null,
            "flex_flow": null,
            "grid_area": null,
            "grid_auto_columns": null,
            "grid_auto_flow": null,
            "grid_auto_rows": null,
            "grid_column": null,
            "grid_gap": null,
            "grid_row": null,
            "grid_template_areas": null,
            "grid_template_columns": null,
            "grid_template_rows": null,
            "height": null,
            "justify_content": null,
            "justify_items": null,
            "left": null,
            "margin": null,
            "max_height": null,
            "max_width": null,
            "min_height": null,
            "min_width": null,
            "object_fit": null,
            "object_position": null,
            "order": null,
            "overflow": null,
            "overflow_x": null,
            "overflow_y": null,
            "padding": null,
            "right": null,
            "top": null,
            "visibility": null,
            "width": null
          }
        },
        "744d7ea0fd26434096bc95e60c707d19": {
          "model_module": "@jupyter-widgets/controls",
          "model_name": "DescriptionStyleModel",
          "model_module_version": "1.5.0",
          "state": {
            "_model_module": "@jupyter-widgets/controls",
            "_model_module_version": "1.5.0",
            "_model_name": "DescriptionStyleModel",
            "_view_count": null,
            "_view_module": "@jupyter-widgets/base",
            "_view_module_version": "1.2.0",
            "_view_name": "StyleView",
            "description_width": ""
          }
        }
      }
    }
  },
  "nbformat": 4,
  "nbformat_minor": 0
}